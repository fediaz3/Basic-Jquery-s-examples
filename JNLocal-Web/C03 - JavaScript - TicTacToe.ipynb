{
 "cells": [
  {
   "cell_type": "markdown",
   "metadata": {},
   "source": [
    "# Tic Tac Toe (o el \"Gato\")\n",
    "\n",
    "En este notebook implementaremos el juego del gato (o Tic-Tac-Toe) para practicar conceptos de Javascript."
   ]
  },
  {
   "cell_type": "markdown",
   "metadata": {},
   "source": [
    "## Desplegar el tablero\n",
    "\n",
    "Implemente la función que despliega el tablero en consola. Recuerde que puede recorrer el arreglo, o bien, utilizar las funciones que vio en el notebook anterior.\n",
    "\n",
    "Si el tablero contendrá los valores `x`, `o` o `null`. Si tiene `null` en alguna de sus casillas, se debe imprimir vacío."
   ]
  },
  {
   "cell_type": "code",
   "execution_count": 116,
   "metadata": {},
   "outputs": [],
   "source": [
    "/**\n",
    " * Displays the board game\n",
    " * @param {Array} board\n",
    " */\n",
    "function rec_col(value, index, array){\n",
    "    let impr = value;\n",
    "    if (value == null) impr = '';\n",
    "    if ( index == 0 ) {\n",
    "        process.stdout.write(` ${impr} |`)\n",
    "    } else if (index == array.length -1 ) {\n",
    "        console.log(`| ${impr} `)\n",
    "    } else {\n",
    "        process.stdout.write(` ${impr} `)\n",
    "    }\n",
    "    \n",
    "}\n",
    "\n",
    "function rec_fila(value, index, array){\n",
    "    array[index].forEach(rec_col)\n",
    "    console.log('-'.repeat(10))\n",
    "}\n",
    "\n",
    "function displayBoard(board) {\n",
    "    // BEGIN SOLUTION\n",
    "    board.forEach(rec_fila)\n",
    "    // END SOLUTION\n",
    "}"
   ]
  },
  {
   "cell_type": "markdown",
   "metadata": {},
   "source": [
    "Puedes probar tu función con el siguiente código:"
   ]
  },
  {
   "cell_type": "code",
   "execution_count": 33,
   "metadata": {},
   "outputs": [
    {
     "name": "stdout",
     "output_type": "stream",
     "text": [
      "x | o |  \n",
      "----------\n",
      "x | x |  \n",
      "----------\n",
      "o | o |  \n",
      "----------\n"
     ]
    }
   ],
   "source": [
    "var boardTest = [\n",
    "    ['x', 'o', null],\n",
    "    ['x', 'x', null],\n",
    "    ['o', 'o', null],\n",
    "];\n",
    "displayBoard(boardTest);"
   ]
  },
  {
   "cell_type": "markdown",
   "metadata": {},
   "source": [
    "**Valor Esperado:**  \n",
    "\n",
    "```\n",
    "x | o |  \n",
    "----------\n",
    "x | x |  \n",
    "----------\n",
    "o | o |  \n",
    "```"
   ]
  },
  {
   "cell_type": "markdown",
   "metadata": {},
   "source": [
    "## Marcar posición\n",
    "\n",
    "Complete el siguiente método para marcar una posición. Retorna `true` si se pudo marcar (estaba vacía) o `false` en caso contrario."
   ]
  },
  {
   "cell_type": "code",
   "execution_count": 38,
   "metadata": {},
   "outputs": [],
   "source": [
    "/**\n",
    " * Mark position on board game\n",
    " * @param {Array} board\n",
    " * @param {number} row\n",
    " * @param {number} column\n",
    " * @param {string} 'x' or 'o'\n",
    " * @returns {bolean} true if the space was empty, false in other case\n",
    " */\n",
    "function markPosition(board, row, column, mark) {\n",
    "    // BEGIN SOLUTION\n",
    "    if (board[row][column] == null) {\n",
    "        board[row][column] = mark;\n",
    "        return true\n",
    "    } else {\n",
    "        return false\n",
    "    }\n",
    "    // END SOLUTION\n",
    "}"
   ]
  },
  {
   "cell_type": "markdown",
   "metadata": {},
   "source": [
    "Puedes probar tu función con el siguiente código:"
   ]
  },
  {
   "cell_type": "code",
   "execution_count": 118,
   "metadata": {},
   "outputs": [
    {
     "name": "stdout",
     "output_type": "stream",
     "text": [
      " x | o |  \n",
      "----------\n",
      " x | x |  \n",
      "----------\n",
      " o | o |  \n",
      "----------\n",
      "false\n",
      "true\n",
      " x | o | o \n",
      "----------\n",
      " x | x |  \n",
      "----------\n",
      " o | o |  \n",
      "----------\n"
     ]
    }
   ],
   "source": [
    "var boardTest02 = [\n",
    "    ['x', 'o', null],\n",
    "    ['x', 'x', null],\n",
    "    ['o', 'o', null],\n",
    "];\n",
    "\n",
    "displayBoard(boardTest02);\n",
    "console.log(markPosition(boardTest02, 0, 0, 'x'));\n",
    "console.log(markPosition(boardTest02, 0, 2, 'o'));\n",
    "displayBoard(boardTest02);\n"
   ]
  },
  {
   "cell_type": "markdown",
   "metadata": {},
   "source": [
    "**Valor Esperado:**  \n",
    "```\n",
    "x | o |  \n",
    "----------\n",
    "x | x |  \n",
    "----------\n",
    "o | o |  \n",
    "false\n",
    "true\n",
    "x | o | o\n",
    "----------\n",
    "x | x |  \n",
    "----------\n",
    "o | o |  \n",
    "```"
   ]
  },
  {
   "cell_type": "markdown",
   "metadata": {},
   "source": [
    "## Determinar quién ganó\n",
    "\n",
    "También es importante saber quien ganó en este juego, para eso implemente la siguiente función que le permitirá saber quién ganó el juego.\n",
    "\n",
    "Para este caso, debe retornar `'x'`, `'o'` o `null`; si gana `x`, `o` o ninguno respectivamente."
   ]
  },
  {
   "cell_type": "code",
   "execution_count": 70,
   "metadata": {},
   "outputs": [],
   "source": [
    "/**\n",
    " * Returns who is the winner\n",
    " * @param {Array} board\n",
    " * @returns 'x' if player x wins, 'o' if player o wins or null in other case.\n",
    " */\n",
    "//p1: va ser los 'x'\n",
    "//p2: va ser los 'o'\n",
    "function check_horizontal(board){\n",
    "    for (let i = 0; i < board.length; i++ ) {\n",
    "        let p1 = 0; let p2 = 0;\n",
    "\n",
    "        for (let j = 0; i < board[0].length; i++){\n",
    "            if (board[i][j] == 'x') {\n",
    "                p1 += 1;\n",
    "            } else if (board[i][j] == 'o') {\n",
    "                p2 += 1;\n",
    "            } \n",
    "            \n",
    "            if ( (p1 == 3) || (p2 == 3)) {\n",
    "                if (p1 > p2){\n",
    "                    return 'x';\n",
    "                } else {\n",
    "                    return 'o';\n",
    "                }\n",
    "            }\n",
    "            \n",
    "        }\n",
    "    }\n",
    "}\n",
    "\n",
    "function check_vertical (board){\n",
    "    for (let j = 0; j < board[0].length; j++ ) {\n",
    "        // me paro en una columna\n",
    "        let p1 = 0; let p2 = 0;\n",
    "\n",
    "        for (let i = 0; i < board.length; i++){\n",
    "            // itero en filas. pq el j es constate, en este for\n",
    "            if (board[i][j] == 'x') {\n",
    "                p1 += 1;\n",
    "            } else if (board[i][j] == 'o') {\n",
    "                p2 += 1;\n",
    "            } \n",
    "            \n",
    "            if ( (p1 == 3) || (p2 == 3)) {\n",
    "                if (p1 > p2){\n",
    "                    return 'x';\n",
    "                } else {\n",
    "                    return 'o';\n",
    "                }\n",
    "            }\n",
    "        }\n",
    "    }\n",
    "}\n",
    "    \n",
    "\n",
    "\n",
    "function check_diagonal (board){\n",
    "    pos_m = (board.length - 1) / 2\n",
    "    medio  = board[pos_m][pos_m]\n",
    "    \n",
    "    if (board[pos_m - 1][pos_m + 1] == medio && board[pos_m + 1][pos_m - 1] == medio ) {\n",
    "        return medio\n",
    "    } else if ( board[pos_m - 1][pos_m - 1] == medio && board[pos_m + 1][pos_m + 1] == medio ){\n",
    "        return medio\n",
    "    } \n",
    "    \n",
    "        \n",
    "}\n",
    "\n",
    "function whoIsTheWinner(board) {\n",
    "    // BEGIN SOLUTION\n",
    "    h = check_horizontal(board);\n",
    "    v = check_vertical(board);\n",
    "    d = check_diagonal(board);\n",
    "    // supuesto, estoy revisando apenas ganó una persona -> no pueden haber dos ganadores\n",
    "    if (h == undefined && v == undefined && d == undefined) {\n",
    "        return null\n",
    "    } else {\n",
    "        if (h != undefined) return h\n",
    "        if (v != undefined) return v\n",
    "        if (d != undefined) return d\n",
    "    }\n",
    "    \n",
    "    // END SOLUTION\n",
    "}"
   ]
  },
  {
   "cell_type": "code",
   "execution_count": null,
   "metadata": {},
   "outputs": [],
   "source": []
  },
  {
   "cell_type": "markdown",
   "metadata": {},
   "source": [
    "Puedes probar tu función con el siguiente código:"
   ]
  },
  {
   "cell_type": "code",
   "execution_count": 72,
   "metadata": {},
   "outputs": [
    {
     "name": "stdout",
     "output_type": "stream",
     "text": [
      "null\n",
      "x\n",
      "o\n",
      "Lo agregué yo:\n",
      "o\n"
     ]
    }
   ],
   "source": [
    "var boardTest03 = [\n",
    "    ['x', 'o', null],\n",
    "    ['x', 'x', 'o'],\n",
    "    ['o', 'o', null],\n",
    "];\n",
    "console.log(whoIsTheWinner(boardTest03));\n",
    "\n",
    "var boardTest03b = [ // gana diagonal el 'x'\n",
    "    ['x', 'o', null],\n",
    "    ['x', 'x', null],\n",
    "    ['o', 'o', 'x'],\n",
    "];\n",
    "console.log(whoIsTheWinner(boardTest03b));\n",
    "\n",
    "var boardTest03b = [ // gana vertical el 'o'\n",
    "    ['x', 'o', null],\n",
    "    ['x', 'o', null],\n",
    "    ['o', 'o', 'x'],\n",
    "];\n",
    "console.log(whoIsTheWinner(boardTest03b));\n",
    "\n",
    "console.log('Lo agregué yo:')\n",
    "var boardTest03b = [ // gana horizontal el 'o'\n",
    "    ['x', 'o', null],\n",
    "    ['x', 'o', null],\n",
    "    ['o', 'o', 'o'],\n",
    "];\n",
    "console.log(whoIsTheWinner(boardTest03b));\n",
    "\n"
   ]
  },
  {
   "cell_type": "markdown",
   "metadata": {},
   "source": [
    "**Resultado esperado:**  \n",
    "```\n",
    "null\n",
    "x\n",
    "o\n",
    "```"
   ]
  },
  {
   "cell_type": "markdown",
   "metadata": {},
   "source": [
    "## Uniendo las piezas\n",
    "\n",
    "Ahora juntaremos todo lo anterior y realizaremos la simulación del juego\n",
    "\n",
    "Recuerde que:\n",
    "\n",
    "* Para generar un número entre `max` y `min`: `Math.floor(Math.random() * (max + 1)) + min;`"
   ]
  },
  {
   "cell_type": "code",
   "execution_count": 124,
   "metadata": {},
   "outputs": [
    {
     "ename": "SyntaxError",
     "evalue": "Unexpected token }",
     "output_type": "error",
     "traceback": [
      "evalmachine.<anonymous>:40",
      "}",
      "^",
      "",
      "SyntaxError: Unexpected token }",
      "    at new Script (vm.js:79:7)",
      "    at createScript (vm.js:251:10)",
      "    at Object.runInThisContext (vm.js:303:10)",
      "    at run ([eval]:1054:15)",
      "    at onRunRequest ([eval]:888:18)",
      "    at onMessage ([eval]:848:13)",
      "    at process.emit (events.js:182:13)",
      "    at emit (internal/child_process.js:812:12)",
      "    at process._tickCallback (internal/process/next_tick.js:63:19)"
     ]
    }
   ],
   "source": [
    "function playGameSimulation(){\n",
    "    \n",
    "    const MAX_NUMBER_OF_MOVES = 9;\n",
    "    \n",
    "    const board = [\n",
    "        [null, null, null],\n",
    "        [null, null, null],\n",
    "        [null, null, null],\n",
    "    ];\n",
    "    \n",
    "    let currentPlayer = 'x';\n",
    "    \n",
    "    // BEGIN SOLUTION\n",
    "\n",
    "    // Mientras hayan movimientos disponibles\n",
    "            \n",
    "        // Genero coordenadas de fila y columna al azar\n",
    "        let randomRow = undefined\n",
    "        let randomColumn = undefined\n",
    "        \n",
    "        // Trato de marcar en la posición de la fila y columna\n",
    "        {\n",
    "            //Si no puedo marcar en esa posición, genero nuevos valores para fila y columna,\n",
    "            // e intento realizar nuevamente la operación\n",
    "            \n",
    "        }\n",
    "        \n",
    "        // Reviso si hay un ganador\n",
    "        const winner = whoIsTheWinner(board);\n",
    "        if(winner) {\n",
    "            // Si existe muestro su marca, el tablero y termino\n",
    "            \n",
    "        }\n",
    "        \n",
    "        // Si no hay ganador, cambio la marca y muestro el tablero\n",
    "        \n",
    "    }\n",
    "    // END SOLUTION\n",
    "    \n",
    "}"
   ]
  },
  {
   "cell_type": "markdown",
   "metadata": {},
   "source": [
    "¡Puedes realizar una simulación con este código!"
   ]
  },
  {
   "cell_type": "code",
   "execution_count": 125,
   "metadata": {},
   "outputs": [
    {
     "name": "stdout",
     "output_type": "stream",
     "text": [
      "No hay ganador en este turno\n"
     ]
    }
   ],
   "source": [
    "playGameSimulation(); // lo resolví abajo"
   ]
  },
  {
   "cell_type": "code",
   "execution_count": 109,
   "metadata": {},
   "outputs": [],
   "source": [
    "function playGameSimulation2(){\n",
    "    \n",
    "    const MAX_NUMBER_OF_MOVES = 9;\n",
    "    \n",
    "    const board = [\n",
    "        [null, null, null],\n",
    "        [null, null, null],\n",
    "        [null, null, null],\n",
    "    ];\n",
    "    \n",
    "    let currentPlayer = 'x';\n",
    "    \n",
    "    // BEGIN SOLUTION\n",
    "    let count = 0;\n",
    "    // Mientras hayan movimientos disponibles\n",
    "    while (count < MAX_NUMBER_OF_MOVES){\n",
    "        // Genero coordenadas de fila y columna al azar\n",
    "        do {\n",
    "            let randomRow = Math.floor(Math.random() * ((board.length - 1)  + 1)) + 0;\n",
    "            let randomColumn = Math.floor(Math.random() * ((board.length - 1) + 1)) + 0;\n",
    "            var sepudo = markPosition(board, randomRow, randomColumn, currentPlayer);\n",
    "        } \n",
    "        while (sepudo == false);\n",
    "        \n",
    "                \n",
    "        // Trato de marcar en la posición de la fila y columna\n",
    "        \n",
    "            //Si no puedo marcar en esa posición, genero nuevos valores para fila y columna,\n",
    "            // e intento realizar nuevamente la operación\n",
    "            \n",
    "        \n",
    "        // Reviso si hay un ganador\n",
    "        const winner = whoIsTheWinner(board);\n",
    "        if(winner) {\n",
    "            console.log(winner, \"Ha ganado el Juego\");\n",
    "            displayBoard(board);\n",
    "            return\n",
    "            // Si existe muestro su marca, el tablero y termino\n",
    "\n",
    "        } else {\n",
    "            if (currentPlayer == 'x') {\n",
    "                currentPlayer = 'o';\n",
    "            } else if (currentPlayer == 'o'){\n",
    "                currentPLayer = 'x';\n",
    "            }\n",
    "            console.log(\"No hay ganador en este turno\")\n",
    "\n",
    "        }\n",
    "        count++\n",
    "    \n",
    "    \n",
    "        // Si no hay ganador, cambio la marca y muestro el tablero\n",
    "        \n",
    "    }\n",
    "            \n",
    "        \n",
    "        \n",
    "    }\n",
    "    // END SOLUTION\n",
    "    \n"
   ]
  },
  {
   "cell_type": "code",
   "execution_count": 119,
   "metadata": {},
   "outputs": [
    {
     "name": "stdout",
     "output_type": "stream",
     "text": [
      "No hay ganador en este turno\n",
      "No hay ganador en este turno\n",
      "No hay ganador en este turno\n",
      "No hay ganador en este turno\n",
      "No hay ganador en este turno\n",
      "No hay ganador en este turno\n",
      "o Ha ganado el Juego\n",
      " x | o | o \n",
      "----------\n",
      "  |  | o \n",
      "----------\n",
      " o | o | o \n",
      "----------\n"
     ]
    }
   ],
   "source": [
    "playGameSimulation2();"
   ]
  }
 ],
 "metadata": {
  "kernelspec": {
   "display_name": "Javascript (Node.js)",
   "language": "javascript",
   "name": "javascript"
  },
  "language_info": {
   "file_extension": ".js",
   "mimetype": "application/javascript",
   "name": "javascript",
   "version": "10.13.0"
  }
 },
 "nbformat": 4,
 "nbformat_minor": 2
}
