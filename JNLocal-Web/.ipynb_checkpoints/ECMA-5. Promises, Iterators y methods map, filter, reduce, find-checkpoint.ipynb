{
 "cells": [
  {
   "cell_type": "markdown",
   "metadata": {},
   "source": [
    "### Promises\n",
    "\n",
    "- Es una mejor forma de programación asíncrona (no estan sincronizados, no queremos efecto de paralelismo) en comparación con el modo común que consiste en utilizar un tipo de método `setTimeout` "
   ]
  },
  {
   "cell_type": "code",
   "execution_count": 14,
   "metadata": {},
   "outputs": [
    {
     "data": {
      "text/plain": [
       "Timeout {\n",
       "  _called: false,\n",
       "  _idleTimeout: 4000,\n",
       "  _idlePrev: [TimersList],\n",
       "  _idleNext: [TimersList],\n",
       "  _idleStart: 1193437,\n",
       "  _onTimeout: [Function],\n",
       "  _timerArgs: undefined,\n",
       "  _repeat: null,\n",
       "  _destroyed: false,\n",
       "  [Symbol(unrefed)]: false,\n",
       "  [Symbol(asyncId)]: 166,\n",
       "  [Symbol(triggerId)]: 163 }"
      ]
     },
     "execution_count": 14,
     "metadata": {},
     "output_type": "execute_result"
    },
    {
     "name": "stdout",
     "output_type": "stream",
     "text": [
      "Primerallamada\n"
     ]
    }
   ],
   "source": [
    "setTimeout(function() {console.log('Primerallamada')}, 4000); // la primera llamada a function: empieza despúes de 4 segundos"
   ]
  },
  {
   "cell_type": "code",
   "execution_count": 7,
   "metadata": {},
   "outputs": [
    {
     "name": "stdout",
     "output_type": "stream",
     "text": [
      "End\n",
      "Work 1\n",
      "Work 2\n"
     ]
    }
   ],
   "source": [
    "setTimeout(function() {\n",
    "    console.log(\"Work 1\");\n",
    "    setTimeout(function() {\n",
    "        console.log(\"Work 2\");\n",
    "    }, 2000)\n",
    "}, 2000) // 2000 milisegundos <-> 2segundos\n",
    "\n",
    "console.log('End')"
   ]
  },
  {
   "cell_type": "code",
   "execution_count": null,
   "metadata": {},
   "outputs": [],
   "source": [
    "// End -> Work1 -> Work2 , en ese orden , el trabajo se realiza de forma asíncrona.\n",
    "// Pero si hay más evento como este, el código se vuelve muy complejo."
   ]
  },
  {
   "cell_type": "markdown",
   "metadata": {},
   "source": [
    "~~~\n",
    "new Promise(function(resolver, rechazar) {\n",
    "    // Trabajo\n",
    "    if (exito)\n",
    "        resolver(resultado);\n",
    "    else\n",
    "        rechazar(Error(\"failure\"));\n",
    "})\n",
    "~~~"
   ]
  },
  {
   "cell_type": "code",
   "execution_count": 19,
   "metadata": {},
   "outputs": [
    {
     "name": "stdout",
     "output_type": "stream",
     "text": [
      "Fin\n",
      "Trabajo 1\n",
      "Trabajo 2\n"
     ]
    }
   ],
   "source": [
    "function asynFunc(trabajo) {\n",
    "    return new Promise(function (resolver, rechazar){\n",
    "        if (trabajo == \"\") \n",
    "            rechazar(console.log(\"Nada\"));\n",
    "        setTimeout(function() {\n",
    "            resolver(trabajo);\n",
    "        }, 2000)\n",
    "    })\n",
    "}\n",
    "\n",
    "asyncFunc(\"Trabajo 1\") // Tarea 1\n",
    ".then(function(resultado) {\n",
    "    console.log(resultado);\n",
    "    return asyncFunc(\"Trabajo 2\"); // Tarea 2\n",
    "}, function(error) {\n",
    "    console.log(error);\n",
    "})\n",
    "\n",
    ".then(function(resultado) {\n",
    "    console.log(resultado);\n",
    "}, function(error) {\n",
    "    console.log(error)\n",
    "});\n",
    "\n",
    "console.log(\"Fin\")\n"
   ]
  },
  {
   "cell_type": "markdown",
   "metadata": {},
   "source": [
    "### Iteradores y Generadores"
   ]
  },
  {
   "cell_type": "code",
   "execution_count": 17,
   "metadata": {},
   "outputs": [
    {
     "name": "stdout",
     "output_type": "stream",
     "text": [
      "{ [Symbol(Symbol.iterator)]: [GeneratorFunction: [Symbol.iterator]] }\n",
      "[ 1, 2, 'hola' ]\n"
     ]
    }
   ],
   "source": [
    "// ITERADOR:\n",
    "\n",
    "// funcion generadora(tiene un asterico)\n",
    "// para llenar el iterador con valores\n",
    "var iterable = {\n",
    "    [Symbol.iterator] : function* () { \n",
    "        yield 1, yield 2, yield 'hola';\n",
    "    }\n",
    "}\n",
    "\n",
    "console.log(iterable)\n",
    "console.log([...iterable])\n"
   ]
  },
  {
   "cell_type": "code",
   "execution_count": 29,
   "metadata": {},
   "outputs": [
    {
     "name": "stdout",
     "output_type": "stream",
     "text": [
      "0\n",
      "1\n",
      "2\n",
      "3\n",
      "4\n",
      "undefined\n",
      "undefined\n",
      "undefined\n"
     ]
    }
   ],
   "source": [
    "// FUNCION GENERADORA: ( se le agrega un asterisco a function*)\n",
    "\n",
    "function* marcaID() {\n",
    "    var i = 0;\n",
    "    while (i < 5){\n",
    "        yield i++\n",
    "    }\n",
    "}\n",
    "\n",
    "var fgeneradora = marcaID(); // cada vez que hago next: se ejecuta la funcion.\n",
    "                             // retornando lo de yield, pero el i se va acordando.\n",
    "\n",
    "console.log(fgeneradora.next().value)\n",
    "console.log(fgeneradora.next().value)\n",
    "console.log(fgeneradora.next().value)\n",
    "console.log(fgeneradora.next().value)\n",
    "console.log(fgeneradora.next().value)\n",
    "console.log(fgeneradora.next().value)\n",
    "console.log(fgeneradora.next().value)\n",
    "console.log(fgeneradorar.next().value)"
   ]
  },
  {
   "cell_type": "code",
   "execution_count": 21,
   "metadata": {},
   "outputs": [
    {
     "name": "stdout",
     "output_type": "stream",
     "text": [
      "[ '0', '1', '4', 'a', '9', 'c', '16' ]\n",
      "10\n"
     ]
    }
   ],
   "source": [
    "var array = ['0', '1', '4', 'a', '9', 'c', '16'];\n",
    "var my_obje = {\n",
    "  [Symbol.iterator]: function*() {\n",
    "    for(let index of array) {\n",
    "      yield `${index}`;\n",
    "    }\n",
    "  }\n",
    "};\n",
    "console.log([...my_obje])\n",
    "var alll = [...my_obje]\n",
    "  .map(i => parseInt(i, 10)) \n",
    "  .map(Math.sqrt)\n",
    "  .filter((i) => i < 5)\n",
    "  .reduce((i, d) => i + d);\n",
    "console.log(alll)"
   ]
  },
  {
   "cell_type": "markdown",
   "metadata": {},
   "source": [
    "# EJEMPLO UTIL DE USO, para: mapear, filtrar y reducir una lista "
   ]
  },
  {
   "cell_type": "code",
   "execution_count": 39,
   "metadata": {},
   "outputs": [
    {
     "name": "stdout",
     "output_type": "stream",
     "text": [
      "[ '0', '1', '4', 'a', '9', 'c', '16' ]\n",
      "{ [Symbol(Symbol.iterator)]: [GeneratorFunction: [Symbol.iterator]] }\n",
      "[ '0', '1', '4', 'a', '9', 'c', '16' ]\n",
      "10\n",
      "--\n",
      "10\n"
     ]
    }
   ],
   "source": [
    "// EN ITERADORES :\n",
    "var iterador = {\n",
    "    [Symbol.iterator] : function*() {\n",
    "        for (var i of lista) {\n",
    "            yield `${i}`;\n",
    "        }\n",
    "    }\n",
    "};\n",
    "\n",
    "console.log(lista) // imprime lista\n",
    "console.log(iterador) // print iterador\n",
    "console.log([...iterador]) // muetra elementos del iterador\n",
    "\n",
    "//\n",
    "\n",
    "var todos = [...iterador].map(elem => parseInt(elem, 10)) // string -> entero de base 10\n",
    "                         .map(Math.sqrt)\n",
    "                         .filter( (elem) => elem < 5 )\n",
    "                         .reduce( (total, elem) => total + elem);\n",
    "\n",
    "\n",
    "console.log(todos)\n",
    "console.log('--')\n",
    "// EN ARRAY NORMAL TAMBIEN SE PUEDE XD\n",
    "var lista =  ['0', '1', '4', 'a', '9', 'c', '16'];\n",
    "var resultado = lista.map(elem => parseInt(elem, 10)) // string -> entero de base 10\n",
    "                         .map(Math.sqrt)\n",
    "                         .filter( (elem) => elem < 5 )\n",
    "                         .reduce( (total, elem) => total + elem);\n",
    "console.log(resultado)"
   ]
  },
  {
   "cell_type": "markdown",
   "metadata": {},
   "source": [
    "## TIPS"
   ]
  },
  {
   "cell_type": "markdown",
   "metadata": {},
   "source": [
    "- los modulos son independientes entre ellos.\n",
    "- cuando se reutiliza codigo de otros proyectos, los modulos hacen posible reutilzar facilmente el codigo sin tener que reescribirlo en un proyecto nuevo"
   ]
  },
  {
   "cell_type": "code",
   "execution_count": 35,
   "metadata": {},
   "outputs": [
    {
     "data": {
      "text/plain": [
       "[ 1, 4, 9, 16, 25, 36, 49 ]"
      ]
     },
     "execution_count": 35,
     "metadata": {},
     "output_type": "execute_result"
    }
   ],
   "source": [
    "[1, 2, 3, 4, 5, 6, 7].map( x => x**2 ) // x = valuey la 2 da parte es como el return x**2\n"
   ]
  },
  {
   "cell_type": "code",
   "execution_count": 40,
   "metadata": {},
   "outputs": [
    {
     "data": {
      "text/plain": [
       "28"
      ]
     },
     "execution_count": 40,
     "metadata": {},
     "output_type": "execute_result"
    }
   ],
   "source": [
    "[1, 2, 3, 4, 5, 6, 7].reduce( (total, value) => total + value ) "
   ]
  },
  {
   "cell_type": "markdown",
   "metadata": {},
   "source": [
    "### Filter y Find según condiciones"
   ]
  },
  {
   "cell_type": "code",
   "execution_count": 30,
   "metadata": {},
   "outputs": [
    {
     "data": {
      "text/plain": [
       "[ 4, 5, 6, 7 ]"
      ]
     },
     "execution_count": 30,
     "metadata": {},
     "output_type": "execute_result"
    }
   ],
   "source": [
    "[1, 2, 3, 4, 5, 6, 7].filter(function (x) {return x > 3}) \n"
   ]
  },
  {
   "cell_type": "code",
   "execution_count": 34,
   "metadata": {},
   "outputs": [
    {
     "data": {
      "text/plain": [
       "[ 4, 5, 6, 7 ]"
      ]
     },
     "execution_count": 34,
     "metadata": {},
     "output_type": "execute_result"
    }
   ],
   "source": [
    "[1, 2, 3, 4, 5, 6, 7].filter( x => x > 3 ) "
   ]
  },
  {
   "cell_type": "code",
   "execution_count": 55,
   "metadata": {},
   "outputs": [
    {
     "data": {
      "text/plain": [
       "4.5"
      ]
     },
     "execution_count": 55,
     "metadata": {},
     "output_type": "execute_result"
    }
   ],
   "source": [
    "[1, 2, 3, 4.5, 5, 6, 7].find(x => x > 3); // Encuentra el primer elemento que es mayor que 3"
   ]
  },
  {
   "cell_type": "code",
   "execution_count": 57,
   "metadata": {},
   "outputs": [
    {
     "data": {
      "text/plain": [
       "3"
      ]
     },
     "execution_count": 57,
     "metadata": {},
     "output_type": "execute_result"
    }
   ],
   "source": [
    "[1, 2, 3, 4.5, 5, 6, 7].findIndex(x => x > 3); // Encuentra el indice\n",
    "                                            // del primer elemento que es mayor que 3"
   ]
  },
  {
   "cell_type": "code",
   "execution_count": 5,
   "metadata": {},
   "outputs": [
    {
     "name": "stdout",
     "output_type": "stream",
     "text": [
      "[ 0, 0, 0, 0, 0, 0, 0 ]\n"
     ]
    }
   ],
   "source": [
    "var sin_goles = [0, 0, 0, 0, 0, 1, 1, 0, 0].filter(x => x == 0);\n",
    "console.log(sin_goles)\n"
   ]
  },
  {
   "cell_type": "markdown",
   "metadata": {},
   "source": [
    "### Metodos de Strings\n"
   ]
  },
  {
   "cell_type": "code",
   "execution_count": 58,
   "metadata": {},
   "outputs": [
    {
     "name": "stdout",
     "output_type": "stream",
     "text": [
      "WENAWENAWENAWENAWENAWENAWENAWENAWENAWENAWENAWENAWENAWENAWENAWENAWENAWENAWENAWENAWENAWENAWENAWENAWENAWENAWENAWENAWENAWENAWENAWENAWENAWENAWENAWENAWENAWENAWENAWENAWENAWENAWENAWENAWENAWENAWENAWENAWENAWENA\n",
      "--------------------------------------------------\n"
     ]
    }
   ],
   "source": [
    "console.log(\"WENA\".repeat(50))\n",
    "console.log(\"-\".repeat(50))"
   ]
  },
  {
   "cell_type": "code",
   "execution_count": 68,
   "metadata": {},
   "outputs": [
    {
     "name": "stdout",
     "output_type": "stream",
     "text": [
      "2 'wena' 'sepuedeimprimir' 'varios'\n",
      "-1\n"
     ]
    }
   ],
   "source": [
    "string = 'Fabian'\n",
    "console.log(string.indexOf('bi'), 'wena', 'sepuedeimprimir', 'varios')\n",
    "\n",
    "console.log(string.indexOf('bi', 3)) // busca 'bi' en el string 'fabian' desde la posicion i = 5\n",
    "// -1, si no está\n",
    "\n"
   ]
  }
 ],
 "metadata": {
  "kernelspec": {
   "display_name": "Javascript (Node.js)",
   "language": "javascript",
   "name": "javascript"
  },
  "language_info": {
   "file_extension": ".js",
   "mimetype": "application/javascript",
   "name": "javascript",
   "version": "10.13.0"
  }
 },
 "nbformat": 4,
 "nbformat_minor": 2
}
