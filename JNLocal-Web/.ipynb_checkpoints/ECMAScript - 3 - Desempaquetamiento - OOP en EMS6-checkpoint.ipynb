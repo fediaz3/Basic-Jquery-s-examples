{
 "cells": [
  {
   "cell_type": "markdown",
   "metadata": {},
   "source": [
    "### Pasar cualquier cantidad de argumentos a una función (Rest)\n",
    "\n",
    "\n",
    "- ANTES: accediamos a los argumentos con el objeto `arguments`, que retorna un array con los argumentos \n",
    "\n",
    "- AHORA: el pametro `...nums` se le dice parametro 'rest' , pq code todos los argumentos 'adicionales' pasados a la funcion y para acceder a ellos llamamos a `nums` envpes de `arguments`\n",
    "\n",
    "\n",
    "\n",
    "\n",
    "- Recordar que: si se pasan más parametro de los que pide -> se pueden consultar en el objeto `arguments`\n",
    "- Recordar que: si se pasan menos parametros de los que se pide -> los paraemtros que faltan se les asigna `undefined`"
   ]
  },
  {
   "cell_type": "code",
   "execution_count": 45,
   "metadata": {},
   "outputs": [
    {
     "name": "stdout",
     "output_type": "stream",
     "text": [
      "[Arguments] { '0': 2, '1': 4, '2': 7 }\n",
      "2\n",
      "4\n",
      "7\n",
      "--------------------\n",
      "[Arguments] { '0': 6, '1': 4, '2': 9, '3': 10, '4': 120, '5': 30 }\n",
      "6\n",
      "4\n",
      "9\n",
      "10\n",
      "120\n",
      "30\n",
      "--------------------\n",
      "1 2 3 4 5\n",
      "1\n",
      "2\n",
      "3\n",
      "4\n",
      "5\n"
     ]
    }
   ],
   "source": [
    "function funcionparametros() {\n",
    "  console.log(arguments)\n",
    "  for (let i = 0; i < arguments.length; i++) {\n",
    "    console.log(arguments[i]) \n",
    "  }   \n",
    "}\n",
    "funcionparametros(2, 4, 7)\n",
    "console.log('--------------------')\n",
    "\n",
    "funcionparametros(6, 4, 9, 10, 120, 30)\n",
    "\n",
    "console.log('--------------------')\n",
    "// AHORA:\n",
    "function funcionparametros2(...nums){ \n",
    "    console.log(...nums)\n",
    "    for (var value of nums){\n",
    "        console.log(value)\n",
    "    }\n",
    "}\n",
    "\n",
    "funcionparametros2(1, 2, 3, 4, 5)"
   ]
  },
  {
   "cell_type": "code",
   "execution_count": 50,
   "metadata": {},
   "outputs": [
    {
     "name": "stdout",
     "output_type": "stream",
     "text": [
      "1 2 3\n",
      "1 2 undefined\n",
      "1 2 3\n",
      "--\n",
      "[Arguments] { '0': 1, '1': 2, '2': 3 }\n",
      "[Arguments] { '0': 1, '1': 2 }\n",
      "[Arguments] { '0': 1, '1': 2, '2': 3, '3': 4 }\n",
      "--\n",
      "2 3\n",
      "2\n",
      "2 3 4\n"
     ]
    }
   ],
   "source": [
    "var funcionejemplo = (p1, p2, p3) => {console.log(p1, p2, p3); return true};\n",
    "funcionejemplo(1, 2, 3)\n",
    "funcionejemplo(1, 2)\n",
    "funcionejemplo(1, 2, 3, 4)\n",
    "\n",
    "console.log('--')\n",
    "function funcionejemplo2(p1, p2, p3){\n",
    "    console.log(arguments)\n",
    "}\n",
    "\n",
    "funcionejemplo2(1, 2, 3)\n",
    "funcionejemplo2(1, 2)\n",
    "funcionejemplo2(1, 2, 3, 4)\n",
    "\n",
    "// var funcionejemplo3 = (p1, p2, p3) => {console.log(arguments)}; // arguments, no sirve en funcion flecha, tira error.\n",
    "\n",
    "console.log('--')\n",
    "var funcionejemplo5 = (p1, ...nums) => {console.log(...nums)}; // sin importar el numero de argumentos q pase\n",
    "funcionejemplo5(1, 2, 3)\n",
    "funcionejemplo5(1, 2)\n",
    "funcionejemplo5(1, 2, 3, 4)\n",
    "// ...nums: agarra tiene es un objeto que tiene todos los parametros adicionales pasados ala funcion. :D"
   ]
  },
  {
   "cell_type": "markdown",
   "metadata": {},
   "source": [
    "### Pasar elementos de un array como argumentos en una función (Spread)\n",
    "\n",
    "- `...lista`  y la lista se desempaqueta sola y los valores se asignan a los argumentos de la funcion"
   ]
  },
  {
   "cell_type": "code",
   "execution_count": 65,
   "metadata": {},
   "outputs": [
    {
     "name": "stdout",
     "output_type": "stream",
     "text": [
      "1 2 3 4\n"
     ]
    }
   ],
   "source": [
    "function funcion1(v1, v2, v3, v4){\n",
    "    console.log(v1, v2, v3, v4);\n",
    "}\n",
    "\n",
    "var lista = [1, 2, 3, 4]\n",
    "\n",
    "funcion1(...lista)"
   ]
  },
  {
   "cell_type": "code",
   "execution_count": 68,
   "metadata": {},
   "outputs": [
    {
     "name": "stdout",
     "output_type": "stream",
     "text": [
      "[ 1, 2, 3, 4, 5, 6, 7, 8 ]\n"
     ]
    }
   ],
   "source": [
    "var lista_medio = [4, 5];\n",
    "\n",
    "var lista_original = [1, 2, 3, 6, 7, 8];\n",
    "// quiero agregar al medio la lista del medio\n",
    "\n",
    "var lista_original = [1, 2, 3, ...lista_medio, 6, 7, 8]\n",
    "console.log(lista_original)\n"
   ]
  },
  {
   "cell_type": "markdown",
   "metadata": {},
   "source": [
    "## Clases en ES6"
   ]
  },
  {
   "cell_type": "code",
   "execution_count": 92,
   "metadata": {},
   "outputs": [],
   "source": [
    "class Rectang {\n",
    "    constructor(ancho , largo){\n",
    "        this.ancho = ancho;\n",
    "        this.largo = largo;\n",
    "    }\n",
    "    \n",
    "    get area(){ // es un getter: define un atributo y cómo se accede a él.\n",
    "        return this.calcular_area();\n",
    "    }\n",
    "    \n",
    "    calcular_area() { // metodo prototype (metodo normal)\n",
    "        return this.ancho * this.largo\n",
    "    }\n",
    "    \n",
    "    static saludar() { // metodo de clase\n",
    "        return 'Hola soy un Rectangulo :D'\n",
    "    }\n",
    "}\n",
    "// solamente ejecutar una vez el constructor\n",
    "\n",
    "var cuadrado = new Rectang(5, 5);\n",
    "var rectangulito = new Rectang(0.5, 1);\n",
    "\n",
    "// ignorar este output, era otra cosa nada que ver, pero el codigo esta bien"
   ]
  },
  {
   "cell_type": "code",
   "execution_count": 96,
   "metadata": {},
   "outputs": [
    {
     "name": "stdout",
     "output_type": "stream",
     "text": [
      "Rectang { ancho: 5, largo: 5 }\n",
      "Rectang { ancho: 0.5, largo: 1 }\n",
      "25\n",
      "25\n",
      "Hola soy un Rectangulo :D\n"
     ]
    }
   ],
   "source": [
    "console.log(cuadrado)\n",
    "console.log(rectangulito)\n",
    "\n",
    "console.log(cuadrado.area) // actua el getter\n",
    "\n",
    "console.log(cuadrado.calcular_area()) // metodo normal\n",
    "\n",
    "console.log(Rectang.saludar()) // metodo de clase"
   ]
  },
  {
   "cell_type": "code",
   "execution_count": 81,
   "metadata": {},
   "outputs": [
    {
     "name": "stdout",
     "output_type": "stream",
     "text": [
      "Rectangulo { ancho: 1, largo: 1 }\n",
      "Rectangulo { ancho: 2, largo: 2 }\n"
     ]
    }
   ],
   "source": [
    "var Cuadrado =  class Rectangulo {\n",
    "    constructor(ancho, largo){\n",
    "        this.ancho = ancho;\n",
    "        this.largo = largo;\n",
    "    }\n",
    "};\n",
    "\n",
    "c1 = new Cuadrado(1,1)  // para crear objetos Rectangulo con además otro nombre.\n",
    "console.log(c1)\n",
    "\n",
    "c2 = new Rectangulo(2, 2)\n",
    "console.log(c2)"
   ]
  },
  {
   "cell_type": "code",
   "execution_count": 87,
   "metadata": {},
   "outputs": [
    {
     "name": "stdout",
     "output_type": "stream",
     "text": [
      "Cuaderno { ancho: 2, largo: 2 }\n"
     ]
    }
   ],
   "source": [
    "// Otra forma de definir clases\n",
    "var Cuaderno =  class {\n",
    "    constructor(ancho, largo){\n",
    "        this.ancho = ancho;\n",
    "        this.largo = largo;\n",
    "    }\n",
    "};\n",
    "\n",
    "cuad1 = new Cuaderno(2, 2);\n",
    "console.log(cuad1)\n",
    "\n"
   ]
  },
  {
   "cell_type": "markdown",
   "metadata": {},
   "source": [
    "### Herencia en ES6"
   ]
  },
  {
   "cell_type": "code",
   "execution_count": 100,
   "metadata": {},
   "outputs": [],
   "source": [
    "class Mamifero {\n",
    "    constructor(name){\n",
    "        this.name = name;\n",
    "    }\n",
    "    \n",
    "    speak() {\n",
    "        console.log(`${this.name} hace un ruido`)\n",
    "    }\n",
    "}\n",
    "\n",
    "class Perro extends Mamifero{ // Dog < Mamifero en ruby , Dog hereda atributos y metodos de Mamifero\n",
    "    speak() { // overriding del método\n",
    "        console.log(`${this.name} dice: Guau Guau!`)\n",
    "    }\n",
    "}\n"
   ]
  },
  {
   "cell_type": "code",
   "execution_count": 102,
   "metadata": {},
   "outputs": [
    {
     "name": "stdout",
     "output_type": "stream",
     "text": [
      "Rex dice: Guau Guau!\n"
     ]
    }
   ],
   "source": [
    "var p1 = new Perro('Rex');\n",
    "p1.speak()"
   ]
  },
  {
   "cell_type": "code",
   "execution_count": 122,
   "metadata": {},
   "outputs": [],
   "source": [
    "class Mamiferox {\n",
    "    constructor(name){\n",
    "        this.name = name;\n",
    "    }\n",
    "    \n",
    "    speak() {\n",
    "        console.log(`${this.name} hace un ruido`)\n",
    "    }\n",
    "}\n",
    "\n",
    "class Perrox extends Mamiferox { \n",
    "    constructor(name, cola){ // constructor + super: para heredar atributos y agregar otros.\n",
    "        super(name)  //\n",
    "        this.cola = cola;\n",
    "        \n",
    "    }\n",
    "    \n",
    "    speak() {         // overriding del método\n",
    "        super.speak() // super.metodo() #llama al método del padre.\n",
    "        console.log(`${this.name} dice: Guau Guau!`)\n",
    "    }\n",
    "}\n",
    "\n",
    "var p4 = new Perrox('Rex', true);\n"
   ]
  },
  {
   "cell_type": "code",
   "execution_count": 126,
   "metadata": {},
   "outputs": [
    {
     "name": "stdout",
     "output_type": "stream",
     "text": [
      "Rex\n",
      "true\n",
      "Rex hace un ruido\n",
      "Rex dice: Guau Guau!\n"
     ]
    }
   ],
   "source": [
    "console.log(p4.name)\n",
    "console.log(p4.cola)\n",
    "\n",
    "p4.speak()\n"
   ]
  }
 ],
 "metadata": {
  "kernelspec": {
   "display_name": "Javascript (Node.js)",
   "language": "javascript",
   "name": "javascript"
  },
  "language_info": {
   "file_extension": ".js",
   "mimetype": "application/javascript",
   "name": "javascript",
   "version": "10.13.0"
  }
 },
 "nbformat": 4,
 "nbformat_minor": 2
}
