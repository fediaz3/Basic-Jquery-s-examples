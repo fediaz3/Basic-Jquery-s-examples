{
 "cells": [
  {
   "cell_type": "markdown",
   "metadata": {},
   "source": [
    "# Preguntas Prácticas"
   ]
  },
  {
   "cell_type": "markdown",
   "metadata": {},
   "source": [
    "## Parte A"
   ]
  },
  {
   "cell_type": "markdown",
   "metadata": {},
   "source": [
    "##### (1 pt) Indica el output del programa ¿Es siempre el mismo? ¿Por qué?"
   ]
  },
  {
   "cell_type": "markdown",
   "metadata": {},
   "source": [
    "// R:suponiendo a planet = 'Earth'\n",
    "//el output del programa es:\n",
    "\n",
    "~~~\n",
    "> Obteniendo la información....\n",
    "> Distancia al sol: 1.5\n",
    "> Satelites: ['Moon']\n",
    "> {name: 'Earth', distanceFromSun: 1.5, satellites: ['Moon']}\n",
    "~~~"
   ]
  },
  {
   "cell_type": "markdown",
   "metadata": {},
   "source": [
    "No siempre va ser el mismo output, porque si las funciones asíncroncas se demoran más, los mensajes se van a mostrar desordenados.\n",
    "\n",
    "(puede ser que el input sea:\n",
    "\n",
    "~~~\n",
    "> Obteniendo la información....\n",
    "> {name: 'Earth', distanceFromSun: 1.5, satellites:['Moon']}\n",
    "> Distancia al sol: 1.5\n",
    "> Satelites: ['Moon']\n",
    "~~~\n",
    "\n",
    "u otro orden, todo depende de cuanto se demoren las funciones asíncronas (que son las que requieren un tiempo para ejecutarse)"
   ]
  },
  {
   "cell_type": "markdown",
   "metadata": {},
   "source": [
    "### (3 pts) Decidiste que no quieres usar callbacks, quieres usar promesas. \n",
    "\n",
    "Ahora el objetoplanetInfo tiene dos métodos nuevos que son:\n",
    "– getDistanceFromSunPromise(planet)\n",
    "– getSatellitesNamesPromise(planet)\n",
    "\n",
    "Ambos análogos a los anteriores, siendo la única diferencia que entregan una promesa de resultado.\n",
    "\n",
    "Modifica el código de getPlanetSummary para que la función retorne una promesa.\n",
    "Al ser resuelta, por ejemplo para el valor ’Mars’, entrega un objeto que tiene la siguiente\n",
    "forma;\n",
    "~~~\n",
    "{\n",
    "    name: ’Mars’,\n",
    "    distanceFromSun: 228,\n",
    "    satellites: [\n",
    "    {\n",
    "        name: ’Phobos’,\n",
    "        radius: 11,\n",
    "        gravity: 0.0057\n",
    "    },\n",
    "\n",
    "    {\n",
    "        name: ’Deimos’,\n",
    "        radius: 6\n",
    "        gravity: 0.003\n",
    "    } \n",
    "   ]\n",
    "}\n",
    "~~~"
   ]
  },
  {
   "cell_type": "code",
   "execution_count": null,
   "metadata": {},
   "outputs": [],
   "source": [
    "// antes:\n",
    "function getPlanetSummary(planet) {\n",
    "  console.log('Obteniendo la informacion...');\n",
    "\n",
    "  const planetSummary = { name: planet };\n",
    "\n",
    "  planetInfo.getDistanceFromSun(planet , (distance) => {\n",
    "    console.log(`Distancia al sol: ${distance}`);\n",
    "    planetSummary.distanceFromSun = distance;\n",
    "  });\n",
    "\n",
    "  planetInfo.getSatellitesNames(planet , (satellites) => {\n",
    "    console.log(`Satelites: ${satellites}`);\n",
    "    planetSummary.satellites = satellites;\n",
    "  });\n",
    "\n",
    "  console.log(planetSummary);\n",
    "}"
   ]
  },
  {
   "cell_type": "code",
   "execution_count": null,
   "metadata": {},
   "outputs": [],
   "source": [
    "// después.... ANTES: PERO ESTA NO ME SIRVE, PORQUE no sabemos\n",
    "// cuanto demoran las funciones asíncronas\n",
    "// y console.log(planetSummary probalbmente salga con pocos atributos)\n",
    "\n",
    "\n",
    "function getPlanetSummary(planet){\n",
    "    console.log('Obteniendo la información')\n",
    "    \n",
    "    const planetSummary = {name: planet};\n",
    "    \n",
    "    let promesa_distancia = getDistanceFromSunPromise(planet);\n",
    "    \n",
    "    let promesa_satelites = getSatellitesNamesPromise(planet);\n",
    "    \n",
    "    promesa_distancia\n",
    "        .then(response => {\n",
    "        console.log(`Distancia al sol: ${response}`);\n",
    "        planetSummary.distanceFromSun = response;\n",
    "    })\n",
    "    \n",
    "    promesa_satelites\n",
    "        .then(response => {\n",
    "        console.log(`Satelites: ${response}`);\n",
    "        planetSummary.satellites = response.map(planetInfo.getSatelliteInfo);\n",
    "\n",
    "    })\n",
    "    \n",
    "    console.log(planetSummary)\n",
    "}\n",
    "\n",
    "\n",
    "// OJO....\n",
    "// -> necesitamos que este print tenga todos los atributos pedidos\n",
    "// y por eso necesitamos asegurarnos haciendo promesas encadenadas\n",
    "// --->\n",
    "\n",
    "// pero necesitamos asegurarnos que el ultimo output sea : console.log(planetSummary)\n",
    "// entonces vamos a hacer las promesas encadenadas de abajo."
   ]
  },
  {
   "cell_type": "code",
   "execution_count": null,
   "metadata": {},
   "outputs": [],
   "source": [
    "// solución final.\n",
    "function getPlanetSummary(planet){\n",
    "    console.log('Obteniendo la información')\n",
    "    \n",
    "    const planetSummary = {name: planet};\n",
    "    \n",
    "    let promesa_distancia = getDistanceFromSunPromise(planet);\n",
    "    \n",
    "    let promesa_satelites = getSatellitesNamesPromise(planet);\n",
    "    \n",
    "    promesa_distancia\n",
    "        .then(response => {\n",
    "        console.log(`Distancia al sol: ${response}`);\n",
    "        planetSummary.distanceFromSun = response;\n",
    "        return promesa_satelites\n",
    "    })\n",
    "    \n",
    "    .then(response => {\n",
    "        console.log(`Satelites: ${response}`);\n",
    "        planetSummary.satellites = response.map(planetInfo.getSatelliteInfo);\n",
    "        return planetSummary;    \n",
    "    })\n",
    "    \n",
    "}"
   ]
  },
  {
   "cell_type": "code",
   "execution_count": null,
   "metadata": {},
   "outputs": [],
   "source": [
    "//solución de pauta:\n",
    "function getPlanetSummary (planet) {\n",
    "    const planetSummary = { name: planet };\n",
    "    \n",
    "    return planetInfo.getDistanceFromSunPromise(planet) // retorna una promesa pendiente de obener la distancia al sol\n",
    "        .then (response => { // si se resuelve\n",
    "          planetSummary.distanceFromSun = response; //muto el diccionario.\n",
    "          return planetInfo.getSatellitesNamesPromise(planet); // retorno una promesa pendeinte de obtener los nombres de los satelites de ese planete\n",
    "         }) \n",
    "         // promesa encadenada   \n",
    "        .then (response => { //response: lista de satelites.\n",
    "          planetSummary.satellites = response.map(planetInfo.getSatelliteInfo); // retorno una lista dd cada elem es info del satelite\n",
    "          return planetSummary;\n",
    "        }); "
   ]
  },
  {
   "cell_type": "markdown",
   "metadata": {},
   "source": [
    "###  (2 pts) Implementa el mismo código que en la pregunta anterior, pero ahora utilizando async/await"
   ]
  },
  {
   "cell_type": "code",
   "execution_count": null,
   "metadata": {},
   "outputs": [],
   "source": [
    "async function getPlanetSummary(planet){\n",
    "    \n",
    "    console.log('Obteniendo la información')\n",
    "    \n",
    "    const planetSummary = {name: planet};\n",
    "    \n",
    "    let promesa_distancia = getDistanceFromSunPromise(planet);\n",
    "    \n",
    "    let promesa_satelites = getSatellitesNamesPromise(planet);\n",
    "    \n",
    "    //esto es lo mismo que promesas anidadas:\n",
    "    plannetSummary.distanceFromSun = await promesa_distancia;\n",
    "    satelites = await promesa_satelites\n",
    "    plannetSummary.satellites = satelites.map(planetInfo.getSatteliteInfo);\n",
    "    \n",
    "    return plannetSummary\n",
    "    \n",
    "    \n",
    "}"
   ]
  },
  {
   "cell_type": "code",
   "execution_count": null,
   "metadata": {},
   "outputs": [],
   "source": [
    "// de pauta\n",
    "async function getPlanetSummary (planet) {\n",
    "    const distance = await planetInfo.getDistanceFromSunPromise(planet);\n",
    "    const satellites = await planetInfo.getSatellitesNamesPromise(planet);\n",
    "    return {name: planet,\n",
    "            distanceFromSun: distance,\n",
    "            satellites: satellites.map(planetInfo.getSatelliteInfo),\n",
    "           };\n",
    "}"
   ]
  },
  {
   "cell_type": "markdown",
   "metadata": {},
   "source": [
    "## Parte Teórica"
   ]
  },
  {
   "cell_type": "markdown",
   "metadata": {},
   "source": [
    " ##### 1. (2 pts) ¿Cuál(es) es(son) la(s) diferencia(s) entre var y const en JavaScript?¿Para que podríahaber sido incluído el segundo?"
   ]
  },
  {
   "cell_type": "markdown",
   "metadata": {},
   "source": [
    "Las diferencias principales son el scope y el comportamiento. \n",
    "- El scope de var es de función, mientras que el scope de const es de bloque. \n",
    "- Otra de las diferencias es que una variable definida con var puede cambiar su valor, mientras que usando const no se puede alterar el valor."
   ]
  },
  {
   "cell_type": "markdown",
   "metadata": {},
   "source": [
    "#### 2. ¿Porqué en el siguiente caso a y b no se comporta de la misma forma?¿En que caso,\n",
    "a se comportaría igual que el caso b?\n",
    "~~~\n",
    "const a = { id: ’IIC2513’};\n",
    "a.name = ‘Tecnologías y Aplicaciones Web’; // funciona!\n",
    "const b = 5;\n",
    "b = 6; // falla\n",
    "~~~\n",
    "\n",
    "-r// Lo primero si se puede hacer porque los objetos y arreglos tienen la propiedad de 'mutar', por eso funciona.\n",
    "Y lo segundo, Si creamos un objeto nuevo y tratamos de asignarlo a una variable de tipo const, estamriamos setteandu su valor y eso no lo permite una variable de tipo const."
   ]
  },
  {
   "cell_type": "markdown",
   "metadata": {},
   "source": [
    "#### 3. (2 pts) Uno de los elementos que conforman el protocolo HTTP son los códigos de respuesta ¿Para qué se utilizan? De al menos un ejemplo de uso\n",
    "\n",
    "-r// Los códigos de respuesta se utilizan para indicar como fue el resultado del request.\n",
    "Algunos ejemplos son: los 2XX para éxito, los 3XX para redirección, los 4XX para error de cliente, los 5XX para error del servidor.\n"
   ]
  },
  {
   "cell_type": "markdown",
   "metadata": {},
   "source": [
    "4. (2 pts) En el juego del gato (o TicTacToe) la condición para que un usuario gane en la fila i (suponiendo que los valores en las casillas pueden ser ‘x‘, ‘y‘ y null - este último si está vacía) es:\n",
    "~~~\n",
    "board[i][0] === board[i][1] && board[i][1] === board[i][2] && board[i][2]\n",
    "~~~\n",
    "¿Para qué es el último término? `(&& board[i][2])`\n",
    "\n",
    "r// para asegurarnos que el valor que es igual no sea null, de esta manera\n",
    "solo se gana si tienen casillas 'x' o 'y' consecutivas"
   ]
  },
  {
   "cell_type": "markdown",
   "metadata": {},
   "source": [
    "5. (2 pts) ¿Cuál es la caracter´ıstica de CSS que nos permite que, al colocar la siguiente definición:\n",
    "~~~\n",
    "body {\n",
    "font-family: Arial, Helvetica, sans-serif;\n",
    "}\n",
    "se aplique en todo el documento?\n",
    "~~~\n",
    "r// la característica de herencia. También es valido indicar que los estilos se aplican en cascada. como indica el nombre."
   ]
  },
  {
   "cell_type": "code",
   "execution_count": null,
   "metadata": {},
   "outputs": [],
   "source": []
  },
  {
   "cell_type": "markdown",
   "metadata": {},
   "source": [
    "6. (2 pts) Comenta si estás a favor o en contra de la siguiente afirmación: Una función que tiene async en su definición sólo indica que es de tipo asíncrona, no tiene ninguna implicancia en el retorno ni en el cuerpo de esta.\n"
   ]
  },
  {
   "cell_type": "markdown",
   "metadata": {},
   "source": [
    "r// Falso, Una función que está definida como async implica que es una función asíncrona y que siempre retornará un promesa."
   ]
  },
  {
   "cell_type": "markdown",
   "metadata": {},
   "source": [
    "8. (2 pts) Indıca cual es el rol que tiene HTML, CSS y JavaScript en la interfaz de usuario"
   ]
  },
  {
   "cell_type": "markdown",
   "metadata": {},
   "source": [
    "r// HTML: Estructura, CSS: aspecto y JavaScript: comportamiento."
   ]
  },
  {
   "cell_type": "markdown",
   "metadata": {},
   "source": [
    "9. (2 pts) Explica cómo es el proceso desde que un request llega la servidor hasta que es respondido al cliente. Basa tu respuesta en el proyecto semestral"
   ]
  },
  {
   "cell_type": "markdown",
   "metadata": {},
   "source": [
    "r// \n",
    "- El cliente hace un request al servidor\n",
    "- Una vez que el request llega al servidor, pasa por una serie de middlewares hasta que llega al router (que es otro middleware). \n",
    "\n",
    "- Ahí se busca el path para hacer match con una ruta y realizar lo que está descrito en el código, que generalmente es una operación que tiene operaciones a nivel de base de datos.\n",
    "\n",
    "- Finalmente se procesa la vista y se envía la respuesta al cliente."
   ]
  }
 ],
 "metadata": {
  "kernelspec": {
   "display_name": "Javascript (Node.js)",
   "language": "javascript",
   "name": "javascript"
  },
  "language_info": {
   "file_extension": ".js",
   "mimetype": "application/javascript",
   "name": "javascript",
   "version": "10.13.0"
  }
 },
 "nbformat": 4,
 "nbformat_minor": 4
}
