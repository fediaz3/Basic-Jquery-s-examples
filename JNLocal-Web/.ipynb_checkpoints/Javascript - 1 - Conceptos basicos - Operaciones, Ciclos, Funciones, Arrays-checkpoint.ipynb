{
 "cells": [
  {
   "cell_type": "markdown",
   "metadata": {},
   "source": [
    "### Javascript Fabián Díaz \n"
   ]
  },
  {
   "cell_type": "markdown",
   "metadata": {},
   "source": [
    "Saber que:\n",
    "\n",
    "* HTML: para definir el contenido de la pag web\n",
    "* CSS : para especificar el diseño de la pag web\n",
    "* Javascript: para programar el comportamiento de la pag web.\n",
    "\n",
    "* El Código Javascript, vive en el documento HTML y debe ir entre los tags `<script> </script>.`\n",
    "\n",
    "* Los tags scripts, puede ir en la sección `<head> o <body>` tipicamente en `<body>`\n",
    "\n",
    "* Util: colocar el script al final de la etiqueta `<body>` porque siempre se ejecuta el programa de arriba hacia abajo, y de esta forma podría usar elementos del cuerpo(body) para ejecutar javascript\n",
    "\n",
    "\n",
    "* Output en browser (navegador):  `<script> document.write(\"Hello World\") </script> ` ( útil para probar cosas, después veremos outputs mejores)\n",
    "\n",
    "* Podemos usar tags de HTML en strings de Javascript:\n",
    "`document.write(\"<h1> Hello World!</h1>\")`\n",
    "\n",
    "* Forma para llamar a un archivo externo llamado \"script.js\":\n",
    "`` <script src=\"script.js\"> </src> ``\n",
    "\n",
    "\n",
    "\n"
   ]
  },
  {
   "cell_type": "code",
   "execution_count": 1,
   "metadata": {},
   "outputs": [
    {
     "name": "stdout",
     "output_type": "stream",
     "text": [
      "11\n",
      "16\n",
      "218\n",
      "101\n",
      "101\n",
      "101\n",
      "101\n"
     ]
    }
   ],
   "source": [
    "var x, y, z; // declara variables con valor: undefined\n",
    "x = 5;   // asigna valores\n",
    "y = 6;\n",
    "z = x + y;\n",
    "// x != X es javascript como nombres de variables\n",
    "\n",
    "var a = 10; var b= 6; var c = a + b;\n",
    "\n",
    "console.log(z);\n",
    "console.log(c);\n",
    "// Se puede no usar ';', pero es recomendable para el orden\n",
    "\n",
    "//bools\n",
    "var A = true;\n",
    "var B = false;\n",
    "\n",
    "// false: 0, null, undefined, string vacio\n",
    "// true: todo que tenga un valor real.\n",
    "\n",
    "// Operadores: +, -, * , /, %, ++, --\n",
    "\n",
    "// eval(): retorna el resultado de una operacion aritmetica\n",
    "// escrita como string\n",
    "var resultadoeval = eval(\"10 * 20 + 8 + a\"); \n",
    "console.log(resultadoeval);\n",
    "\n",
    "// Incrementadores:\n",
    "var numero = 100;\n",
    "console.log(++numero); // suma y retorna el numero\n",
    "console.log(numero++); // retorna y suma\n",
    "console.log(--numero); // resta y retorna\n",
    "console.log(numero--); // retorna y resta\n"
   ]
  },
  {
   "cell_type": "markdown",
   "metadata": {},
   "source": [
    "Cuando se multiplica un string que no es numérico con un numero retorna: Nan ( Not a Number) Ej:"
   ]
  },
  {
   "cell_type": "code",
   "execution_count": 7,
   "metadata": {},
   "outputs": [
    {
     "name": "stdout",
     "output_type": "stream",
     "text": [
      "50\n",
      "50\n",
      "NaN\n",
      "string\n",
      "number\n",
      "number\n"
     ]
    }
   ],
   "source": [
    "console.log('10' * 5);\n",
    "console.log(10 * '5'); // igual los resuelve\n",
    "console.log('Palabra' * 5); // NaN\n",
    "\n",
    "//\n",
    "console.log(typeof('10'))\n",
    "console.log(typeof(5))\n",
    "console.log(typeof('10' * 5)) // el resultado queda como tipo int"
   ]
  },
  {
   "cell_type": "markdown",
   "metadata": {},
   "source": [
    "- Comparadores: ==, === (identicos: igual y del mismo tipo),\n",
    "!=, !==, >, >=, <, <=\n",
    "\n",
    "- Operadores Lógicos: && (and) , !! (or), !(not)."
   ]
  },
  {
   "cell_type": "markdown",
   "metadata": {},
   "source": [
    "Asignar un valor a una variable, segun una condición:\n",
    "`variable = (condition)? valuetrue: valuefalse`\n",
    "* `valortrue` : valor que se asigna si se cumpe la condicion\n",
    "* `valorfalse`: valor que se asigna si NO se cumple la condición"
   ]
  },
  {
   "cell_type": "code",
   "execution_count": 9,
   "metadata": {},
   "outputs": [
    {
     "name": "stdout",
     "output_type": "stream",
     "text": [
      "MenorDeEdad\n"
     ]
    },
    {
     "data": {
      "text/plain": [
       "22"
      ]
     },
     "execution_count": 9,
     "metadata": {},
     "output_type": "execute_result"
    }
   ],
   "source": [
    "var age = 17;\n",
    "var isAdult = (age < 18)? \"MenorDeEdad\": \"Adulto\";\n",
    "console.log(isAdult);\n",
    "\n",
    "age = (2 > 1) ? 22: 42 "
   ]
  },
  {
   "cell_type": "markdown",
   "metadata": {},
   "source": [
    "Los Strings se pueden concatenar con `+`"
   ]
  },
  {
   "cell_type": "code",
   "execution_count": 41,
   "metadata": {},
   "outputs": [
    {
     "name": "stdout",
     "output_type": "stream",
     "text": [
      "FabianDiaz\n"
     ]
    }
   ],
   "source": [
    "console.log(\"Fabian\" + \"Diaz\")"
   ]
  },
  {
   "cell_type": "markdown",
   "metadata": {},
   "source": [
    "###### Control De Flujo\n",
    "- if (condition) {\n",
    "    statements\n",
    "}"
   ]
  },
  {
   "cell_type": "code",
   "execution_count": 47,
   "metadata": {},
   "outputs": [
    {
     "name": "stdout",
     "output_type": "stream",
     "text": [
      "Es Falso\n"
     ]
    }
   ],
   "source": [
    "var num1 = 70;\n",
    "var num2 = 10;\n",
    "if (num1 < num2) {\n",
    "    console.log(\"WiuWiu\");\n",
    "} else if ( num1 == num2 ) {\n",
    "    console.log(\"Son iguales\")\n",
    "} else {\n",
    "    console.log(\"Es Falso\")\n",
    "}\n"
   ]
  },
  {
   "cell_type": "markdown",
   "metadata": {},
   "source": [
    "- `alert(\"WiuWiu\")`\n",
    "muestra un cuadro de texto en el navegador con ese mensaje\n",
    "- envés de `console.log(\"hello World\")` pude haber puesto `document.write(\"<h1> Hello world </h1>\"); ` y segun las condiciones, decide lo que se imprime en el navegador\n",
    "\n"
   ]
  },
  {
   "cell_type": "markdown",
   "metadata": {},
   "source": [
    "- Switch:\n",
    "``` javascript\n",
    " switch (expression) {\n",
    "  case n1: \n",
    "     statements\n",
    "     break;\n",
    "  case n2: \n",
    "     statements\n",
    "     break;\n",
    "  default: \n",
    "     statements\n",
    "} \n",
    "```\n"
   ]
  },
  {
   "cell_type": "code",
   "execution_count": 10,
   "metadata": {},
   "outputs": [
    {
     "name": "stdout",
     "output_type": "stream",
     "text": [
      "Martes o Miercoles\n"
     ]
    }
   ],
   "source": [
    "var day = 2;\n",
    "switch (day){\n",
    "    case 1: // if day == 1\n",
    "        console.log(\"Lunes\");\n",
    "        break;\n",
    "    case 2: // if day == 2 or if day == 3:\n",
    "    case 3:    \n",
    "        console.log(\"Martes o Miercoles\");\n",
    "        break;  // sin el break, va seguir evaluando hacia abajo\n",
    "    default: // else (que no se encuentra coincidencia)\n",
    "             // se puede omitir\n",
    "        console.log(\"Jueves, Viernes, Sabado o Domingo\")\n",
    "}"
   ]
  },
  {
   "cell_type": "markdown",
   "metadata": {},
   "source": [
    "#### Ciclos\n",
    "``` Javascript\n",
    "for (statement 1; statement 2; statement 3) {\n",
    "   code block to be executed\n",
    "}\n",
    "```\n",
    "\n",
    "- statement1: codigo que se ejecuta antes de entrar al bloque de la 1era iteracion\n",
    "- statement2: condición. Si es true -> se ejecuta. Si es False -> no se ejecuta el bloque\n",
    "- statement3: codigo que se ejecuta cuando al final y dentro del bloque en todas las iteraciones\n",
    "\n",
    "\n",
    "`continue` y `break` se pueden usar"
   ]
  },
  {
   "cell_type": "code",
   "execution_count": 68,
   "metadata": {},
   "outputs": [
    {
     "name": "stdout",
     "output_type": "stream",
     "text": [
      "1\n",
      "2\n",
      "3\n",
      "4\n",
      "5\n",
      "100\n",
      "101\n",
      "102\n",
      "103\n",
      "104\n",
      "105\n",
      "1\n",
      "\n",
      "2\n",
      "a\n",
      "3\n",
      "aa\n",
      "4\n",
      "aaa\n",
      "5\n",
      "aaaa\n"
     ]
    }
   ],
   "source": [
    "for (i=1; i<=5; i++){\n",
    "    console.log(i)\n",
    "}\n",
    "\n",
    "// Si ya tengo el contador iniciado antes de entrar a loop:\n",
    "\n",
    "var count = 100\n",
    "for( ; count <= 105;count++){\n",
    "    console.log(count);\n",
    "}\n",
    "\n",
    "// Puedo inicializar mpas de un valor al inicio, usando comas\n",
    "for (i=1, text=\"\"; i<=5; i++, text+='a'){\n",
    "   console.log(i)\n",
    "   console.log(text);\n",
    "    \n",
    "   // document.write(i + \"<br />\");\n",
    "\n",
    "}"
   ]
  },
  {
   "cell_type": "markdown",
   "metadata": {},
   "source": [
    "#### While \n",
    "``` Javascript\n",
    "while (condition) {    \n",
    "   code block\n",
    "}\n",
    "\n",
    "```\n",
    "#### Do While\n",
    "``` Javascript\n",
    "do {\n",
    "   code block\n",
    "}\n",
    "while (condition);\n",
    "```\n",
    "\n"
   ]
  },
  {
   "cell_type": "code",
   "execution_count": 77,
   "metadata": {},
   "outputs": [
    {
     "name": "stdout",
     "output_type": "stream",
     "text": [
      "0\n",
      "1\n",
      "2\n",
      "3\n",
      "4\n",
      "5\n",
      "6\n",
      "7\n",
      "8\n",
      "9\n"
     ]
    },
    {
     "data": {
      "text/plain": [
       "9"
      ]
     },
     "execution_count": 77,
     "metadata": {},
     "output_type": "execute_result"
    }
   ],
   "source": [
    "var count = 0;\n",
    "while (count < 10){\n",
    "    console.log(count);\n",
    "    count++;\n",
    "}\n",
    "// la condición en el ciclo se chequea al inicio del bloque"
   ]
  },
  {
   "cell_type": "code",
   "execution_count": 75,
   "metadata": {},
   "outputs": [
    {
     "name": "stdout",
     "output_type": "stream",
     "text": [
      "0\n"
     ]
    },
    {
     "data": {
      "text/plain": [
       "0"
      ]
     },
     "execution_count": 75,
     "metadata": {},
     "output_type": "execute_result"
    }
   ],
   "source": [
    "var count = 0;\n",
    "do {\n",
    "    console.log(count);\n",
    "    count++;\n",
    "}\n",
    "while (count < 10)\n",
    "    \n",
    "// la condición se evalua al final del bloque, para volver o no\n",
    "// -> siempre se ejecuta al menos 1 vez ( probar count count <0)"
   ]
  },
  {
   "cell_type": "markdown",
   "metadata": {},
   "source": [
    "#### Funciones"
   ]
  },
  {
   "cell_type": "markdown",
   "metadata": {},
   "source": [
    "Declarar una función:\n",
    "``` Javascript\n",
    "function name(param1, param2, param3) {\u000b",
    "    \n",
    "  //code to be executed\u000b",
    "\n",
    "}\n",
    "```\n",
    "\n",
    "\n",
    "Llamado: \n",
    "` name(1, 3, 'wena') ` \n",
    "\n",
    "\n",
    "- se puede usar `return`. Si no se usa -> retorna `undefined`\n",
    "- Si omito un parametro que debería ir: se completa con `undefined`\n",
    "- Duck typing ( si lo que entra tiene el metodo -> sirve)\n",
    "- Ejemplo: si meto a persona.ladrar y perro.ladrar -> aunque sea distintos objetos igual van a ejecutar su metodo respectivo"
   ]
  },
  {
   "cell_type": "markdown",
   "metadata": {},
   "source": [
    "#### Dialog Boxes ( Cuadros de textos)\n",
    "##### Alert, Prompt, Confirm \n",
    "- ``alert(\"mensajedemuestra\")``: muestra una alerta con un mensaje y el usuario debe poner OK (Asegurarme que leyó algo)\n",
    "\n",
    "- ``prompt(\"Porfavor, Ingresa tu nombre\")``: el usuario debe completar el cuadro de texto y poner ACEPTAR o CANCELAR. No abusar de este metodo, porque este cuadro debe cerrarse para que el usuario pueda ingresasr a otras partes de la pag.\n",
    "\n",
    "\n",
    "- ``confirm(\"Estas seguro de salir de esta pagina?\") ``: al usuario le aparece un cuadro de texto con el mensaje y debe elegir entre OK Y CANCELAR.\n",
    "- OK: el método retorna true\n",
    "- CANCELAR: el método retorna false\n",
    "- Ej:\n",
    "\n",
    "```Javascript\n",
    "var result = confirm(\"Do you really want to leave this page?\");\n",
    "if (result == true) {\n",
    "  alert(\"Thanks for visiting\");\n",
    "}\n",
    "else {\n",
    "  alert(\"Thanks for staying with us\");\n",
    "}\n",
    "```"
   ]
  },
  {
   "cell_type": "markdown",
   "metadata": {},
   "source": [
    "OOP\n",
    "\n",
    "- Los objetos son variables y ellos pueden contener muchos valores. ( cada valor tiene un nombre )\n",
    "- Pensar a un objeto como una lista de valores que son escritos como `name: value` pares, separados por coma"
   ]
  },
  {
   "cell_type": "code",
   "execution_count": 79,
   "metadata": {},
   "outputs": [
    {
     "name": "stdout",
     "output_type": "stream",
     "text": [
      "true\n"
     ]
    }
   ],
   "source": [
    "// CREAR OBJETOS SIMPLES:\n",
    "var person = {\n",
    "    name: \"Fabián\",\n",
    "    age: \"21\",\n",
    "    fav_color: \"green\",\n",
    "    height: 177\n",
    "}\n",
    "\n",
    "//2 formas de acceder a los properties(propiedades o atributos)\n",
    "var x1 = person.age\n",
    "var x2 = person[\"age\"]\n",
    "console.log(x1 == x2)"
   ]
  },
  {
   "cell_type": "markdown",
   "metadata": {},
   "source": [
    "Métodos de Objetos: ( se almacenan como properties (atributos) de los objetos)\n",
    "\n",
    "`` objeto.metodo()``\n",
    "\n",
    "Ej: `` document.write(\"hola\") `` , donde write es el metodo del objeto document"
   ]
  },
  {
   "cell_type": "code",
   "execution_count": 13,
   "metadata": {},
   "outputs": [
    {
     "name": "stdout",
     "output_type": "stream",
     "text": [
      "person { name: 'Jhon', age: 42, color: 'green' }\n",
      "42\n",
      "red\n"
     ]
    }
   ],
   "source": [
    "// DEFINIR UN TIPO DE OBJETO (una clase)\n",
    "\n",
    "// el constructor es:\n",
    "function person(name, age, color){\n",
    "    this.name = name\n",
    "    this.age = age\n",
    "    this.color = color\n",
    "}\n",
    "// crear objetos(instancias) de ese tipo(clase):\n",
    "var p1 = new person(\"Jhon\", 42, \"green\");\n",
    "var p2 = new person(\"Amy\", 21, \"red\");\n",
    "\n",
    "console.log(p1);\n",
    "console.log(p1.age);\n",
    "console.log(p2.color);\n"
   ]
  },
  {
   "cell_type": "markdown",
   "metadata": {},
   "source": [
    "Método de objetos: nuevamente\n",
    "- crear un metodo de objeto: ` this.metodo = function(){ code lines}`\n",
    "- Acceder a un método de objeto: `objeto.metodo()`\n",
    "- RECORDAR QUE SE AGREGA PARÉNTESIS AL AL FINAL (si no seria una propertie)\n",
    "\n",
    "2 Formas de definir un metodo de objeto:\n",
    "1- En el constructor de la clase\n",
    "2. Fuera del constructor\n",
    "\n"
   ]
  },
  {
   "cell_type": "code",
   "execution_count": 15,
   "metadata": {},
   "outputs": [
    {
     "name": "stdout",
     "output_type": "stream",
     "text": [
      "Kevin\n",
      "Vicente\n",
      "----------------------\n",
      "48\n",
      "1972\n",
      "mascota { name: 'Doris', age: 48, nacimiento: [Function: calcular] }\n"
     ]
    }
   ],
   "source": [
    "// FORMA 1:\n",
    "function person (name, age) {\n",
    "    this.name = name;\n",
    "    this.age;\n",
    "    \n",
    "    this.cambiarnombre = function(name) {\n",
    "        this.name = name;\n",
    "    }\n",
    "}\n",
    "\n",
    "var p1 = new person (\"Kevin\", 22);\n",
    "console.log(p1.name);\n",
    "p1.cambiarnombre(\"Vicente\");\n",
    "console.log(p1.name);\n",
    "\n",
    "console.log('----------------------');\n",
    "\n",
    "// FORMA2:\n",
    "\n",
    "function mascota (name, age){\n",
    "    this.name = name;\n",
    "    this.age = age;\n",
    "    this.nacimiento = calcular;\n",
    "}\n",
    "function calcular() {\n",
    "    return 2020 - this.age;\n",
    "}\n",
    "\n",
    "\n",
    "var m1 = new mascota(\"Doris\", 48);\n",
    "\n",
    "console.log(m1.age);\n",
    "console.log(m1.nacimiento());\n",
    "console.log(m1)"
   ]
  },
  {
   "cell_type": "markdown",
   "metadata": {},
   "source": [
    "#### Arrays\n",
    "- Son mutables e indexados"
   ]
  },
  {
   "cell_type": "code",
   "execution_count": 23,
   "metadata": {},
   "outputs": [
    {
     "name": "stdout",
     "output_type": "stream",
     "text": [
      "[ 'HTML', 'CSS', 'JS' ]\n",
      "CSS\n",
      "Django\n",
      "undefined\n",
      "[ 'HTML', 'Django', 'JS', 'Ruby', <16 empty items>, 'Python' ]\n",
      "[ <3 empty items> ]\n",
      "[ 'A', 'B', 'C', <2 empty items>, 'D' ]\n"
     ]
    }
   ],
   "source": [
    "//FORMA CLÁSICA\n",
    "var courses = [\"HTML\", \"CSS\", \"JS\"];\n",
    "console.log(courses); \n",
    "// notar que puedo crear una variable\n",
    "// con el mismo nomnre dps y \n",
    "// se elimina la anterior\n",
    "\n",
    "\n",
    "//\n",
    "var courses = new Array(\"HTML\", \"CSS\", \"JS\"); \n",
    "console.log(courses[1]);\n",
    "courses[1] = \"Django\"\n",
    "console.log(courses[1]);\n",
    "console.log(courses[100]); // retorna undefined si está fuera del rango\n",
    "                            //(no tira error)\n",
    "\n",
    "courses[3] = 'Ruby' // Append rapido, si sé el largo del array\n",
    "courses[20] = 'Python';  // FORMA RAPIDA DE AGREGAR EN UNA POSICION ESPECIAL // si me paso deja los espacios entremedio en blanco\n",
    "console.log(courses);\n",
    "\n",
    "// otras Formas:\n",
    "var courses = new Array(3); \n",
    "console.log(courses) // guarda el espacio para 3 objetos\n",
    "courses[0] = 'A'\n",
    "courses[1] = 'B'\n",
    "courses[2] = 'C'\n",
    "\n",
    "courses[5] = 'D' // si agrego más, igual lo agrega\n",
    "console.log(courses)"
   ]
  },
  {
   "cell_type": "markdown",
   "metadata": {},
   "source": [
    "Más propiedades y métodos de los Arrays"
   ]
  },
  {
   "cell_type": "code",
   "execution_count": 153,
   "metadata": {},
   "outputs": [
    {
     "name": "stdout",
     "output_type": "stream",
     "text": [
      "6\n",
      "[ 'a', 'b', 'c', 'd', 'e', 'f' ]\n",
      "a,b,cd,e,f\n"
     ]
    },
    {
     "data": {
      "text/plain": [
       "[ 'a', 'b', 'c' ]"
      ]
     },
     "execution_count": 153,
     "metadata": {},
     "output_type": "execute_result"
    }
   ],
   "source": [
    "// largo: array.length\n",
    "console.log(courses.length) // largo\n",
    "\n",
    "// concatenar: a1.concat(c2) ( no sirve c1 +c2 en arrays) \n",
    "// retorna una nueva lista y no afecta a las de antes\n",
    "\n",
    "var c1 = ['a', 'b', 'c'];\n",
    "var c2 = ['d', 'e', 'f'];\n",
    "c3 = c1.concat(c2)\n",
    "console.log(c3); // si sirve\n",
    "// console.log(c1 + c2 ); // no sirve\n",
    "\n"
   ]
  },
  {
   "cell_type": "markdown",
   "metadata": {},
   "source": [
    "### Reemplazo a los diccionarios ( No es tan útil esto, porque existen los MAPS)\n",
    "\n",
    "- Usar cuando quiero que el indice sea un string. A['nombre'] :D\n",
    "- NO usar cuando quiero acceder con ints: A[5] :(\n",
    "\n",
    "- No existen diccionarios, pero los podemos similar:\n",
    "- ( Arrays Asociativos)\n"
   ]
  },
  {
   "cell_type": "code",
   "execution_count": 24,
   "metadata": {},
   "outputs": [
    {
     "name": "stdout",
     "output_type": "stream",
     "text": [
      "80\n",
      "[ name: 'Fabián', age: 80 ]\n",
      "0\n",
      "undefined\n"
     ]
    }
   ],
   "source": [
    "var person = [];\n",
    "// -> trataremos person, como un objeto y no como un array\n",
    "person[\"name\"] = 'Fabián';\n",
    "person[\"age\"] = 80;\n",
    "\n",
    "console.log(person[\"age\"]);\n",
    "\n",
    "\n",
    "\n",
    "// Recordar siempre: que es un interpretación util\n",
    "// pero que sigue siendo un objeto, el cual es un array vacio,\n",
    "// que tiene propiedades\n",
    "\n",
    "console.log(person) // forma que se vé un objeto,\n",
    "                    // pero no es un diccionario.\n",
    "\n",
    "// los métodos de los arrays dan resultados incorrectos.\n",
    "console.log(person.length) // da 0 \n",
    "console.log(person[2]) // undefined\n"
   ]
  },
  {
   "cell_type": "markdown",
   "metadata": {},
   "source": [
    "#### Más\n",
    "`` setinterval(function, miliseconds) `` : llama a la funcion `function` cada 3000ms <-> 3segundos. \n",
    "\n",
    "- `function`: se escribe la función sin paréntesis al método set interval"
   ]
  }
 ],
 "metadata": {
  "kernelspec": {
   "display_name": "Javascript (Node.js)",
   "language": "javascript",
   "name": "javascript"
  },
  "language_info": {
   "file_extension": ".js",
   "mimetype": "application/javascript",
   "name": "javascript",
   "version": "10.13.0"
  }
 },
 "nbformat": 4,
 "nbformat_minor": 2
}
