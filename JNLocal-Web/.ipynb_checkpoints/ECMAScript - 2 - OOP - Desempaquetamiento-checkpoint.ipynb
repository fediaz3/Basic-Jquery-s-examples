{
 "cells": [
  {
   "cell_type": "markdown",
   "metadata": {},
   "source": [
    "###### OOP en ES6\n",
    "\n",
    "- Permite notaciones + cortas y más facil de entender el código."
   ]
  },
  {
   "cell_type": "code",
   "execution_count": 12,
   "metadata": {},
   "outputs": [],
   "source": [
    "// antes objetos simple: ( SIN DEFINIR SU CLASE)\n",
    "var person = {\n",
    "    name: \"Fabián\",\n",
    "    age: \"21\",\n",
    "    fav_color: \"green\",\n",
    "    height: 177\n",
    "}\n",
    "\n"
   ]
  },
  {
   "cell_type": "code",
   "execution_count": 2,
   "metadata": {},
   "outputs": [
    {
     "name": "stdout",
     "output_type": "stream",
     "text": [
      "22\n",
      "futbol\n",
      "ing\n",
      "undefined\n",
      "200\n"
     ]
    }
   ],
   "source": [
    "// Ahora: se pueden agregar metodos al definir objetos simples. ( NO ESTAMOS DEFINIENDO CLASES)\n",
    "var person3 = {\n",
    "    name: \"Fabián\",\n",
    "    age: 21,\n",
    "    fav_color: \"green\",\n",
    "    height: 177,\n",
    "    \n",
    "    cumplir_edad() {\n",
    "        this.age += 1;\n",
    "    }\n",
    "}\n",
    "\n",
    "person3.cumplir_edad()\n",
    "console.log(person3.age)\n",
    "\n",
    "// PARA AGREGAR ATRIBUTOS A ESTE OBJETO EN PARTICULAR.\n",
    "var deporte = 'futbol'\n",
    "var carrera = 'ing'\n",
    "person3 = {deporte, carrera};\n",
    "//-----------------------------\n",
    "console.log(person3.deporte)\n",
    "console.log(person3.carrera)\n",
    "console.log(person3.age)\n",
    "\n",
    "// Cuando se crea un objeto simple, si se crea usando valores duplicados, la ultima se sobreescribe\n",
    "var objetonuevo = {edad: 10, edad: 50, edad: 200};\n",
    "console.log(objetonuevo.edad)"
   ]
  },
  {
   "cell_type": "markdown",
   "metadata": {},
   "source": [
    "#### Asignar propiedades automáticas al crear objetos\n",
    "- Se ponen los corchetes, para asignar nombres de las propiedades de forma automática\n",
    "- Util, cuando necesito crear objetos personalizados, segun unas variables\n"
   ]
  },
  {
   "cell_type": "code",
   "execution_count": 30,
   "metadata": {},
   "outputs": [
    {
     "name": "stdout",
     "output_type": "stream",
     "text": [
      "Fabian\n",
      "98765432\n"
     ]
    }
   ],
   "source": [
    "var propiedad = 'name';\n",
    "var id = 50;\n",
    "var mobile = 98765432;\n",
    "// Se ponen los corchetes, para asignar nombres de las propiedades de forma automática\n",
    "var usuario = { [propiedad]: 'Fabian', [`user_${id}`]: `${mobile}`};\n",
    "\n",
    "console.log(usuario.name);\n",
    "console.log(usuario.user_50);"
   ]
  },
  {
   "cell_type": "code",
   "execution_count": 36,
   "metadata": {},
   "outputs": [
    {
     "name": "stdout",
     "output_type": "stream",
     "text": [
      "1\n",
      "3\n"
     ]
    }
   ],
   "source": [
    "var i = 0;\n",
    "var a = {\n",
    "  ['foo' + ++i]: i,\n",
    "  ['foo' + ++i]: i,\n",
    "  ['foo' + ++i]: i\n",
    "}\n",
    "console.log(a.foo1)\n",
    "\n",
    "console.log(a.foo3)"
   ]
  },
  {
   "cell_type": "markdown",
   "metadata": {},
   "source": [
    "##### Desempaquetamiento de Arrays en ES6 (muy útil)\n",
    "\n",
    "`var [v1, v2, ..., vn] = Array de tamaño n`, donde v1, .., vn son las variables donde se desempaca el array"
   ]
  },
  {
   "cell_type": "code",
   "execution_count": 80,
   "metadata": {},
   "outputs": [
    {
     "name": "stdout",
     "output_type": "stream",
     "text": [
      "1\n",
      "2\n",
      "3\n",
      "--------------------\n",
      "1\n",
      "2\n",
      "3\n",
      "undefined\n",
      "--------------------\n",
      "1\n",
      "2\n",
      "------------------\n",
      "2\n",
      "1\n"
     ]
    }
   ],
   "source": [
    "var lista = [1, 2, 3];\n",
    "var [v1, v2, v3] = lista; \n",
    "\n",
    "console.log(v1);\n",
    "console.log(v2);\n",
    "console.log(v3);\n",
    "\n",
    "console.log('--------------------');\n",
    "\n",
    "// Forma 2:\n",
    "\n",
    "var v1, v2, v3;\n",
    "[v1, v2, v3, v4] = lista;\n",
    "console.log(v1);\n",
    "console.log(v2);\n",
    "console.log(v3);\n",
    "console.log(v4); // si sobra queda recibe undefined\n",
    "\n",
    "console.log('--------------------');\n",
    "// COSAS QUE NOTAR:\n",
    "var v1, v2, v3 = 10, v4 = 50; // forma de declarar variables rapido\n",
    "\n",
    "// Es una forma también de asignar valores y de intercambiar valores.\n",
    "[v1, v2 = 5] = [2]; // v1 = 2, v2 = 5 /\n",
    "\n",
    "[v1, v2] = [1, 2, 3, 4, 5, 6]; // v1 = 1, v2 = 2 ( si se pasa de rango, se ignorando los que sobran)\n",
    "\n",
    "console.log(v1);\n",
    "console.log(v2);\n",
    "\n",
    "console.log('------------------');\n",
    "\n",
    "// swap\n",
    "[v1, v2] = [v2, v1] // v1 = 2, v2 = 1\n",
    "\n",
    "console.log(v1);\n",
    "console.log(v2);"
   ]
  },
  {
   "cell_type": "markdown",
   "metadata": {},
   "source": [
    "#### Desempaquetamiento de propiedades de objetos\n",
    "- `var objeto = {prop1: 'fabian', prop2 = '21'}` ( de antes existe el objeto)\n",
    "- ->> `var {prop1, prop2} = objeto` y se asigna prop1 = value1 y prop2 = value2\n",
    "- otra opción es:\n",
    "~~~\n",
    "var prop1, prop2;\n",
    "( {prop1, prop2} = {prop1: 'fabian', prop2: '21} }\n",
    "~~~"
   ]
  },
  {
   "cell_type": "code",
   "execution_count": 3,
   "metadata": {},
   "outputs": [
    {
     "name": "stdout",
     "output_type": "stream",
     "text": [
      "undefined\n",
      "21\n",
      "177\n",
      "undefined\n"
     ]
    }
   ],
   "source": [
    "var objeto = {name: 'fabian', age: 21};\n",
    "\n",
    "var {name, age, estatura = 177, peso} = objeto; // las variables q desempacar tienen que coincidir con el'name' de la properties\n",
    "\n",
    "console.log(name);\n",
    "console.log(age);\n",
    "console.log(estatura); // se pueden desempacar y asignar valores tbm, e\n",
    "console.log(peso); // si sobran espacios se asigna a undefined."
   ]
  },
  {
   "cell_type": "code",
   "execution_count": 77,
   "metadata": {},
   "outputs": [
    {
     "name": "stdout",
     "output_type": "stream",
     "text": [
      "Checho\n",
      "40\n"
     ]
    }
   ],
   "source": [
    "// Asignar nuevos valores a los objetos:\n",
    "var objeto_nuevos_atributos = {name: 'Checho', age: '40'}; // Hacer un nuevo objeto, con los mismas \n",
    "                                                    // propiedades con distintos valores\n",
    "\n",
    "var objeto = objeto_nuevos_atributos\n",
    "\n",
    "console.log(objeto.name)\n",
    "console.log(objeto.age)\n"
   ]
  },
  {
   "cell_type": "code",
   "execution_count": null,
   "metadata": {},
   "outputs": [],
   "source": []
  },
  {
   "cell_type": "code",
   "execution_count": null,
   "metadata": {},
   "outputs": [],
   "source": []
  }
 ],
 "metadata": {
  "kernelspec": {
   "display_name": "Javascript (Node.js)",
   "language": "javascript",
   "name": "javascript"
  },
  "language_info": {
   "file_extension": ".js",
   "mimetype": "application/javascript",
   "name": "javascript",
   "version": "10.13.0"
  }
 },
 "nbformat": 4,
 "nbformat_minor": 2
}
