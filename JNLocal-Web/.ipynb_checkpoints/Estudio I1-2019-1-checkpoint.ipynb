{
 "cells": [
  {
   "cell_type": "markdown",
   "metadata": {},
   "source": [
    "## Pauta I1-2019-1"
   ]
  },
  {
   "cell_type": "markdown",
   "metadata": {},
   "source": [
    "### Parte1: Preguntas teóricas\n",
    "\n",
    "Responde, de forma precisa las siguientes preguntas\n",
    "\n",
    "### 1. Escriba un pequeño trozo de código que indique claramente la diferencia de scope entre const/let y var."
   ]
  },
  {
   "cell_type": "code",
   "execution_count": 1,
   "metadata": {},
   "outputs": [
    {
     "name": "stdout",
     "output_type": "stream",
     "text": [
      "a:  2\n",
      "v2:  3\n"
     ]
    },
    {
     "ename": "ReferenceError",
     "evalue": "v1 is not defined",
     "output_type": "error",
     "traceback": [
      "evalmachine.<anonymous>:12",
      "  console.log('v1: ', v1); // el scope de bloque de let, no permite que ",
      "                      ^",
      "",
      "ReferenceError: v1 is not defined",
      "    at funcion_ejemplo (evalmachine.<anonymous>:12:23)",
      "    at evalmachine.<anonymous>:20:1",
      "    at Script.runInThisContext (vm.js:96:20)",
      "    at Object.runInThisContext (vm.js:303:38)",
      "    at run ([eval]:1054:15)",
      "    at onRunRequest ([eval]:888:18)",
      "    at onMessage ([eval]:848:13)",
      "    at process.emit (events.js:182:13)",
      "    at emit (internal/child_process.js:812:12)",
      "    at process._tickCallback (internal/process/next_tick.js:63:19)"
     ]
    }
   ],
   "source": [
    "// un ejemplo\n",
    "var a = 2; // scoope de función\n",
    "function funcion_ejemplo() {\n",
    "  if (a === 2) {\n",
    "    let v1 = 2; // scoope de bloque\n",
    "    var v2 = 3; // scoope de función  \n",
    "  }\n",
    "    \n",
    "  console.log('v2: ', v2); // el scope de función permite que \n",
    "                           //esté disponible dentro de la funcion_ejemplo \n",
    "                          //porque ahí fue definida\n",
    "  console.log('v1: ', v1); // el scope de bloque de let, no permite que \n",
    "                          // esté disponible fuera del if\n",
    "}\n",
    "\n",
    "\n",
    "console.log('a: ',a); // el scoope de función permite que la variable 'a'\n",
    "                     // se encuentre disponible afuera y dentro de la función.\n",
    "                    // pq en la función que fue definida (funcion main del programa), contiene a funcion_ejemplo\n",
    "funcion_ejemplo();\n",
    "\n",
    "\n",
    "// si reemplazo let por const, ocurre lo mismo porque tienen el mismo\n",
    "// scoope de bloque y la unica difenrecia entre ellos esque\n",
    "// let puede settear(actualizar) su valor y const no.\n"
   ]
  },
  {
   "cell_type": "markdown",
   "metadata": {},
   "source": [
    "### 2. ¿Por qué se dice que los objetos en Javascript mutan? De un ejemplo."
   ]
  },
  {
   "cell_type": "markdown",
   "metadata": {},
   "source": [
    "##### respuesta de pauta: porque a los objetos le puedo agregar propiedades (cambiar sus estado), sin necesidad de cambiar el valor de la variable"
   ]
  },
  {
   "cell_type": "code",
   "execution_count": 2,
   "metadata": {},
   "outputs": [
    {
     "name": "stdout",
     "output_type": "stream",
     "text": [
      "{ name: 'fabian', age: 99 }\n"
     ]
    }
   ],
   "source": [
    "const objeto2 = {name: 'fabian', age: '22'};\n",
    "objeto2.age = 99;\n",
    "console.log(objeto2)"
   ]
  },
  {
   "cell_type": "markdown",
   "metadata": {},
   "source": [
    " #### Los Arreglos también son mutables con los métodos push (agregar) y pop(sacar) "
   ]
  },
  {
   "cell_type": "code",
   "execution_count": 1,
   "metadata": {},
   "outputs": [
    {
     "name": "stdout",
     "output_type": "stream",
     "text": [
      "[ 1, 2, 3, 4 ]\n"
     ]
    }
   ],
   "source": [
    "const objeto5 = [1, 2, 3];\n",
    "objeto5.push(4);\n",
    "console.log(objeto5)"
   ]
  },
  {
   "cell_type": "markdown",
   "metadata": {},
   "source": [
    "r// Es la propiedad de una variable de cambiar su estado ( mutar)  sin cambiar su referencia \n",
    "- En javascript: solo los objetos y arreglos pueden son MUTABLES\n",
    "\n",
    "(Sin cambiar su referencia = sin cambiar el valor de la variable = Sin hacer que la variable apunte a un objeto casi igual con un atributo distinto )\n",
    "\n",
    "- Por lo tanto, si muta no se cambia el valor de la variable -> una variable const puede mutar.\n",
    "\n",
    "- Tener claro la diferencia de cambiar la variable y de mutar.\n",
    "(Aunque cambie la variable por un objeto igual, esto sigue siendo cambiar la variable, porque es otro objeto)"
   ]
  },
  {
   "cell_type": "markdown",
   "metadata": {},
   "source": [
    "### 3. ¿Qué es el Event Loop?¿Por qué lo implementa Javascript?"
   ]
  },
  {
   "cell_type": "markdown",
   "metadata": {},
   "source": [
    "r//  El event loop Lo implementa Javascript para correr funciones de forma \"asíncrona\" (non blocking I/O), ya que corre en un thread.\n",
    "\n",
    "Lo que hace el event loop \n",
    "realizar el trabajo de registrar callback, procesar callback y funciones. \n",
    "\n",
    "\n"
   ]
  },
  {
   "cell_type": "markdown",
   "metadata": {},
   "source": [
    "### 4. ¿Puedo validar que un arreglo tenga algún elemento de esta forma? ¿Por qué?"
   ]
  },
  {
   "cell_type": "markdown",
   "metadata": {},
   "source": [
    "`if (arreglo.length) { ... }`"
   ]
  },
  {
   "cell_type": "markdown",
   "metadata": {},
   "source": [
    "R// Si, porque si el arreglo tiene valor = 0 -> es False y no entra al bloque\n",
    "y si tiene valor >= 1 -> es True y si entra al bloque"
   ]
  },
  {
   "cell_type": "markdown",
   "metadata": {},
   "source": [
    "### 5. Si test01 es una función que retorna una promesa, que al ser resuelta retorna el número 2 ¿Por qué, para mostrar ese resultado en consola, puedo hacer esto?\n",
    "- `test01().then(console.log);`"
   ]
  },
  {
   "cell_type": "markdown",
   "metadata": {},
   "source": [
    "R// ya que dentro del then se espera una función de un parametro, lo cual satisface la función console.log\n",
    "\n",
    "- Lo de arriba es lo mismo que escribir:\n",
    "~~~\n",
    "test01\n",
    "    .then( response => console.log(response) )\n",
    "~~~\n",
    "\n",
    "Sintaxis general de then:\n",
    "- `.then(function(response) {...} )`\n",
    "- `.then( (response) => {...}`\n",
    "- `.then( response => {...}`"
   ]
  },
  {
   "cell_type": "markdown",
   "metadata": {},
   "source": [
    "### 6. Comenta la siguiente frase: Con await puedo esperar por promesas en cualquier parte de mi código."
   ]
  },
  {
   "cell_type": "markdown",
   "metadata": {},
   "source": [
    "R: Falso, el await debe estar dentro de una función marcada con `async`, no puede ser en cualquier lado"
   ]
  },
  {
   "cell_type": "markdown",
   "metadata": {},
   "source": [
    "###  7. ¿Cuál es el rol de componentes como NodeJS, Ruby on Rails y otros?¿Qué aportan a una aplicación web?"
   ]
  },
  {
   "cell_type": "markdown",
   "metadata": {},
   "source": [
    "R// Aportan la lógica de la aplicación."
   ]
  },
  {
   "cell_type": "markdown",
   "metadata": {},
   "source": [
    "### 8. ¿Por qué no sería correcto ocupar un tag `<b></b>` para colocar las letras negras en nuestro HTML?"
   ]
  },
  {
   "cell_type": "markdown",
   "metadata": {},
   "source": [
    "r// no es correcto, porque es una funcionalidad de ESTILO y todo lo relacionado con estilo debe estar en el CSS"
   ]
  },
  {
   "cell_type": "markdown",
   "metadata": {},
   "source": [
    "### 9. Explica cómo es el proceso, desde el punto de vista del protocolo HTTP, cuando un sitio te redirecciona a otro."
   ]
  },
  {
   "cell_type": "markdown",
   "metadata": {},
   "source": [
    "r// \n",
    "1. Se envía un request HTTP para un recurso que se movío.\n",
    "2. el servidor retorna un mensaje con código 3XX con la nueva ubicación. \n",
    "\n",
    "3. Para obtener el recurso es necesario hacer una nueva petición HTTP con esa nueva ubicación.\n",
    "\n",
    "o\n",
    "1. El cliente hace una petición(request HTTP)\n",
    "2. El servidor envia una respuesta(response) con cierta estructura."
   ]
  },
  {
   "cell_type": "markdown",
   "metadata": {},
   "source": [
    "### 10. ¿Qué permitió la aparición de AJAX en la historia de la web? Menciona un ejemplo."
   ]
  },
  {
   "cell_type": "markdown",
   "metadata": {},
   "source": [
    "r// Poder hacer request asíncronos, pudiendo cargar contenido sin tener que refrescar el sitio."
   ]
  },
  {
   "cell_type": "markdown",
   "metadata": {},
   "source": [
    "# Parte 2: Preguntas prácticas\n"
   ]
  },
  {
   "cell_type": "markdown",
   "metadata": {},
   "source": [
    "### Parte A (20 pts): WualY\n",
    "\n",
    "Eres un aficionado a la astronomía y crees que has descubierto un planeta. Para esto te pones a investigar cómo poder registrar tu descubrimiento. Después de leer bastante te topaste con una librería de la `NASA` llamada \"WualY\". La librería define lo siguiente:\n",
    "\n",
    "* `wualy.checkDiscovery(X, Y, Z, callback)`: Función que recibe tres coordenadas y revisa si en esa posición hay algún planeta que no está descubierto. Al terminar llama a la función entregada como `callback` con dos parámetros: el primero es `true` si existe el planeta en esa posición y el segundo toma el valor del nombre del planeta en esa posición. En caso de que efectivamente sea un descubrimiento, el primer parámetro será `true` y el segundo `false`.\n",
    "\n",
    "\n",
    "* `wualy.registerDiscovery(X, Y, Z, callback)`: Función que recibe tres coordenadas y registra tu descubrimiento. Al terminar, llama a la función entregada como `callback` y le entrega como parámetro el identificador del descubrimiento. Es extremadamente importante notar que la documentación de la `NASA` indica que, si llamas a esta función con coordenadas erróneas, serás bloqueado para siempre!\n",
    "\n",
    "* `wualy.addDiscoveryAuthor(discoveryId, author, callback)`: Función que recibe al autor del descubrimiento para registrarlo. Al terminar, llama a la función entregada como `callback` y le entrega como parámetro `true` si se registró correctamente y `false` en otro caso.\n",
    "\n",
    "* `wualy.addDiscoveryName(discoveryId, name, callback)`: Función que recibe un nombre para el descubrimiento y lo registra. Al terminar, llama a la función entregada como `callback` y le entrega como parámetro `true` si se registró correctamente y `false` en otro caso.\n",
    "\n",
    "* `wualy.addDiscoveryImage(discoveryId, image, callback)`: Función que recibe una imagen para el descubrimiento y la registra. Al terminar, llama a la función entregada como `callback` y le entrega como parámetro `true` si se registró correctamente y `false` en otro caso.\n",
    "\n",
    "\n",
    "\n",
    "#### Preguntas:\n",
    "\n",
    "* (15 pt) Escribe una función que reciba 3 coordenadas, un nombre del descubrimiento, un autor y una imagen y resuelva este proceso automáticamente. Debe indicar en consola si cada paso se llevó con éxito o no. Si todo se lleva a cabo correctamente, también debes indicarlo en consola.\n",
    "\n",
    "* (5 pts) Explica, con palabras, desde qué paso podrías \"paralelizar\" las tareas y el por qué. Indica además si existiría algún problema al implementar una solución de este estilo. \n"
   ]
  },
  {
   "cell_type": "code",
   "execution_count": null,
   "metadata": {},
   "outputs": [],
   "source": [
    "function revisarmidescubrimiento(X, Y, Z, name, author, image) {\n",
    "    \n",
    "    //begin solution\n",
    "    // ( imaginarse lo descrito y que la función pasa los argumentos a nuestro callback,\n",
    "    // luego solo tengo que escribir el callback de c/situación. )\n",
    "    wualy.checkDiscovery(X, Y, Z, function(planetaexiste, nombreplaneta){ \n",
    "        if (!planetaexiste) return console.log('No existe planeta en esa posición') // para la funcion completa con return\n",
    "        else if (planetaexiste && nombreplaneta) return console.log('el planeta ya existe') // para la función con return(nos salimos)\n",
    "        else if (planetaexiste && (nombreplaneta == false)) console.log('Hiciste un descubrimiento') // PODEMOS SEGUIR.\n",
    "        \n",
    "        wualy.registerDiscovery(X, Y, Z, function(id_descubrimiento){\n",
    "            console.log('Terminaste de registrar tu decubrimiento con id:', id_descubrimiento);\n",
    "            \n",
    "            wualy.addDiscoveryAuthor(id_descubrimiento, author, function(booleano){\n",
    "                if (!booleano) return console.log('Error al agregar al autor al descubrimiento') // paramos la función con return\n",
    "                else if (booleano) console.log('Autor agregado correctamente')\n",
    "                \n",
    "                wualy.addDiscoveryName(id_descubrimiento, name, function(booleano2){\n",
    "                    if (!booleano2) return console.log('Error al agregar el nombre del descubrimiento')// paramos l funcion con return\n",
    "                    else if (booleano2) console.log('Nombre agregado al descubrimiento correctamente')\n",
    "                    \n",
    "                    wualy.addDiscoveryImage(id_descubrimiento, image, function(booleano3){\n",
    "                        if (!booleano) return console.log('Error al agregar al guardar la imagen del descubrimiento') // paramos la función con return\n",
    "                        else if (booleano) console.log('imagen guardada correctamente')\n",
    "                        \n",
    "                        console.log('Proceso de registro de descubrimiento COMPLETADO')\n",
    "                    })\n",
    "                \n",
    "                })\n",
    "            })    \n",
    "            \n",
    "        })\n",
    "    })\n",
    "    \n",
    "    //end solution\n",
    "    \n",
    "}\n",
    "\n",
    "revisarmidescubrimiento(2, 3, 10, 'nuevaluna', 'fabian', 'foto')"
   ]
  },
  {
   "cell_type": "markdown",
   "metadata": {},
   "source": [
    "####   Explica, con palabras, desde qué paso podrías \"paralelizar\" las tareas y el por qué. Indica además si existiría algún problema al implementar una solución de este estilo. \n",
    "\n",
    "R// - Después de obtener el id se podrían hacer esos pasos en paralelo. ( agregar autor, nombre e imagen)\n",
    "Porque ya no necesitamos un valor nuevo de la función anterior anidada.\n",
    "Sin embargo, se pierde el mensaje del final ya que no podriamos saber cuando terminan.\n",
    "\n",
    "- En las soluciones de este estilo se forma este callback hell o pirámide de la perdición, los cuales son dificiles de mantener y poco legibles para leer para el codificador, por lo tanto dificil de 'debuggear' (econtrar errores)\n",
    "- y para este tipo de solución es mejor usar promesas o Async/Awaits"
   ]
  },
  {
   "cell_type": "markdown",
   "metadata": {},
   "source": [
    "### Parte B (20 pts): DCCSI\n",
    "\n",
    "Estás en el negocio de la investigación de escenas del crimen y has creado un software para que tus agentes no olviden ningún paso en sus investigaciones. Ellos tienen lentes especiales que permiten recibir y enviar mensajes.\n",
    "\n",
    "Cuando llegan a la escena del crimen, tu equipo se debe dividir en 3 grupos: los que revisan el exterior, interior y el cuerpo. Todo esto se realiza al mismo tiempo.\n",
    "\n",
    "Al terminar todos, se reunen y comparten sus ideas. Podría salir de esta reunión que alguno deba revisar nuevamente sus hallazgos.\n",
    "\n",
    "Una vez terminado lo anterior, se juntan a revisar los hallazgos y emiten un primer análisis si fue asesinato o no.\n",
    "\n",
    "#### Preguntas:\n",
    "\n",
    "* (20 pt) Escribe una función que reciba un arreglo con tus agentes (puedes suponer que siempre serán 9 personas) y realicen este proceso. La función debe retornar una promesa que, al ser resuelta, retorne `true` si tus agentes piensan que fue un asesinato o `false` en caso contrario.\n",
    "\n",
    "Los detalles de la interfaz de tus agentes son los siguientes:\n",
    "\n",
    "Puedes suponer que ninguna falla.\n",
    "\n",
    "* `agent.checkInside()`: función que ordena a un agente a revisar dentro de una casa. Retorna una promesa que se resuelve cuando el agente termina. \n",
    "\n",
    "* `agent.checkOutside()`: función que ordena a un agente a revisar fuera de una casa. Retorna una promesa que se resuelve cuando el agente termina.\n",
    "\n",
    "* `agent.checkBody()`: función que ordena a un agente a revisar el cuerpo. Retorna una promesa que se resuelve cuando el agente termina. \n",
    "\n",
    "* `agent.checkAgain()`: función que ordena a un agente a revisar nuevamente sus hallazgos. Retorna una promesa que se resuelve cuando el agente termina. \n",
    "\n",
    "* `agent.shareIdeas()`: función que hace que el agente comparta sus ideas. Retorna una promesa que, al resolverse, retorna `true` si está listo con sus hallazgos o `false` si debe revisarlos de nuevo. \n",
    "\n",
    "* `agent.voteIsMurder()`: función que hace que el agente indique si vota que la escena es de un homicidio . Retorna una promesa que, al resolverse, retorna `true` si cree que es homicidio o `false` en otro caso. \n",
    "\n",
    "Puedes ocupar la siguiente función que te puede ayudar:\n",
    "\n",
    "* `waitForAllPromises([p1, p2, ...])`: Función que espera a que todas las promesas se resuelvan (permite el funcionamiento \"en paralelo\"). Retorna una promesa que, al ser resuelta, contiene en un arreglo las respuestas de cada promesa en el orden en que se indicaron. **NOTA:** Es equivalente a `Promise.all()`.\n",
    "\n"
   ]
  },
  {
   "cell_type": "code",
   "execution_count": null,
   "metadata": {},
   "outputs": [],
   "source": [
    "async function checkCrimeScene(agents){\n",
    "    // agents: [a1, a2, a3, a4, a5, a6, a7, a8, a9]\n",
    "    \n",
    "    // 1. Agentes revisan el exterior\n",
    "    let p_check_outside = Promise.all([agents[0].checkOutside(), agents[1].checkOutside(),\n",
    "                                        agents[2].cheackOutside()])\n",
    "    // retorna una promesa que se compone de las promesas de cada agente que va revisar afuera\n",
    "                                        \n",
    "    \n",
    "    // 2. Agentes revisan el interior\n",
    "    let p_check_inside = Promise.all([agents[3].checkInside(), agents[4].checkInside(),\n",
    "                                     agents[5].checkInside()])\n",
    "    \n",
    "    //retorna una promesa pendiente que se compone de las promesas de cada agente que va revisar dentro\n",
    "    \n",
    "    // 3. Agentes revisan el cuerpo\n",
    "    let p_check_body = Promise.all([agents[6].checkBody(), agents[7].checkBody(),\n",
    "                                 agents[8].checkBody()])\n",
    "\n",
    "    // retorna una promesa pendiente que se compone de las promesas de cada agente que revisa el cuerpo\n",
    "    \n",
    "    // 4. NOS DETENEMOS ACÁ, hasta que se cumplan las promesas: check_outside, check_inside, check_body\n",
    "    await Promise.all([p_check_outside, p_check_inside, p_check_body]); // retorna una promesa que se compoen\n",
    "                                                                // con las 3 promesas definidas arriba\n",
    "    // si se resuelve -> el await va capturar la respuesta de Promise.all que es una lista\n",
    "    // con las respuestas(reponses) de las promesas que componen a Promise.all( pero en este caso no capturamos\n",
    "    // la respuesta, solo estamos esperándolos, pq sabemos que si se resolvieron es porque lo hicieron\n",
    "    //bien y no queremos más input que eso) (obtendriamos una matriz de trues, que no serviría para nada.)\n",
    "\n",
    "    \n",
    "    // 5. Terminan todos, se reunen y cada agente comparten sus ideas y ven si cada uno\n",
    "    // ya tiene todo lo necesario.\n",
    "    \n",
    "    let check_agents_ideas = agents.map(elem => \n",
    "                                        elem.shareIdeas() // 6. el elem se conviernte en una promesa pendiente 'de compartir su idea'\n",
    "                                                          //que si se resuelve retorna su respuesta(response) que puede ser:\n",
    "                                                          //true: si está listo con sus hallazgos|false: cree que le falta revisar.\n",
    "                                        \n",
    "                                        .then( booleano => { // paso adicional, para volverlo a convertir en una promesa, si quiere chequear denuevo.\n",
    "                                        if (!booleano) {return elem.checkAgain()}; // 6.1 se convierte en una promesa pendiente de chequear denuevo\n",
    "                                        if (booleano) {return booleano}; //return true -> compartió su idea.\n",
    "                                        });\n",
    "                                       )\n",
    "    \n",
    "    // lo de arriba crea una lista; donde cada elemento es una promesa pendiente de un agente de compartir su idea\n",
    "    // ( o también un elemento puede ser una promesa pendiente de un agente de revisar denuevo)\n",
    "    \n",
    "    \n",
    "    //Por lo tanto: check_agents_ideas es una lista de promesas pendientes\n",
    "    \n",
    "    // Usando promise all, 'creamos'(retornamos) una promesa que se resuelve solo si las promesas que la componen\n",
    "    // se resuelve ( y recordar que se pasa como parametro ua lista de promesas pendientes)\n",
    "    await Promise.all(check_agents_ideas)  // 7. NOS DETENEMOS ACÁ, hasta que todos los agentes compartan sus ideas.(hasta que ningun elem sea una promesa)\n",
    "    \n",
    "    \n",
    "    \n",
    "    //8. ahora todos prometen votar si es homicidio o no y los vamos a esperar que terminen.\n",
    "    \n",
    "    let votos_agentes = await Promise.all(agents.map( elem => elem.voteIsMurder())); \n",
    "    // agents.map( elem => elem.voteIsMurder()) // retorna una lisat de promesas pendientes a resolverse\n",
    "    // Promise.all [ lalista de arriba] // crea o retorna una Promesa que se resuelve solo si se resuelven todoas las promesas que contiene\n",
    "    \n",
    "    // await: espera hasta que se resuelva Promise.all \n",
    "    // votos_agentes = es una lista donde cada elemento tiene la respuesta de cada promesa pequeña del promise.all\n",
    "    // en este ejemplo cada elemento puede ser true or false\n",
    "    \n",
    "    \n",
    "    let votos_que_si = votos_agentes.reduce( (total, booleano) => {\n",
    "                                                                if (booleano) {\n",
    "                                                                    total += 1\n",
    "                                                                }\n",
    "                                                                }) // reduce , se queda con el valor del total (o acumulador)\n",
    "    \n",
    "    // Veridicto final.\n",
    "    \n",
    "    \n",
    "    if (votos_que_si > agents.length / 2) {\n",
    "        return true;\n",
    "    } else {\n",
    "        return false;\n",
    "    }\n",
    "}"
   ]
  },
  {
   "cell_type": "code",
   "execution_count": null,
   "metadata": {},
   "outputs": [],
   "source": [
    "// CON MENOS COMENTARIOS:\n",
    "async function checkCrimeScene(agents){\n",
    "    // agents: [a1, a2, a3, a4, a5, a6, a7, a8, a9]\n",
    "    \n",
    "    // 1. Agentes revisan el exterior\n",
    "    let p_check_outside = Promise.all([agents[0].checkOutside(), agents[1].checkOutside(),\n",
    "                                        agents[2].cheackOutside()])\n",
    "    \n",
    "    // 2. Agentes revisan el interior\n",
    "    let p_check_inside = Promise.all([agents[3].checkInside(), agents[4].checkInside(),\n",
    "                                     agents[5].checkInside()])    \n",
    "    // 3. Agentes revisan el cuerpo\n",
    "    let p_check_body = Promise.all([agents[6].checkBody(), agents[7].checkBody(),\n",
    "                                 agents[8].checkBody()])\n",
    "\n",
    "    // retorna una promesa pendiente que se compone de las promesas de cada agente que revisa el cuerpo\n",
    "    \n",
    "    // 4. NOS DETENEMOS ACÁ, hasta que se cumplan las promesas: check_outside, check_inside, check_body\n",
    "    await Promise.all([p_check_outside, p_check_inside, p_check_body]); \n",
    "    \n",
    "    // 5. Terminan todos, se reunen y cada agente comparten sus ideas y ven si cada uno\n",
    "    // ya tiene todo lo necesario.\n",
    "    \n",
    "    let check_agents_ideas = agents.map(elem => \n",
    "                                        elem.shareIdeas() // 6. se convierte en una promesa pendiente de compartir sus ideas\n",
    "                                                          // que si se resuelve: retorna true o false de respuesta\n",
    "                                                          //true: cree que es homicidio|false: cree que no\n",
    "                                        .then( booleano => {\n",
    "                                        if (!booleano) {return elem.checkAgain()}; // 6.1 se convierte en una promesa pendiente de chequear denuevo\n",
    "                                        if (booleano) {return booleano}; //return true\n",
    "                                        });\n",
    "                                       )\n",
    "    \n",
    "    await Promise.all(check_agents_ideas)  // 7. NOS DETENEMOS ACÁ, hasta que todos los agentes compartan sus ideas.\n",
    "    \n",
    "    \n",
    "    \n",
    "    //8.  todos prometen votar si es homicidio o no y los vamos a esperar que terminen.\n",
    "    \n",
    "    let votos_agentes = await Promise.all(agents.map( elem => elem.voteIsMurder())); \n",
    "    \n",
    "    let votos_que_si = votos_agentes.reduce( (total, booleano) => {\n",
    "                                                                if (booleano) {\n",
    "                                                                    total += 1\n",
    "                                                                }\n",
    "                                                                }) // reduce , se queda con el valor del total (o acumulador)\n",
    "    \n",
    "    // Veridicto final.\n",
    "    \n",
    "    \n",
    "    if (votos_que_si > agents.length / 2) {\n",
    "        return true;\n",
    "    } else {\n",
    "        return false;\n",
    "    }"
   ]
  }
 ],
 "metadata": {
  "kernelspec": {
   "display_name": "Javascript (Node.js)",
   "language": "javascript",
   "name": "javascript"
  },
  "language_info": {
   "file_extension": ".js",
   "mimetype": "application/javascript",
   "name": "javascript",
   "version": "10.13.0"
  }
 },
 "nbformat": 4,
 "nbformat_minor": 4
}
