{
 "cells": [
  {
   "cell_type": "markdown",
   "metadata": {},
   "source": [
    "# Javascript - Scope\n",
    "\n",
    "Hoy veremos un tema que está relacionado con el acceso a variables. Por el momento sólo veremos casos simples, ya que posteriormente, a lo largo del curso, veremos otras propiedades de este lenguaje.\n",
    "\n",
    "Antes de ES6, las declaraciones `var` y `function` tienen scope de función. Desde el estándar antes mencionado, se ingresan las declaraciones con `let` y `const` que tienen scope de bloque.\n",
    "\n",
    "Actualmente el uso de `var` se ha visto bastante disminuído en favor de `let` y `const`. Estos nuevos \"amigos\" tienen un scope más controlado, lo que es menos propenso a errores. Además, evitan lo que se conoce como \"scope monster\".\n",
    "\n",
    "\n",
    "## ¡Intenta adivinar el resultado!\n",
    "\n",
    "A continuación veremos distintos ejemplos, la idea es que te anticipes al resultado de las salidas de los códigos a continuación.\n"
   ]
  },
  {
   "cell_type": "markdown",
   "metadata": {},
   "source": [
    "\n",
    "`var`\n",
    "\n",
    "- tiene scope de función: \n",
    "1. Declaro fuera de cualquier funcion -> se puede acceder afuera y dentro de la función.\n",
    "2. Declaro dentro de una función -> se puede acceder solo dentro de la función.\n",
    "\n",
    "\n"
   ]
  },
  {
   "cell_type": "code",
   "execution_count": 19,
   "metadata": {},
   "outputs": [
    {
     "name": "stdout",
     "output_type": "stream",
     "text": [
      "1\n",
      "1\n"
     ]
    }
   ],
   "source": [
    "var a = 1; // scope global de var\n",
    "function global() {\n",
    " console.log(a);\n",
    "}\n",
    "global();\n",
    "console.log(a);"
   ]
  },
  {
   "cell_type": "code",
   "execution_count": 20,
   "metadata": {},
   "outputs": [
    {
     "name": "stdout",
     "output_type": "stream",
     "text": [
      "2\n",
      "1\n"
     ]
    }
   ],
   "source": [
    "function local() { \n",
    " var a = 2;    // scope local de var\n",
    " console.log(a);\n",
    "}\n",
    "local();\n",
    "console.log(a);"
   ]
  },
  {
   "cell_type": "markdown",
   "metadata": {},
   "source": [
    "\n",
    "### Ejercicio 1\n",
    "\n",
    "El siguiente código tiene dos salidas ¿Cuáles son?"
   ]
  },
  {
   "cell_type": "code",
   "execution_count": 1,
   "metadata": {
    "scrolled": true
   },
   "outputs": [
    {
     "name": "stdout",
     "output_type": "stream",
     "text": [
      "5\n",
      "5\n"
     ]
    }
   ],
   "source": [
    "var x = 5;\n",
    "console.log(x);\n",
    "function testOne() {\n",
    "    console.log(x);\n",
    "}\n",
    "\n",
    "testOne();"
   ]
  },
  {
   "cell_type": "markdown",
   "metadata": {},
   "source": [
    "### Ejercicio 2\n",
    "\n",
    "¿Fácil no? El siguiente código tiene tres salidas ¿Cuáles son?"
   ]
  },
  {
   "cell_type": "code",
   "execution_count": 21,
   "metadata": {},
   "outputs": [
    {
     "name": "stdout",
     "output_type": "stream",
     "text": [
      "5\n",
      "19\n"
     ]
    },
    {
     "ename": "ReferenceError",
     "evalue": "y is not defined",
     "output_type": "error",
     "traceback": [
      "evalmachine.<anonymous>:10",
      "console.log(y); // error porque la variable y, tiene scope local",
      "            ^",
      "",
      "ReferenceError: y is not defined",
      "    at evalmachine.<anonymous>:10:13",
      "    at Script.runInThisContext (vm.js:122:20)",
      "    at Object.runInThisContext (vm.js:329:38)",
      "    at run ([eval]:1002:15)",
      "    at onRunRequest ([eval]:829:18)",
      "    at onMessage ([eval]:789:13)",
      "    at process.emit (events.js:198:13)",
      "    at emit (internal/child_process.js:832:12)",
      "    at process._tickCallback (internal/process/next_tick.js:63:19)"
     ]
    }
   ],
   "source": [
    "var x = 5;\n",
    "console.log(x);\n",
    "function testOne() {\n",
    "    var y = 10;\n",
    "    y = x + 14;\n",
    "    console.log(y);\n",
    "}\n",
    "\n",
    "testOne();\n",
    "console.log(y); // error porque la variable y, tiene scope local"
   ]
  },
  {
   "cell_type": "markdown",
   "metadata": {},
   "source": [
    "### Ejercicio 3\n",
    "\n",
    "El siguiente código tiene tres salidas ¿Cuáles son?"
   ]
  },
  {
   "cell_type": "code",
   "execution_count": 22,
   "metadata": {},
   "outputs": [
    {
     "name": "stdout",
     "output_type": "stream",
     "text": [
      "5\n",
      "15\n",
      "15\n"
     ]
    }
   ],
   "source": [
    "var x = 5;\n",
    "console.log(x);\n",
    "function testOne() {\n",
    "    x = x + 10;\n",
    "    console.log(x);\n",
    "}\n",
    "\n",
    "testOne();\n",
    "console.log(x);"
   ]
  },
  {
   "cell_type": "markdown",
   "metadata": {},
   "source": [
    "### Ejercicio 4\n",
    "\n",
    "El siguiente código tiene tres salidas ¿Cuáles son?"
   ]
  },
  {
   "cell_type": "code",
   "execution_count": 25,
   "metadata": {},
   "outputs": [
    {
     "name": "stdout",
     "output_type": "stream",
     "text": [
      "5\n",
      "10\n",
      "5\n",
      "5\n"
     ]
    }
   ],
   "source": [
    "var x = 5; // x tiene scope global\n",
    "console.log(x);\n",
    "function testOne() {\n",
    "    var x = 10;      // x tiene scope local (en esta funcion)\n",
    "    console.log(x); \n",
    "}\n",
    "\n",
    "function testtwo() {\n",
    "    console.log(x) // el x global\n",
    "}\n",
    "// declaré denuevo un x con distinto scope -> son distintos x.\n",
    "\n",
    "testOne();\n",
    "console.log(x);\n",
    "testtwo();"
   ]
  },
  {
   "cell_type": "markdown",
   "metadata": {},
   "source": [
    "### Ejercicio 5\n",
    "\n",
    "El siguiente código tiene cinco salidas ¿Cuáles son?"
   ]
  },
  {
   "cell_type": "code",
   "execution_count": 28,
   "metadata": {},
   "outputs": [
    {
     "name": "stdout",
     "output_type": "stream",
     "text": [
      "5\n",
      "2\n",
      "15\n",
      "10\n",
      "5\n"
     ]
    }
   ],
   "source": [
    "var x = 5; // x scope global\n",
    "var z = 1; // z scope global\n",
    "console.log(x); // x -> 5\n",
    "function testOne() {\n",
    "    var x = 2; // x scope local(distinto al global)\n",
    "    var y = 5; // y scope local \n",
    "    var z = 2; // z scope local(distinto al global)\n",
    "    console.log(x); // x -> 2\n",
    "    if(x < 5) {\n",
    "        var z = 10; // z scope local  (estoy en el mismo scope de funcion,\n",
    "                    // y si declaro dentro del mismo scope -> se sobreescribe)\n",
    "                    // solo si es var( pq let y const no se sobreescribe)\n",
    "        console.log(z + y); // z + y -> 10 + 5 = 15\n",
    "    }\n",
    "    console.log(z); // z -> 10 (PQ EL IF ESTÁ DENTRO DE LA MISMA FUNCION)\n",
    "}\n",
    "\n",
    "testOne();\n",
    "console.log(x); // z -> 5"
   ]
  },
  {
   "cell_type": "markdown",
   "metadata": {},
   "source": [
    "Te das cuenta como empieza a **aparecer el \"scope monster\"** ¿A qué valor de `z` podría querer acceder dentro del `if`?"
   ]
  },
  {
   "cell_type": "markdown",
   "metadata": {},
   "source": [
    "## ¡Intenta adivinar el resultado! (Reloaded: con `let` y `const`)\n",
    "\n",
    "A continuación veremos distintos ejemplos pero ahora con `let` y `const`. Para estos casos **solo podrás correrlos UNA vez**, si quieres correrlos más veces tienes que reiniciar el kernel (En la barra de opciones `Kernel/Restart`)."
   ]
  },
  {
   "cell_type": "markdown",
   "metadata": {},
   "source": [
    "`let` y `const`:\n",
    "\n",
    "- Scope de bloque (un bloque de codigo: entre '{}' llaves o curly braces)\n",
    "\n",
    "- Scope de bloque, contiene a los bloques más chicos\n",
    "\n",
    "- pero si, declaro la misma variable en un bloque más chico -> el scope del más grande ignora a ese bloque.\n",
    "\n",
    "\n",
    "- si se declaran denuevo una variable let o const con IGUAL nombre e IGUAL scope -> tira error ( no se sobreescriben)\n",
    "\n",
    "\n"
   ]
  },
  {
   "cell_type": "code",
   "execution_count": 1,
   "metadata": {},
   "outputs": [
    {
     "name": "stdout",
     "output_type": "stream",
     "text": [
      "10\n"
     ]
    }
   ],
   "source": [
    "let v1 = 10; // v1 : scop de bloque (imaginar {}, bajo el let)\n",
    "if (true) {\n",
    "    console.log(v1)\n",
    "}\n"
   ]
  },
  {
   "cell_type": "code",
   "execution_count": 2,
   "metadata": {},
   "outputs": [
    {
     "name": "stdout",
     "output_type": "stream",
     "text": [
      "10\n"
     ]
    }
   ],
   "source": [
    "let v2 = 10; // v2 : scop de bloque (imaginar {}, bajo el let)\n",
    "function ejemplo() {\n",
    "    console.log(v2)\n",
    "}\n",
    "ejemplo()"
   ]
  },
  {
   "cell_type": "code",
   "execution_count": 1,
   "metadata": {},
   "outputs": [
    {
     "name": "stdout",
     "output_type": "stream",
     "text": [
      "20\n",
      "10\n"
     ]
    }
   ],
   "source": [
    "let v3 = 10; // v3 : scoop de bloque (imaginar {}, bajo el let)\n",
    "if (true) {\n",
    "    let v3 = 20; // v3: scoop de bloque (v3 != al v3 de arriba)\n",
    "                 // no tira error, porque la declare en otro scope \n",
    "                // -> es otra variable aunque tenga el mismo nombre\n",
    "    console.log(v3) \n",
    "}\n",
    "\n",
    "console.log(v3)"
   ]
  },
  {
   "cell_type": "code",
   "execution_count": 2,
   "metadata": {},
   "outputs": [
    {
     "name": "stdout",
     "output_type": "stream",
     "text": [
      "10\n"
     ]
    }
   ],
   "source": [
    "if (true) {\n",
    "    let v4 = 10;\n",
    "    if (true){\n",
    "        console.log(v4) // ek scope de bloque contiene a los bloques mas chicos\n",
    "    }                   // solo si, no declaro denuevo la variable\n",
    "                       //en un scope o bloque mas chico\n",
    "}"
   ]
  },
  {
   "cell_type": "code",
   "execution_count": 3,
   "metadata": {},
   "outputs": [
    {
     "name": "stdout",
     "output_type": "stream",
     "text": [
      "20\n"
     ]
    }
   ],
   "source": [
    "if (true) {\n",
    "    let v4 = 10;\n",
    "    if (true){\n",
    "        let v4 = 20; // s\n",
    "        console.log(v4)\n",
    "    }\n",
    "}"
   ]
  },
  {
   "cell_type": "markdown",
   "metadata": {},
   "source": [
    "### Ejercicio 1\n",
    "\n",
    "El siguiente código tiene tres salidas ¿Cuáles son?"
   ]
  },
  {
   "cell_type": "code",
   "execution_count": 29,
   "metadata": {},
   "outputs": [
    {
     "name": "stdout",
     "output_type": "stream",
     "text": [
      "5\n",
      "8\n",
      "8\n"
     ]
    }
   ],
   "source": [
    "let e1 = 5;\n",
    "console.log(e1); // e1 -> 5\n",
    "function testOne() {\n",
    "    e1 = e1 + 3;    \n",
    "    console.log(e1); // e1 -> 8\n",
    "}\n",
    "\n",
    "testOne();\n",
    "console.log(e1); // e1 -> 8"
   ]
  },
  {
   "cell_type": "markdown",
   "metadata": {},
   "source": [
    "### Ejercicio 2\n",
    "\n",
    "El siguiente código tiene tres salidas ¿Cuáles son?"
   ]
  },
  {
   "cell_type": "code",
   "execution_count": 30,
   "metadata": {},
   "outputs": [
    {
     "name": "stdout",
     "output_type": "stream",
     "text": [
      "5\n"
     ]
    },
    {
     "ename": "TypeError",
     "evalue": "Assignment to constant variable.",
     "output_type": "error",
     "traceback": [
      "evalmachine.<anonymous>:4",
      "    e2 = e2 + 3;  // error: porque const no se puede cambiar su valor",
      "       ^",
      "",
      "TypeError: Assignment to constant variable.",
      "    at testOne (evalmachine.<anonymous>:4:8)",
      "    at evalmachine.<anonymous>:8:1",
      "    at Script.runInThisContext (vm.js:122:20)",
      "    at Object.runInThisContext (vm.js:329:38)",
      "    at run ([eval]:1002:15)",
      "    at onRunRequest ([eval]:829:18)",
      "    at onMessage ([eval]:789:13)",
      "    at process.emit (events.js:198:13)",
      "    at emit (internal/child_process.js:832:12)",
      "    at process._tickCallback (internal/process/next_tick.js:63:19)"
     ]
    }
   ],
   "source": [
    "const e2 = 5;\n",
    "console.log(e2); // e2 -> 5\n",
    "function testOne() {\n",
    "    e2 = e2 + 3;  // error: porque const no se puede cambiar su valor(no es seteable)\n",
    "    console.log(e2);  \n",
    "}\n",
    "\n",
    "testOne();\n",
    "console.log(e2);"
   ]
  },
  {
   "cell_type": "markdown",
   "metadata": {},
   "source": [
    "¿Qué pasó en este caso? ¿Por qué no funcionó como en el caso anterior si es prácticamente el mismo código?\n",
    "\n",
    "Bueno, esa es una de las diferencias entre `let` y `const`. Mientras el primero permite el cambio valor de la variable, el segundo la mantiene constante durante la ejecución, por lo que no es posible cambiar su valor. En caso que trates de hacerlo verás el mismo error de arriba, y esto es para protegerte de cambios que no quieres realizar."
   ]
  },
  {
   "cell_type": "markdown",
   "metadata": {},
   "source": [
    "### Ejercicio 3\n",
    "\n",
    "El siguiente código tiene cuatro salidas ¿Cuáles son?\n",
    "Compara este ejercicio con el ejercicio 5 de la sección anterior ¿Cuál es la diferencia del valor de `z3` después del `if`? ¿Pasaba esto en el ejercicio 5? ¿Por qué? La respuesta tiene que ver con el scope de bloque."
   ]
  },
  {
   "cell_type": "code",
   "execution_count": 31,
   "metadata": {},
   "outputs": [
    {
     "name": "stdout",
     "output_type": "stream",
     "text": [
      "5\n",
      "2\n",
      "10\n",
      "2\n"
     ]
    }
   ],
   "source": [
    "const x3 = 5; // x3 scope bloque\n",
    "let z3 = 1;  // z3 scope bloque\n",
    "console.log(x3); // x3 -> 5\n",
    "function testOne() {\n",
    "    let z3 = 2;       // z3 scope bloque\n",
    "    console.log(z3);  // z3 -> 2\n",
    "    if(x3 >= 5) {\n",
    "        let z3 = 10; // z3 scope bloque\n",
    "        console.log(z3); // z3 -> 10\n",
    "    }\n",
    "    console.log(z3); // z3 -> 2\n",
    "}\n",
    "\n",
    "testOne(); "
   ]
  },
  {
   "cell_type": "code",
   "execution_count": null,
   "metadata": {},
   "outputs": [],
   "source": []
  },
  {
   "cell_type": "markdown",
   "metadata": {},
   "source": [
    "# Javascript - Mutabilidad\n",
    "\n",
    "Es una propiedad de una variable de cambiar su estado sin cambiar su referencia. En JavaScript sólo los objetos y arreglos son mutables.\n",
    "\n",
    "## Ejemplos:"
   ]
  },
  {
   "cell_type": "code",
   "execution_count": 4,
   "metadata": {},
   "outputs": [
    {
     "name": "stdout",
     "output_type": "stream",
     "text": [
      "{ identifier: 'IIC2513',\n",
      "  name: 'Tecnologías y Aplicaciones Web' }\n",
      "{ identifier: 'IIC2513',\n",
      "  name: 'Tecnologías y Aplicaciones Web',\n",
      "  teacher: 'Gabriel Vidal' }\n"
     ]
    }
   ],
   "source": [
    "const exampleObject = {\n",
    "    identifier: 'IIC2513',\n",
    "    name: 'Tecnologías y Aplicaciones Web',\n",
    "} // creo un objeto simple. (no tiene clase)\n",
    "console.log(exampleObject);\n",
    "\n",
    "\n",
    "exampleObject.teacher = 'Gabriel Vidal';// se agrega un atributo a un objeto,\n",
    "                                        // -> EL OBJETO 'MUTA'\n",
    "                                        // sin importar si es const, let o var\n",
    "                                        \n",
    "console.log(exampleObject);"
   ]
  },
  {
   "cell_type": "markdown",
   "metadata": {},
   "source": [
    "¿Cómo? ¿Por qué pudo modificar la variable si está declarada con `const`? **R:** Lo que pasa es que la variable no fue cambiada, sino que \"mutó\" añadiendo otra propiedad al objeto.\n",
    "\n",
    "Lo siguiente hubiese sido cambiar la variable (ejecuta el código):"
   ]
  },
  {
   "cell_type": "code",
   "execution_count": 5,
   "metadata": {},
   "outputs": [
    {
     "ename": "TypeError",
     "evalue": "Assignment to constant variable.",
     "output_type": "error",
     "traceback": [
      "evalmachine.<anonymous>:11",
      "exampleObject2 = newExampleObject2; // Error! ESTO ES CAMBIAR LA VARIABLE Y NO MUTAR",
      "               ^",
      "",
      "TypeError: Assignment to constant variable.",
      "    at evalmachine.<anonymous>:11:16",
      "    at Script.runInThisContext (vm.js:122:20)",
      "    at Object.runInThisContext (vm.js:329:38)",
      "    at run ([eval]:1002:15)",
      "    at onRunRequest ([eval]:829:18)",
      "    at onMessage ([eval]:789:13)",
      "    at process.emit (events.js:198:13)",
      "    at emit (internal/child_process.js:832:12)",
      "    at process._tickCallback (internal/process/next_tick.js:63:19)"
     ]
    }
   ],
   "source": [
    "const exampleObject2 = {\n",
    "    identifier: 'IIC2513',\n",
    "    name: 'Tecnologías y Aplicaciones Web',\n",
    "}\n",
    "\n",
    "const newExampleObject2 = {\n",
    "    identifier: 'IIC2513',\n",
    "    name: 'Tecnologías y Aplicaciones Web',\n",
    "}\n",
    "\n",
    "exampleObject2 = newExampleObject2; // Error! \n",
    "// ESTO ES CAMBIAR LA VARIABLE Y NO MUTAR"
   ]
  },
  {
   "cell_type": "code",
   "execution_count": 6,
   "metadata": {},
   "outputs": [
    {
     "data": {
      "text/plain": [
       "{ identifier: 'IIC2513',\n",
       "  name: 'Tecnologías y Aplicaciones Web' }"
      ]
     },
     "execution_count": 6,
     "metadata": {},
     "output_type": "execute_result"
    }
   ],
   "source": [
    "let exampleObject22 = {\n",
    "    identifier: 'IIC2513',\n",
    "    name: 'Tecnologías y Aplicaciones Web',\n",
    "}\n",
    "\n",
    "let newExampleObject22 = {\n",
    "    identifier: 'IIC2513',\n",
    "    name: 'Tecnologías y Aplicaciones Web',\n",
    "}\n",
    "\n",
    "exampleObject22 = newExampleObject22; // SIRVE. \n",
    "// ESTO ES CAMBIAR LA VARIABLE Y NO MUTAR, no tira error porque es LET."
   ]
  },
  {
   "cell_type": "markdown",
   "metadata": {},
   "source": [
    "¿Aunque tengan los mismos valores? **R:** Sí, porque son dos objetos distintos.\n",
    "¿Y si `newExampleObject2` fuese:\n",
    "\n",
    "```javascript\n",
    "const newExampleObject2 = {\n",
    "    identifier: 'IIC1103',\n",
    "    name: 'Introducción a la programación',\n",
    "}\n",
    "```\n",
    "?\n",
    "**R:** Pasaría exactamente igual. Si no me crees pruébalo en este mismo notebook!\n",
    "\n",
    "**Ejercicio Propuesto:** Probar cambiando `const` por `let` y ver si es posible realizar la asignación.\n",
    "\n",
    "Ahora, mira lo que pasa con los arreglos:"
   ]
  },
  {
   "cell_type": "code",
   "execution_count": 7,
   "metadata": {},
   "outputs": [
    {
     "name": "stdout",
     "output_type": "stream",
     "text": [
      "[ 1, 2, 3, 4, 5 ]\n",
      "[ 1, 2, 3, 4, 5, 6 ]\n"
     ]
    },
    {
     "ename": "TypeError",
     "evalue": "Assignment to constant variable.",
     "output_type": "error",
     "traceback": [
      "evalmachine.<anonymous>:8",
      "exampleArray = newExampleArray; // Error!",
      "             ^",
      "",
      "TypeError: Assignment to constant variable.",
      "    at evalmachine.<anonymous>:8:14",
      "    at Script.runInThisContext (vm.js:122:20)",
      "    at Object.runInThisContext (vm.js:329:38)",
      "    at run ([eval]:1002:15)",
      "    at onRunRequest ([eval]:829:18)",
      "    at onMessage ([eval]:789:13)",
      "    at process.emit (events.js:198:13)",
      "    at emit (internal/child_process.js:832:12)",
      "    at process._tickCallback (internal/process/next_tick.js:63:19)"
     ]
    }
   ],
   "source": [
    "const exampleArray = [1,2,3,4,5];\n",
    "console.log(exampleArray);\n",
    "\n",
    "exampleArray.push(6); // se pude 'mutar' una variable const\n",
    "console.log(exampleArray); \n",
    "\n",
    "const newExampleArray = [9,8,7,6]; \n",
    "exampleArray = newExampleArray; // Error! // no se puede reasignar una variable const"
   ]
  },
  {
   "cell_type": "markdown",
   "metadata": {},
   "source": [
    "# Resumen\n",
    "\n",
    "En este notebook pudimos aprender y ejercitar varios aspectos de JavaScript. En particular:\n",
    "\n",
    "* Scope de función y de bloque\n",
    "* Declaración de variables con `const` y `let`, e implicancias.\n",
    "* Objetos y arreglos\n",
    "* Mutabilidad\n",
    "\n",
    "Para mayor información:\n",
    "\n",
    "- Mutabilidad: https://developer.mozilla.org/en-US/docs/Glossary/Mutable\n",
    "- Scope: https://hackernoon.com/js-var-let-or-const-67e51dbb716f\n",
    "- `const`: https://developer.mozilla.org/en-US/docs/Web/JavaScript/Reference/Statements/const\n",
    "- `let`: https://developer.mozilla.org/en-US/docs/Web/JavaScript/Reference/Statements/let "
   ]
  }
 ],
 "metadata": {
  "kernelspec": {
   "display_name": "Javascript (Node.js)",
   "language": "javascript",
   "name": "javascript"
  },
  "language_info": {
   "file_extension": ".js",
   "mimetype": "application/javascript",
   "name": "javascript",
   "version": "10.13.0"
  }
 },
 "nbformat": 4,
 "nbformat_minor": 2
}
