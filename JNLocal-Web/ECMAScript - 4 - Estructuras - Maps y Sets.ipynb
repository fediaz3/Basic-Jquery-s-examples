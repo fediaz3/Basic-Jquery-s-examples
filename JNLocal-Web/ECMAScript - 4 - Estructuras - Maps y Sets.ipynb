{
 "cells": [
  {
   "cell_type": "markdown",
   "metadata": {},
   "source": [
    "### MAP \n",
    "(como diccionarios en python)\n",
    "- Sirve para tener pares key/value.  y pueden ser cualquier cosa\n",
    "1. key/values: son de cualquier tipo: incluso, funciones y objetos\n",
    "2. Se puede iterar, obtener el tamaño\n",
    "3. Es eficiente usarlo en situaciones que hay que sacar y agregar frecuentemente pares key/value\n",
    "\n",
    "- 1 es != a '1' y son distintos tipos de datos en el MAP"
   ]
  },
  {
   "cell_type": "code",
   "execution_count": 1,
   "metadata": {},
   "outputs": [],
   "source": [
    "var map = new Map([ ['k1', 'v1'], ['k2', 'v2'], ['k3', 'v3'] ]) // definir un objeto map"
   ]
  },
  {
   "cell_type": "code",
   "execution_count": 2,
   "metadata": {},
   "outputs": [
    {
     "name": "stdout",
     "output_type": "stream",
     "text": [
      "3\n",
      "v2\n",
      "false\n",
      "true\n",
      "[Map Iterator] { 'k1', 'k3' }\n",
      "[Map Iterator] { 'v1', 'v3' }\n",
      "[Map Iterator] { [ 'k1', 'v1' ], [ 'k3', 'v3' ] }\n",
      "Map { 'k1' => 'v1', 'k3' => 'v3' }\n",
      "Map {}\n",
      "Map { 'k100' => 'v100' }\n"
     ]
    }
   ],
   "source": [
    "console.log(map.size)       // largo\n",
    "console.log(map.get('k2'))  // retorna el value de la key: 'k2'\n",
    "console.log(map.has('k10')) // retorna true si está la key 'k10'\n",
    "console.log(map.delete('k2')) // elimina el par key/value con key = 'k2'\n",
    "console.log(map.keys())        // retorna un iterador de las keys\n",
    "console.log(map.values())      // retorna un iterador de values\n",
    "console.log(map.entries())     // retorna un iterador para los pares key, value\n",
    "\n",
    "console.log(map)\n",
    "map.clear() // Elimina todos los pares key/value de map\n",
    "console.log(map) \n",
    "\n",
    "map.set('k100', 'v100') // agrega el par key/value al map\n",
    "console.log(map)\n"
   ]
  },
  {
   "cell_type": "markdown",
   "metadata": {},
   "source": [
    "##### Iterar en un Map"
   ]
  },
  {
   "cell_type": "code",
   "execution_count": 47,
   "metadata": {},
   "outputs": [
    {
     "name": "stdout",
     "output_type": "stream",
     "text": [
      "key: k1, value: v1\n",
      "key: k2, value: v2\n",
      "key: k3, value: v3\n",
      "__________________________________________________________________________________________\n",
      "key: k1, value: v1\n",
      "key: k2, value: v2\n",
      "key: k3, value: v3\n"
     ]
    }
   ],
   "source": [
    "var map2 = new Map([ ['k1', 'v1'], ['k2', 'v2'], ['k3', 'v3'] ]) // definir un objeto map\n",
    "for (var k_v of map2.entries()){\n",
    "    console.log(`key: ${k_v[0]}, value: ${k_v[1]}`)\n",
    "}\n",
    "console.log('___'.repeat(30))\n",
    "var map2 = new Map([ ['k1', 'v1'], ['k2', 'v2'], ['k3', 'v3'] ]) // definir un objeto map\n",
    "\n",
    "for (var [key, value] of map2.entries()){\n",
    "    console.log(`key: ${key}, value: ${value}`)\n",
    "}"
   ]
  },
  {
   "cell_type": "markdown",
   "metadata": {},
   "source": [
    "## Set\n",
    "( como los sets de python)\n",
    "- no están indexados, no hay elementos repetidos (es un conjunto)(se omiten los repetidos)"
   ]
  },
  {
   "cell_type": "code",
   "execution_count": 20,
   "metadata": {},
   "outputs": [],
   "source": [
    "var set = new Set([1, 2, 4, 2, 59, 9, 4, 9, 1]);"
   ]
  },
  {
   "cell_type": "code",
   "execution_count": 44,
   "metadata": {},
   "outputs": [
    {
     "name": "stdout",
     "output_type": "stream",
     "text": [
      "Set { 1, 2, 3, 'hola', 4, 0, 10, '1', 100, 200, 300 }\n",
      "11\n",
      "undefined\n",
      "false\n",
      "Set { 1, 2, 3, 'hola', 4, 0, 10, '1', 100, 200, 300, 'wena' }\n",
      "Set { 1, 2, 3, 'hola', 4, 0, 10, '1', 100, 200, 300 }\n",
      "[Set Iterator] { 1, 2, 3, 'hola', 4, 0, 10, '1', 100, 200, 300 }\n",
      "Set {}\n"
     ]
    },
    {
     "data": {
      "text/plain": [
       "Set { 100, 200, 300 }"
      ]
     },
     "execution_count": 44,
     "metadata": {},
     "output_type": "execute_result"
    }
   ],
   "source": [
    "console.log(set)\n",
    "console.log(set.size) // retorna en largo.\n",
    "console.log(set[1]) // no es indexado, retorna undefined\n",
    "\n",
    "console.log(set.has(59)) // retorna True si el elemento está en el set. ecc -> False\n",
    "\n",
    "set.add('wena')// agrega el elemento al set \n",
    "//set.add(100).add(200).add(300)  //  se pueden anidar adds\n",
    "console.log(set)\n",
    "\n",
    "set.delete('wena') // elimina el elemento del set\n",
    "console.log(set)\n",
    "\n",
    "\n",
    "console.log(set.values()) // retorna un iterador con los elementos del set\n",
    "\n",
    "\n",
    "set.clear()\n",
    "console.log(set)\n"
   ]
  },
  {
   "cell_type": "code",
   "execution_count": 43,
   "metadata": {},
   "outputs": [
    {
     "name": "stdout",
     "output_type": "stream",
     "text": [
      "1\n",
      "2\n",
      "3\n",
      "hola\n",
      "4\n",
      "0\n",
      "10\n",
      "1\n"
     ]
    },
    {
     "data": {
      "text/plain": [
       "Set { 1, 2, 3, 'hola', 4, 0, 10, '1', 100, 200, 300 }"
      ]
     },
     "execution_count": 43,
     "metadata": {},
     "output_type": "execute_result"
    }
   ],
   "source": [
    "var set = new Set([1, 2, 3, 'hola', 3, 4, 1, 2, 0, 10, '1']);\n",
    "\n",
    "for (var value of set.values()){ // notamos que se eliminan los repetidos y que '1' != de 1 OJO\n",
    "    console.log(value)                                                    // al imprimir no se nota.\n",
    "}\n",
    "\n",
    "set.add(100).add(200).add(300) "
   ]
  },
  {
   "cell_type": "code",
   "execution_count": null,
   "metadata": {},
   "outputs": [],
   "source": []
  }
 ],
 "metadata": {
  "kernelspec": {
   "display_name": "Javascript (Node.js)",
   "language": "javascript",
   "name": "javascript"
  },
  "language_info": {
   "file_extension": ".js",
   "mimetype": "application/javascript",
   "name": "javascript",
   "version": "10.13.0"
  }
 },
 "nbformat": 4,
 "nbformat_minor": 2
}
