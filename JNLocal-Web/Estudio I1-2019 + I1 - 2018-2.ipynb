{
 "cells": [
  {
   "cell_type": "markdown",
   "metadata": {},
   "source": [
    "### Parte A (10 pts): Copa América\n",
    "\n",
    "Dada la pasada copa américa, la FIFA quiere que los ayudes a planificar la siguiente. Para esto tienes 8 equipos de fútbol (`E1` a `E8`). Debes hacerlos jugar de la siguiente forma:\n",
    "\n",
    "* Partidos `P1` (`E1`-`E2`) y `P2` (`E3`-`E4`) se juegan al mismo tiempo\n",
    "* Luego se juega `P3` (`E5`-`E6`) y `P4` (`E7`-`E8`), al mismo tiempo.\n",
    "* Posterior a eso juegan el ganador de `P1` y `P2` (`P5`), y `P3` y `P4` (`P6`) al mismo tiempo.\n",
    "* La final entre ganadores de `P5` y `P6`.\n",
    "\n",
    "Para esto la FIFA te ha entregado la siguiente librería:\n",
    "\n",
    "* `FIFA.playMatch(team1, team2)`: Entrega una promesa que, al ser resuelta, entrega al ganador del partido. Supone que siempre hay un ganador y que la promesa siempre se resuelve. Los parámetros que recibe son los equipos (ej. `E1`, `E2`, etc.)\n",
    "\n",
    "* `FIFA.playGamesAtTheSameTime([game1, game2, ...])`: Función que recibe un arreglo que, en cada posición, contiene una promesa. Retorna una promesa que, al ser resuelta, entrega un arreglo con las respuestas de cada una de las anteriores en la posición que fue especificada.\n",
    "\n",
    "1. (8 pts) Implementa una función que retorne una promesa con el ganador de la final.\n",
    "\n",
    "2. (2 pts) Si la API de la FIFA cambiara a usar _callbacks_ (La función ahora es `FIFA.playMatch(team1, team2, callback)`. ¿Podrías implentar lo mismo? ¿Qué cuidados habría que tener?\n",
    "\n",
    "#### Solución 1)"
   ]
  },
  {
   "cell_type": "code",
   "execution_count": null,
   "metadata": {},
   "outputs": [],
   "source": [
    "// es util leer al crear una promesa o cuando se pasa por una promesa: \n",
    "// \"te prometo que <nombre> comenzará (desde ese momento está pendiente)\" y dps se puede resolver o rechazar"
   ]
  },
  {
   "cell_type": "code",
   "execution_count": null,
   "metadata": {},
   "outputs": [],
   "source": [
    "async function obtenerganador(){\n",
    "    \n",
    "    //CUARTOS DE FINAL\n",
    "    let partido1 = FIFA.playMatch(E1, E2); // promesa pendiente de jugar el partido entre e1y e2\n",
    "    let partido2 = FIFA.playMatch(E3, E4); // promesa pendiente de jugar el partido entre e3 y e4\n",
    "    let [ganador_p1, ganador_p2] = await FIFA.playGamesAtTheSameTime([partido1, partido2]); // esperamos hasta que se resuelva \n",
    "                                                                                       // la promesa pendiente, compuesta por las\n",
    "                                                                                       // promesas partido1 y partido2\n",
    "                                                                                      // alterminar obtengo una lista de responses que \n",
    "                                                                                      //desempaco.\n",
    "    let partido3 = FIFA.playMatch(E5, E6);\n",
    "    let partido4 = FIFA.playMatch(E7, E8);\n",
    "    let [ganador_p3, ganador_p4] = await FIFA.playGameAtTheSameTime([partido3, partido4]);\n",
    "    \n",
    "    \n",
    "    // SEMIFINAL\n",
    "    // Ahora juegan en contra los ganadores...\n",
    "    let partido5 = FIFA.playMatch(ganador_p1, ganador_p2); // promesa pendiente de jugar el partido5\n",
    "    let partido6 = FIFA.playMatch(ganador_p3, ganador_p4); // promesa pendiente de jugar el partido6\n",
    "    \n",
    "    // esperamos que terminen de jugar todos con el await.\n",
    "    let [ganador_p5, ganador_p6] = await FIFA.playGameAtTheSameTime([partido5, partido6]);\n",
    "    \n",
    "    \n",
    "    // FINAL\n",
    "    // Juegan encontra los ganadores de la semi.\n",
    "    let campeon = FIFA.playMatch(ganador_p5, ganador_p6); // promesa pendiente y cuando se resuelva, retorna el ganador\n",
    "                                                          // y se guarda en la variable campeón\n",
    "    return campeon\n",
    "}\n",
    "// Jugar partidos P1 y p2\n",
    "\n"
   ]
  },
  {
   "cell_type": "code",
   "execution_count": null,
   "metadata": {},
   "outputs": [],
   "source": [
    "// de pauta:\n",
    "async function getWinner() {\n",
    "    const [winnerP1, winnerP2] = await FIFA.playGamesAtTheSameTime([\n",
    "        FIFA.playMatch('E1', 'E2');\n",
    "        FIFA.playMatch('E3', 'E4');\n",
    "    ]);\n",
    "\n",
    "    const [winnerP3, winnerP4] = await FIFA.playGamesAtTheSameTime([\n",
    "        FIFA.playMatch('E5', 'E6');\n",
    "        FIFA.playMatch('E7', 'E8');\n",
    "    ]);\n",
    "\n",
    "    const [winnerP5, winnerP6] = await FIFA.playGamesAtTheSameTime([\n",
    "        FIFA.playMatch(winnerP1, winnerP2);\n",
    "        FIFA.playMatch(winnerP3, winnerP4);\n",
    "    ]);\n",
    "\n",
    "    return FIFA.playMatch(winnerP5, winnerP6);\n",
    "}"
   ]
  },
  {
   "cell_type": "markdown",
   "metadata": {},
   "source": [
    "##  I1-2018-2 Preguntas Prácticas (50%)"
   ]
  },
  {
   "cell_type": "markdown",
   "metadata": {},
   "source": [
    "### Pregunta 1 (60%)    \n",
    "\n",
    "    Se definen las funciones getX, donde X puede ser cualquier letra del abecedario. Estas funciones retornan una promesa que se resolverá a un cierto valor que llamaremos valueX. Si se dice que Y depende de Z y W, implicará que la función getY debe recibir como parámetros los valores resueltos de las promesas tanto de getZ como de getW, en el orden en que se indica. Atención, que estas funcionen deben llamarse con los valores resueltos, no con la promesa por el valor del que dependen.\n",
    "    \n",
    "    Para cada uno de los siguientes escenarios, se pide que escribas una función que retorne una promesa por el valor de X, considerando un set de dependencias como las definidas en el párrafo anterior. Debes escribir la función de manera tal que responda lo más rápido posible, “paralelizando” todas las operaciones que puedan ser “paralelizadas”. Puedes suponer que estas promesas siempre se resolverán (nunca se rechazarán).\n",
    "    \n",
    "1. (1.2 puntos) X depende de A\n",
    "\n",
    "2. (1.2 puntos) X depende de A y A depende de B\n",
    "\n",
    "3. (1.2 puntos) X depende de A y de B\n",
    "\n",
    "4. (1.2 puntos) X depende de A y de B, A depende de C, B depende de D\n",
    "\n",
    "5. (1.2 puntos) X depende de A y de B, A depende de C y de D, B sólo depende de C"
   ]
  },
  {
   "cell_type": "code",
   "execution_count": null,
   "metadata": {},
   "outputs": [],
   "source": [
    "// cuando me dice que una función 'retorna' una promesa, puedo pensar que 'crea' ua promesa pendiente.\n",
    "// En cada escensario, debo retonar un getX(), considerando las dependencias de cada caso."
   ]
  },
  {
   "cell_type": "code",
   "execution_count": null,
   "metadata": {},
   "outputs": [],
   "source": [
    "// 1. X depende de A -> la función (promesa) getX, debe recibir como parametro el valor resuelto de la promesa getA\n",
    "\n",
    "// con await:\n",
    "async function foo() {\n",
    "  const a = await getA();\n",
    "  return getX(a);\n",
    "}\n",
    "\n"
   ]
  },
  {
   "cell_type": "code",
   "execution_count": null,
   "metadata": {},
   "outputs": [],
   "source": [
    "// 2. X depende de A y A depende de B -> getX() debe recibir el response de getA() y getA() debe recibir la response de getB()\n",
    "\n",
    "// con await:\n",
    "async function foo() {\n",
    "    const b = await getB();\n",
    "    const a = await getA(b);\n",
    "    return getX(a);\n",
    "    \n",
    "}"
   ]
  },
  {
   "cell_type": "code",
   "execution_count": null,
   "metadata": {},
   "outputs": [],
   "source": [
    "// 3. X depende de A y de B -> getX() debe recibir las responses de getA() y de getB()\n",
    "\n",
    "// con await: \n",
    "\n",
    "async function foo(){\n",
    "    const [a, b] = await Promise.all([getA(), getB()]) // tienen que ser al mismo tiempo y no las recibo hasta que ambas promesas terminen\n",
    "    return getX(a, b);\n",
    "}"
   ]
  },
  {
   "cell_type": "code",
   "execution_count": null,
   "metadata": {},
   "outputs": [],
   "source": [
    "// 4. X depende de A y de B, A depende de C, B depende de D -> \n",
    "// getX() debe recibir las response de getA() y de getB() al mismo tiempo\n",
    "// y getA() debe recibir la response de getC() \n",
    "// y getB() debe redibir la response de getD()\n",
    "\n",
    "// con await:\n",
    "async function foo(){\n",
    "    const c = await getc();\n",
    "    const d = await getd();\n",
    "\n",
    "    \n",
    "    const [a, b] = await Promise.all([getA(c), getB(d)]);\n",
    "    return getX(a,b)\n",
    "    \n",
    "}\n",
    "\n",
    "// de pauta: ( es lo mismo)\n",
    "async function foo() {\n",
    "    const [a, b] = await Promise.all([ getC().then(c => getA(c)), getD().then(d => getB(d)), ]) return getX(a, b); } "
   ]
  },
  {
   "cell_type": "code",
   "execution_count": null,
   "metadata": {},
   "outputs": [],
   "source": [
    "// 5.  X depende de A y de B, A depende de C y de D, B sólo depende de C\n",
    "\n",
    "// X depende de A -> getX() recibe response de getA() y de getB()\n",
    "// A depende de C y D -> getA() recibe response de getC() y getD()\n",
    "// B depende de C -> getB() recibe response de getC()\n",
    "\n",
    "\n",
    "// con await:\n",
    "async function foo(){\n",
    "    \n",
    "    const [c, d] = await Promise.all([getC(), getD()])\n",
    "    \n",
    "    const [a, b] = await Promise.all([getA(c, d), getB(c)]);\n",
    "    return getX(a,b)\n",
    "    \n",
    "}\n",
    "\n",
    "// de pauta:\n",
    "async function foo() {\n",
    "    const promiseForC = getC(); \n",
    "    const promiseForA = Promise.all([promiseForC, getD()]).then(values => getA(...values)); // llama a getA(c, d)\n",
    "    \n",
    "    const promiseForB = promiseForC.then(getB);\n",
    "    \n",
    "    return Promise.all([promiseForA, promiseForB]).then(values => getX(...values)); } "
   ]
  },
  {
   "cell_type": "code",
   "execution_count": null,
   "metadata": {},
   "outputs": [],
   "source": []
  },
  {
   "cell_type": "code",
   "execution_count": null,
   "metadata": {},
   "outputs": [],
   "source": []
  },
  {
   "cell_type": "markdown",
   "metadata": {},
   "source": []
  },
  {
   "cell_type": "code",
   "execution_count": null,
   "metadata": {},
   "outputs": [],
   "source": []
  },
  {
   "cell_type": "code",
   "execution_count": null,
   "metadata": {},
   "outputs": [],
   "source": []
  }
 ],
 "metadata": {
  "kernelspec": {
   "display_name": "Javascript (Node.js)",
   "language": "javascript",
   "name": "javascript"
  },
  "language_info": {
   "file_extension": ".js",
   "mimetype": "application/javascript",
   "name": "javascript",
   "version": "10.13.0"
  }
 },
 "nbformat": 4,
 "nbformat_minor": 4
}
