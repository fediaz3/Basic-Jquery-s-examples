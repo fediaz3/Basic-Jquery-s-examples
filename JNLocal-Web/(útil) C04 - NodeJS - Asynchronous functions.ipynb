{
 "cells": [
  {
   "cell_type": "markdown",
   "metadata": {},
   "source": [
    "# Funciones Asíncronas\n",
    "\n",
    "Ya revisamos que podemos ejecutar funciones no bloqueantes y, luego de que termine el procesamiento ejecutar otras funciones. En clases revisamos callbacks y promesas (`async/await`).\n",
    "\n",
    "En esta oportunidad veremos ejercicios simples, durante el semestre avanzaremos y revisaremos situaciones más complicadas."
   ]
  },
  {
   "cell_type": "markdown",
   "metadata": {},
   "source": [
    "## Callbacks\n",
    "\n",
    "Los callbacks son funciones que son llamadas luego de que una instrucción asíncrona termina. Realizaremos un ejercicio en donde deberán usar callbacks para completar la información requerida.\n",
    "\n",
    "### Importando funciones que nos ayudarán\n",
    "\n",
    "En el siguiente bloque importaremos algunas funciones que nos permitirán realizar el siguiente ejercicio:"
   ]
  },
  {
   "cell_type": "code",
   "execution_count": 5,
   "metadata": {},
   "outputs": [],
   "source": [
    "const getDataWithCallbacks = require('/home/gpvidal/C04/callback-functions');"
   ]
  },
  {
   "cell_type": "markdown",
   "metadata": {},
   "source": [
    "Al ejecutar la linea anterior, hemos importado:\n",
    "\n",
    "* `getCourseName(id, callback)`: Función que recibe un `string` con la sigla del curso y un callback, que es una función que recibe como parámetro el nombre del curso.\n",
    "\n",
    "\n",
    "* `getCourseTeacher(id, callback)`: Función que recibe un `string` con la sigla del curso y un callback, que es una función que recibe un parámetro con el nombre del profesor del curso.\n",
    "\n",
    "\n",
    "* `getCourseStudentsCount(id, callback)`: Función que recibe un `string` con la sigla del curso y un callback, que es una función que recibe como parámetro la cantidad de alumnos.\n",
    "\n",
    "Puedes llamar a estas funciones de la forma: `getDataWithCallbacks.getCourseName(id, callback);`.\n",
    "\n",
    "**Nota:** Dado que las anteriores funciones son asíncronas, las funciones **NO RETORNARÁN INMEDIATAMENTE**. La ejecución podría demorar un máximo de 10 segundos."
   ]
  },
  {
   "cell_type": "markdown",
   "metadata": {},
   "source": [
    "### Ejercicio 1\n",
    "\n",
    "Completa el siguiente trozo de código para que, una vez terminada la ejecución, imprima algo en consola similar a lo siguiente luego de haber solicitado los datos del curso IIC2513:\n",
    "\n",
    "```\n",
    "{\n",
    "    identifier: 'IIC2513',\n",
    "    name: 'Tecnologías y Aplicaciones Web',\n",
    "    teacher: 'Vidal Gabriel',\n",
    "    students: 69,\n",
    "}\n",
    "```\n",
    "\n",
    "Recuerda que para \"mutar\" un objeto, puede hacerlo de esta forma:\n",
    "```javascript\n",
    "const newObject = {};\n",
    "newObject.property = <value>;\n",
    "```"
   ]
  },
  {
   "cell_type": "code",
   "execution_count": 6,
   "metadata": {},
   "outputs": [],
   "source": [
    "function getCourseInfoCallback() {\n",
    "    // Objeto para guardar la información\n",
    "    const courseInfo = {};\n",
    "    \n",
    "    /**\n",
    "     * Puedes probar con otros identificadores, como:\n",
    "     * IIC2613, IIC3757, IIC1253, IIC2133 y IIC2154\n",
    "     */\n",
    "    courseInfo.identifier = 'IIC2513';\n",
    "    \n",
    "    // BEGIN SOLUTION\n",
    "    getDataWithCallbacks.getCourseName('IIC2513', function(name) {\n",
    "        courseInfo.name = name;\n",
    "        \n",
    "        getDataWithCallbacks.getCourseTeacher('IIC2513', function(teacher) {\n",
    "            courseInfo.teacher = teacher;\n",
    "            \n",
    "            getDataWithCallbacks.getCourseStudentsCount('IIC2513', function(count) {\n",
    "                courseInfo.student = count;\n",
    "                \n",
    "                console.log(courseInfo);\n",
    "            });\n",
    "        });\n",
    "    });\n",
    "    \n",
    "        \n",
    "    // END SOLUTION\n",
    "    console.log('Fin');\n",
    "}"
   ]
  },
  {
   "cell_type": "markdown",
   "metadata": {},
   "source": [
    "Puedes probar tu código con el siguiente bloque (Recuerda que su ejecución **DEMORARÁ** hasta 10 segundos):"
   ]
  },
  {
   "cell_type": "code",
   "execution_count": 7,
   "metadata": {},
   "outputs": [
    {
     "name": "stdout",
     "output_type": "stream",
     "text": [
      "Fin\n",
      "{ identifier: 'IIC2513',\n",
      "  name: 'Tecnologías y Aplicaciones Web',\n",
      "  teacher: 'Vidal Gabriel',\n",
      "  student: 69 }\n"
     ]
    }
   ],
   "source": [
    "getCourseInfoCallback();"
   ]
  },
  {
   "cell_type": "markdown",
   "metadata": {},
   "source": [
    "**Resultado esperado:**\n",
    "```\n",
    "{\"identifier\":\"IIC2513\",\"name\":\"Tecnologías y Aplicaciones Web\",\"teacher\":\"Vidal Gabriel\",\"students\":69}\n",
    "```"
   ]
  },
  {
   "cell_type": "markdown",
   "metadata": {},
   "source": [
    "### Ejercicio 2\n",
    "\n",
    "Ejecuta el siguiente bloque e intenta explicar qué sucede con la ejecución:  \n",
    "Recuerda que la ejecución **VA A DEMORAR**."
   ]
  },
  {
   "cell_type": "code",
   "execution_count": 8,
   "metadata": {},
   "outputs": [
    {
     "name": "stdout",
     "output_type": "stream",
     "text": [
      "Before async method\n",
      "Fin\n",
      "After async method\n",
      "{ identifier: 'IIC2513',\n",
      "  name: 'Tecnologías y Aplicaciones Web',\n",
      "  teacher: 'Vidal Gabriel',\n",
      "  student: 69 }\n"
     ]
    }
   ],
   "source": [
    "console.log(\"Before async method\");\n",
    "getCourseInfoCallback();\n",
    "console.log(\"After async method\");"
   ]
  },
  {
   "cell_type": "markdown",
   "metadata": {},
   "source": [
    "## Promesas\n",
    "\n",
    "Las promesas son objetos que representan la finalización eventual (o una falla) en una operación asíncrona. Se dice que la promesa \"resuelve\" cuando no hay falla y es rechazada cuando lo hay. Esto se debe a los dos estados finales:\n",
    "\n",
    "```javascript\n",
    "const resolvedPromise = Promise.resolve('OK'); // Promesa resuelta\n",
    "const rejectedPromise = Promise.reject('ERROR'); // Promesa rechazada\n",
    "```\n",
    "\n",
    "Las promesas tienen tres estados que son:\n",
    "\n",
    "* pending\n",
    "* resolved\n",
    "* rejected\n",
    "\n",
    "Además tienen dos métodos que son:\n",
    "\n",
    "```javascript\n",
    "/**\n",
    " * then\n",
    " * Permite ejecutar una función después de que la promesa se resuelve.\n",
    " * Se pueden encadenar varios 'then'.\n",
    " */\n",
    "resolvedPromise\n",
    "    .then(function() {...})\n",
    "    .then(function() {...});\n",
    "\n",
    "/**\n",
    " * catch\n",
    " * Permite ejecutar una función después de que la promesa falla.\n",
    " * Se pueden encadenar despues de varios 'then'. Ojo que si hay un then \n",
    " * despues de una catch, este se va a ejecutar.\n",
    " */\n",
    "\n",
    "rejectedPromise\n",
    "    .then(function() {...})\n",
    "    .then(function() {...})\n",
    "    .catch(function(error) {...});\n",
    "```"
   ]
  },
  {
   "cell_type": "markdown",
   "metadata": {},
   "source": [
    "### Cargando nuevas funciones\n",
    "\n",
    "Al igual que en el caso de los callbacks, usaremos funciones que nos ayudarán en el caso de las promesas. Ejecuta el siguiente trozo de código para cargarlas:"
   ]
  },
  {
   "cell_type": "code",
   "execution_count": 38,
   "metadata": {},
   "outputs": [],
   "source": [
    "const getDataWithPromises = require('/home/gpvidal/C04/promise-functions');"
   ]
  },
  {
   "cell_type": "markdown",
   "metadata": {},
   "source": [
    "Al ejecutar la linea anterior, hemos importado:\n",
    "\n",
    "* `getCourseName(id)`: Función que recibe un `string` con la sigla del curso. Retorna una promesa que, al ser resuelta, retorna el nombre del curso.\n",
    "\n",
    "\n",
    "* `getCourseTeacher(id)`: Función que recibe un `string` con la sigla del curso. Retorna una promesa que al ser resuelta, retorna el nombre del profesor.\n",
    "\n",
    "\n",
    "* `getCourseStudentsCount(id)`: Función que recibe un `string` con la sigla del curso. Retorna una promesa que, al ser resuelta, retorna la cantidad de alumnos del curso.\n",
    "\n",
    "Puedes llamar a estas funciones de la forma: `getDataWithPromises.getCourseName(id);`.\n",
    "\n",
    "**Nota:** Dado que las anteriores funciones son asíncronas, las funciones **NO RETORNARÁN INMEDIATAMENTE**. La ejecución podría demorar un máximo de 10 segundos."
   ]
  },
  {
   "cell_type": "markdown",
   "metadata": {},
   "source": [
    "### Ejercicio 3\n",
    "\n",
    "Realiza lo mismo que en el ejercicio 1, pero ahora con promesas."
   ]
  },
  {
   "cell_type": "code",
   "execution_count": 13,
   "metadata": {},
   "outputs": [],
   "source": [
    "function getCourseInfoPromise() {\n",
    "    // Objeto para guardar la información\n",
    "    const courseInfo = {}; // puede MUTAR :D \n",
    "    \n",
    "    /**\n",
    "     * Puedes probar con otros identificadores, como:\n",
    "     * IIC2613, IIC3757, IIC1253, IIC2133 y IIC2154\n",
    "     */\n",
    "    courseInfo.identifier = 'IIC2513';\n",
    "    \n",
    "    \n",
    "    // BEGIN SOLUTION\n",
    "    return getDataWithPromises.getCourseName('IIC2513') // retorna ( la promesa) \n",
    "                                                        // el problema de obtener el nombre de curso\n",
    "        .then((name) => {       // **si la promesa es resuelta -> then\n",
    "            courseInfo.name = name; // asigno el nombre que encontró\n",
    "            return getDataWithPromises.getCourseTeacher('IIC2513'); \n",
    "            \n",
    "        }) // **retorno la promesa de obtener el profe del curso\n",
    "    \n",
    "        .then((teacher) => {  // **si la promesa es resuelta ->\n",
    "            courseInfo.teacher = teacher; // asigno el profe que encontró\n",
    "            return getDataWithPromises.getCourseStudentsCount('IIC2513');\n",
    "        })  // **retorno la promesa para obtener el numero de estudiantes\n",
    "    \n",
    "        .then((count) => { // **si la promesa es resuelta -> then\n",
    "            courseInfo.students = count; // asigno el numero que encontro\n",
    "            console.log(courseInfo); // imprimo la info del curso\n",
    "        });\n",
    "    \n",
    "    // END SOLUTION\n",
    "    \n",
    "}"
   ]
  },
  {
   "cell_type": "markdown",
   "metadata": {},
   "source": [
    "Puedes probar tu código con el siguiente bloque (Recuerda que su ejecución **DEMORARÁ** hasta 10 segundos):"
   ]
  },
  {
   "cell_type": "code",
   "execution_count": 11,
   "metadata": {},
   "outputs": [
    {
     "ename": "ReferenceError",
     "evalue": "getDataWithPromises is not defined",
     "output_type": "error",
     "traceback": [
      "evalmachine.<anonymous>:11",
      "    console.log(getDataWithPromises.getCourseName('IIC2513'));",
      "                ^",
      "",
      "ReferenceError: getDataWithPromises is not defined",
      "    at getCourseInfoPromise (evalmachine.<anonymous>:11:17)",
      "    at evalmachine.<anonymous>:1:1",
      "    at Script.runInThisContext (vm.js:122:20)",
      "    at Object.runInThisContext (vm.js:329:38)",
      "    at run ([eval]:1002:15)",
      "    at onRunRequest ([eval]:829:18)",
      "    at onMessage ([eval]:789:13)",
      "    at process.emit (events.js:198:13)",
      "    at emit (internal/child_process.js:832:12)",
      "    at process._tickCallback (internal/process/next_tick.js:63:19)"
     ]
    }
   ],
   "source": [
    "getCourseInfoPromise();"
   ]
  },
  {
   "cell_type": "markdown",
   "metadata": {},
   "source": [
    "**Resultado esperado:**\n",
    "```\n",
    "{\"identifier\":\"IIC2513\",\"name\":\"Tecnologías y Aplicaciones Web\",\"teacher\":\"Vidal Gabriel\",\"students\":69}\n",
    "```"
   ]
  },
  {
   "cell_type": "markdown",
   "metadata": {},
   "source": [
    "### Ejercicio 4\n",
    "\n",
    "Ejecuta el siguiente bloque ¿Sucede lo mismo que en el ejercicio 2?¿Por qué?:  \n",
    "Recuerda que la ejecución **VA A DEMORAR**."
   ]
  },
  {
   "cell_type": "code",
   "execution_count": 55,
   "metadata": {},
   "outputs": [
    {
     "name": "stdout",
     "output_type": "stream",
     "text": [
      "Before async method\n",
      "After async method\n",
      "{ identifier: 'IIC2513',\n",
      "  name: 'Tecnologías y Aplicaciones Web',\n",
      "  teacher: 'Vidal Gabriel',\n",
      "  students: 69 }\n"
     ]
    }
   ],
   "source": [
    "console.log(\"Before async method\");\n",
    "getCourseInfoPromise();\n",
    "console.log(\"After async method\");"
   ]
  },
  {
   "cell_type": "markdown",
   "metadata": {},
   "source": [
    "### Ejercicio 5\n",
    "\n",
    "¿Qué pasa si cambias el identificador del ejercicio 3 a, por ejemplo, \"asd\"?  \n",
    "Modifica tu código para que imprima el error en consola.  \n",
    "Al atrapar el error, imprime el `stack` de de esta forma: `console.log(error.stack);`."
   ]
  },
  {
   "cell_type": "code",
   "execution_count": 9,
   "metadata": {},
   "outputs": [
    {
     "ename": "SyntaxError",
     "evalue": "Unexpected token return",
     "output_type": "error",
     "traceback": [
      "evalmachine.<anonymous>:12",
      "    console.log(return getDataWithPromises.getCourseName('asd'))",
      "                ^^^^^^",
      "",
      "SyntaxError: Unexpected token return",
      "    at new Script (vm.js:83:7)",
      "    at createScript (vm.js:277:10)",
      "    at Object.runInThisContext (vm.js:329:10)",
      "    at run ([eval]:1002:15)",
      "    at onRunRequest ([eval]:829:18)",
      "    at onMessage ([eval]:789:13)",
      "    at process.emit (events.js:198:13)",
      "    at emit (internal/child_process.js:832:12)",
      "    at process._tickCallback (internal/process/next_tick.js:63:19)"
     ]
    }
   ],
   "source": [
    "function getCourseInfoPromiseWithError() {\n",
    "    // Objeto para guardar la información\n",
    "    const courseInfo = {};\n",
    "    \n",
    "    /**\n",
    "     * Puedes probar con otros identificadores, como:\n",
    "     * IIC2613, IIC3757, IIC1253, IIC2133 y IIC2154\n",
    "     */\n",
    "    courseInfo.identifier = 'asd';\n",
    "    \n",
    "    // BEGIN SOLUTION\n",
    "    return getDataWithPromises.getCourseName('asd')\n",
    "        .then((name) => {           // * si la promesa es resuelta -> then\n",
    "            courseInfo.name = name; // asigno el nombre que encontro\n",
    "            return getDataWithPromises.getCourseTeacher('asd');\n",
    "        })  // *retorno la promesa de obtener el profe del curso\n",
    "        .then((teacher) => {             //* si la promesa es resuelta -> then\n",
    "            courseInfo.teacher = teacher; // asigno el profe que encntró\n",
    "            return getDataWithPromises.getCourseStudentsCount('asd');\n",
    "        })  // *retorno la promesa para obtener el numero de estudiantes\n",
    "        .then((count) => {             //* si la promesa es resuelta -> then\n",
    "            courseInfo.students = count; // asigno el numero que encontró\n",
    "            console.log(courseInfo);     // imprimo la info del curso\n",
    "        })\n",
    "        .catch((error) => {\n",
    "        console.log(error.stack)\n",
    "        })\n",
    "    // END SOLUTION\n",
    "}\n"
   ]
  },
  {
   "cell_type": "markdown",
   "metadata": {},
   "source": [
    "Puedes probar tu código con el siguiente bloque (Recuerda que su ejecución **DEMORARÁ** hasta 10 segundos):"
   ]
  },
  {
   "cell_type": "code",
   "execution_count": 85,
   "metadata": {},
   "outputs": [
    {
     "name": "stdout",
     "output_type": "stream",
     "text": [
      "Error: Error: course not found\n",
      "    at Timeout.setTimeout [as _onTimeout] (/home/gpvidal/C04/promise-functions.js:52:18)\n",
      "    at ontimeout (timers.js:436:11)\n",
      "    at tryOnTimeout (timers.js:300:5)\n",
      "    at listOnTimeout (timers.js:263:5)\n",
      "    at Timer.processTimers (timers.js:223:10)\n"
     ]
    }
   ],
   "source": [
    "getCourseInfoPromiseWithError();"
   ]
  },
  {
   "cell_type": "markdown",
   "metadata": {},
   "source": [
    "## `async`/`await`\n",
    "\n",
    "Cuando se llama a una función `async`, devuelve una Promesa. Cuando la función asincrónica devuelve un valor, la Promesa se resolverá con el valor devuelto. Cuando la función asíncrona arroja una excepción o algún valor, la Promesa se rechazará con el valor arrojado.\n",
    "\n",
    "Una función `async` puede contener una expresión `await`, que detiene la ejecución de la función asíncrona y espera la resolución aprobada de Promesa, y luego reanuda la ejecución de la función asincrónica y devuelve el valor resuelto.\n",
    "\n",
    "El propósito de las funciones `async`/`await` es simplificar el comportamiento de usar promesas.\n",
    "\n",
    "Para atrapar errores, puedes utilizar `try`/`catch`."
   ]
  },
  {
   "cell_type": "markdown",
   "metadata": {},
   "source": [
    "### Ejercicio 6\n",
    "\n",
    "Transforma el resultado del ejercicio 3 a uno que utilice `async`/`await` y **retorne el objeto** con la información del curso."
   ]
  },
  {
   "cell_type": "code",
   "execution_count": 39,
   "metadata": {},
   "outputs": [],
   "source": [
    "async function getCourseInfoAsync() {\n",
    "    // Objeto para guardar la información\n",
    "    const courseInfo = {};\n",
    "    \n",
    "    /**\n",
    "     * Puedes probar con otros identificadores, como:\n",
    "     * IIC2613, IIC3757, IIC1253, IIC2133 y IIC2154\n",
    "     */\n",
    "    courseInfo.identifier = 'IIC2513';\n",
    "    \n",
    "    // BEGIN SOLUTION\n",
    "    courseInfo.name = await getDataWithPromises.getCourseName('IIC2513');\n",
    "    courseInfo.teacher = await getDataWithPromises.getCourseTeacher('IIC2513');\n",
    "    courseInfo.students = await getDataWithPromises.getCourseStudentsCount('IIC2513');\n",
    "    \n",
    "    \n",
    "    return courseInfo;\n",
    "    \n",
    "    \n",
    "    // END SOLUTION\n",
    "}\n"
   ]
  },
  {
   "cell_type": "markdown",
   "metadata": {},
   "source": [
    "Puedes probar tu código con el siguiente bloque (Recuerda que su ejecución **DEMORARÁ** hasta 10 segundos):"
   ]
  },
  {
   "cell_type": "code",
   "execution_count": 43,
   "metadata": {},
   "outputs": [
    {
     "name": "stdout",
     "output_type": "stream",
     "text": [
      "Promise { <pending> }\n",
      "{ identifier: 'IIC2513',\n",
      "  name: 'Tecnologías y Aplicaciones Web',\n",
      "  teacher: 'Vidal Gabriel',\n",
      "  students: 69 }\n"
     ]
    }
   ],
   "source": [
    "console.log(getCourseInfoAsync())\n",
    "getCourseInfoAsync().then(console.log);\n"
   ]
  },
  {
   "cell_type": "markdown",
   "metadata": {},
   "source": [
    "**Resultado esperado:**\n",
    "```\n",
    "[Promise] {}\n",
    "\n",
    "{\"identifier\":\"IIC2513\",\"name\":\"Tecnologías y Aplicaciones Web\",\"teacher\":\"Vidal Gabriel\",\"students\":69}\n",
    "undefined\n",
    "```"
   ]
  },
  {
   "cell_type": "markdown",
   "metadata": {},
   "source": [
    "### Ejercicio 7\n",
    "\n",
    "Transforma el resultado del ejercicio anterior a uno que maneje errores. Al atrapar el error, imprime el `stack` de de esta forma: `console.log(error.stack);`.\n",
    "\n",
    "Recuerda cambiar el identificador del curso a algo como \"asd\"."
   ]
  },
  {
   "cell_type": "code",
   "execution_count": 44,
   "metadata": {},
   "outputs": [],
   "source": [
    "async function getCourseInfoAsyncWithError() {\n",
    "    // Objeto para guardar la información\n",
    "    const courseInfo = {};\n",
    "    \n",
    "    /**\n",
    "     * Puedes probar con otros identificadores, como:\n",
    "     * IIC2613, IIC3757, IIC1253, IIC2133 y IIC2154\n",
    "     */\n",
    "    courseInfo.identifier = 'asd';\n",
    "    \n",
    "    // BEGIN SOLUTION\n",
    "    try {\n",
    "        courseInfo.name = await getDataWithPromises.getCourseName(courseInfo.identifier);\n",
    "        courseInfo.teacher = await getDataWithPromises.getCourseTeacher(courseInfo.identifier);\n",
    "        courseInfo.students = await getDataWithPromises.getCourseStudentsCount(courseInfo.identifier);\n",
    "        return courseInfo;\n",
    "    } catch(error) {\n",
    "        console.log(error.stack);\n",
    "    };\n",
    "    \n",
    "    // END SOLUTION\n",
    "}"
   ]
  },
  {
   "cell_type": "markdown",
   "metadata": {},
   "source": [
    "Puedes probar tu código con el siguiente bloque (Recuerda que su ejecución **DEMORARÁ** hasta 10 segundos):"
   ]
  },
  {
   "cell_type": "code",
   "execution_count": 45,
   "metadata": {},
   "outputs": [
    {
     "name": "stdout",
     "output_type": "stream",
     "text": [
      "Error: Error: course not found\n",
      "    at Timeout.setTimeout [as _onTimeout] (/home/gpvidal/C04/promise-functions.js:52:18)\n",
      "    at ontimeout (timers.js:436:11)\n",
      "    at tryOnTimeout (timers.js:300:5)\n",
      "    at listOnTimeout (timers.js:263:5)\n",
      "    at Timer.processTimers (timers.js:223:10)\n"
     ]
    }
   ],
   "source": [
    "getCourseInfoAsyncWithError();"
   ]
  },
  {
   "cell_type": "markdown",
   "metadata": {},
   "source": [
    "**Resultado esperado:**\n",
    "```\n",
    "[Promise] {}  \n",
    "\n",
    "Error: Error: course not found\n",
    "    at Timeout.setTimeout [as _onTimeout] (/home/gpvidal/C04/promise-functions.js:52:18)\n",
    "    at ontimeout (timers.js:482:11)\n",
    "    at tryOnTimeout (timers.js:317:5)\n",
    "    at Timer.listOnTimeout (timers.js:277:5)\n",
    "```"
   ]
  },
  {
   "cell_type": "markdown",
   "metadata": {},
   "source": [
    "## Resumen\n",
    "\n",
    "En estos ejercicios revisamos cómo se comportan las funciones asíncronas y cómo podemos operar con ellas. \n",
    "\n",
    "Lo revisado fue:\n",
    "\n",
    "* Callbacks\n",
    "* Promesas\n",
    "* `async`/`await`\n",
    "* Manejo de errores\n",
    "\n",
    "### Más información:\n",
    "\n",
    "* Callbacks: https://developer.mozilla.org/en-US/docs/Glossary/Callback_function\n",
    "* Promesas: https://developer.mozilla.org/en-US/docs/Web/JavaScript/Reference/Global_Objects/Promise\n",
    "* `async`: https://developer.mozilla.org/en-US/docs/Web/JavaScript/Reference/Statements/async_function\n",
    "* `await`: https://developer.mozilla.org/en-US/docs/Web/JavaScript/Reference/Operators/await"
   ]
  }
 ],
 "metadata": {
  "kernelspec": {
   "display_name": "Javascript (Node.js)",
   "language": "javascript",
   "name": "javascript"
  },
  "language_info": {
   "file_extension": ".js",
   "mimetype": "application/javascript",
   "name": "javascript",
   "version": "10.13.0"
  }
 },
 "nbformat": 4,
 "nbformat_minor": 2
}
