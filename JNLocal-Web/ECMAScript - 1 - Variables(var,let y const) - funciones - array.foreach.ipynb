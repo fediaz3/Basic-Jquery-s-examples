{
 "cells": [
  {
   "cell_type": "markdown",
   "metadata": {},
   "source": [
    "#### ECMAScript 6 (ES6) Aprendiendo\n",
    "\n",
    "- Fabián Díaz\n",
    "- Se creo para estandarizar Javascript\n"
   ]
  },
  {
   "cell_type": "markdown",
   "metadata": {},
   "source": [
    "3 Formas para declarar variables: var, const y let.\n",
    "Depende del 'Scoop' o visiblidad de una variable\n",
    "\n",
    "- var: define variables globalmente o localmente a una funcionón independientemente del ámbito o scope del bloque\n",
    "\n",
    "- let y const: define variables limitadas al bloque (es solo accesible en el SCOPE(ÁMBITO) o en el bloque donde fue declarado, incluye los bloques más chicos que contiene, solo si no declaré la misma variable en un scope contenido más chico)\n",
    "\n",
    "- NO SE MUEVEN MÁS ALTO QUE EL CONTEXTO DE LA EJECUCIÓN ACTUAL\n",
    "\n",
    "- Uso comun de let: en los for\n"
   ]
  },
  {
   "cell_type": "code",
   "execution_count": 1,
   "metadata": {},
   "outputs": [],
   "source": [
    "var a = 10;\n",
    "const b = 'hello';\n",
    "let c = true;"
   ]
  },
  {
   "cell_type": "code",
   "execution_count": 5,
   "metadata": {},
   "outputs": [],
   "source": [
    "if (true){\n",
    "    let name = \"Jack\";\n",
    "}\n",
    "// console.log(name); // genera un error, porque la variable let,\n",
    "                   // se define dentro del ambiente(bloque de if)"
   ]
  },
  {
   "cell_type": "code",
   "execution_count": 6,
   "metadata": {},
   "outputs": [
    {
     "name": "stdout",
     "output_type": "stream",
     "text": [
      "2\n",
      "2\n",
      "----------------------------\n",
      "2\n",
      "1\n"
     ]
    }
   ],
   "source": [
    "//DIFERENCIA PRINCIAPL DE VAR / LET \n",
    "function varTest() {\n",
    "    var x = 1; // var: es la misma dentro de la funcion varTest\n",
    "    if (true) {\n",
    "        var x = 2;  // same variable\n",
    "        console.log(x);  // 2\n",
    "    }\n",
    "    console.log(x);  // 2 // es la misma variable x\n",
    "}\n",
    "function letTest() {\n",
    "    let x = 1; // pertenece solo scope(oambito): entre la funcion y fuera del bloque\n",
    "    if (true) {\n",
    "        let x = 2;  // different variable \n",
    "                    // es la x del scope(bloque) \n",
    "                    // y pertenece a solo este bloque if\n",
    "        console.log(x);  // 2\n",
    "    }\n",
    "    console.log(x);  // 1 \n",
    "}\n",
    "\n",
    "varTest();\n",
    "console.log(\"----------------------------\")\n",
    "\n",
    "letTest();"
   ]
  },
  {
   "cell_type": "code",
   "execution_count": 11,
   "metadata": {},
   "outputs": [],
   "source": [
    "const saludo1 = \"Hola\";\n",
    "//saludo = \"wena\" // error: porque las 'const' son INMUTABLES.\n",
    "// SI EJECUTO DENUEVO EL JUPYTER, me tira error, pq ya ejecute \n",
    "// antes la declaracion del const"
   ]
  },
  {
   "cell_type": "code",
   "execution_count": 16,
   "metadata": {},
   "outputs": [
    {
     "data": {
      "text/plain": [
       "'Wena'"
      ]
     },
     "execution_count": 16,
     "metadata": {},
     "output_type": "execute_result"
    }
   ],
   "source": [
    "let saludo = 'Hola'; \n",
    "saludo = 'Wena'; // se puede cambiar el valor de un let\n",
    "// let saludo0 = 'Wena' // tira error: porque la declaración se hace solo 1 vez"
   ]
  },
  {
   "cell_type": "code",
   "execution_count": 32,
   "metadata": {},
   "outputs": [
    {
     "name": "stdout",
     "output_type": "stream",
     "text": [
      "la multiplicacion de 8 * 10 es: 80\n"
     ]
    },
    {
     "data": {
      "text/plain": [
       "105"
      ]
     },
     "execution_count": 32,
     "metadata": {},
     "output_type": "execute_result"
    }
   ],
   "source": [
    "// f strings es de ECM6\n",
    "let a2 = 8;\n",
    "let b2 = 10;\n",
    "let mensaje2 = `la multiplicacion de 8 * 10 es: ${a2 * b2}`;\n",
    "console.log(mensaje);\n",
    "a2 = 105; // tira error si despues hago let a2 = 105,\n",
    "          // la declaración se hace 1vez, pero para cambiar de valor solo \n",
    "          // se asigna otra valor. ( let es mutable)\n"
   ]
  },
  {
   "cell_type": "markdown",
   "metadata": {},
   "source": [
    "ITERAR POR ELEMENTOS Y NO CON INDICE( for elem in lista en python)"
   ]
  },
  {
   "cell_type": "code",
   "execution_count": 3,
   "metadata": {},
   "outputs": [],
   "source": [
    "let lista1 = ['x', 'y', 'z']; // si ejecuto 2 veces este jupyter, tira error, porque ya declaré una vez las listas\n",
    "let lista2 = {a: 1, b: 2, c: 3}; // pero esta todo bien."
   ]
  },
  {
   "cell_type": "code",
   "execution_count": 4,
   "metadata": {},
   "outputs": [
    {
     "name": "stdout",
     "output_type": "stream",
     "text": [
      "x\n",
      "y\n",
      "z\n",
      "------\n",
      "x\n",
      "y\n",
      "z\n",
      "------------\n",
      "F\n",
      "a\n",
      "b\n",
      "i\n",
      "a\n",
      "n\n",
      "------------\n",
      "a\n",
      "b\n",
      "c\n"
     ]
    }
   ],
   "source": [
    "// antes:\n",
    "for (let i = 0; i < lista1.length; i++){\n",
    "    console.log(lista1[i]);\n",
    "}\n",
    "console.log('------')\n",
    "// FOR..OF ( for elem in lista en python)\n",
    "for (let val of lista1){ // puede ir o no el let\n",
    "    console.log(val);\n",
    "}\n",
    "console.log('------------');\n",
    "\n",
    "// FOR..OF IN STRINGS: (tbm sirve)\n",
    "for (let val of \"Fabian\"){\n",
    "    console.log(val);\n",
    "}\n",
    "\n",
    "console.log('------------');\n",
    "// FOR..IN ( no sirve para arrays) ( recorrer names de objetos)\n",
    "for ( key in lista2){\n",
    "    console.log(key);\n",
    "}"
   ]
  },
  {
   "cell_type": "markdown",
   "metadata": {},
   "source": [
    "FUNCIONES EN ECMAScript 6\n",
    "- Azucar sintáctico\n",
    "- `var nombre = (param1, param2) => {paso1; paso2; return true}` // EL ULTIMO PASO GENERALMENTE SE PONE LO QUE RETORNA\n",
    "\n",
    "- `var nombre = (param1, param2) => true ` // si solamente retorna algo\n",
    "\n",
    "- <-> \n",
    "\n",
    "~~~\n",
    "function nombre(param1, param2)\n",
    "        paso1\n",
    "        paso2\n",
    "        return loqueretorna\n",
    "~~~"
   ]
  },
  {
   "cell_type": "code",
   "execution_count": 39,
   "metadata": {},
   "outputs": [
    {
     "name": "stdout",
     "output_type": "stream",
     "text": [
      "3\n",
      "-\n",
      "3\n"
     ]
    },
    {
     "data": {
      "text/plain": [
       "true"
      ]
     },
     "execution_count": 39,
     "metadata": {},
     "output_type": "execute_result"
    }
   ],
   "source": [
    "function sumar(x, y){\n",
    "    var sum = x + y;\n",
    "    console.log(sum)\n",
    "    return true\n",
    "}\n",
    "sumar(1, 2)\n",
    "// La función de arriba se puede escribir en una linea como:\n",
    "console.log('-')\n",
    "var sumarnew = (x, y) => {let sum = x + y; console.log(sum); return true} \n",
    "sumarnew(1,2)\n"
   ]
  },
  {
   "cell_type": "code",
   "execution_count": 65,
   "metadata": {},
   "outputs": [
    {
     "name": "stdout",
     "output_type": "stream",
     "text": [
      "Bienvenido Fabian\n",
      "Bienvenido Fabian\n"
     ]
    }
   ],
   "source": [
    "function saludar(nombre){\n",
    "    return `Bienvenido ${nombre}`\n",
    "}\n",
    "\n",
    "var saludar2 = nombre => `Bienvenido ${nombre}`; // SI ES UNA FUNCIÓN QUE SOLO RETORNA,\n",
    "                                                // NO ES NECSARIO PONER NADA\n",
    "\n",
    "s1 = saludar('Fabian');\n",
    "s2 = saludar2('Fabian');\n",
    "console.log(s1);\n",
    "console.log(s2);"
   ]
  },
  {
   "cell_type": "code",
   "execution_count": 68,
   "metadata": {},
   "outputs": [
    {
     "name": "stdout",
     "output_type": "stream",
     "text": [
      "retorno este string\n"
     ]
    }
   ],
   "source": [
    "var haceralgo = () => 'retorno este string'\n",
    "console.log(haceralgo())"
   ]
  },
  {
   "cell_type": "markdown",
   "metadata": {},
   "source": [
    " ##### Recorrer Arreglo con ForEach en una linea\n",
    " -  `arreglo.forEach( value => {console.log(value); ...; ... } ) ` \n",
    "  \n",
    " - `arreglo.forEach( (value, index, array) => {console.log(value, index, array); ...; ... } ) `// la general"
   ]
  },
  {
   "cell_type": "code",
   "execution_count": 42,
   "metadata": {},
   "outputs": [
    {
     "name": "stdout",
     "output_type": "stream",
     "text": [
      "indice: 0, valor: a\n",
      "indice: 1, valor: b\n",
      "indice: 2, valor: c\n",
      "indice: 3, valor: d\n",
      "------\n",
      "valor: a xD\n",
      "valor: b xD\n",
      "valor: c xD\n",
      "valor: d xD\n"
     ]
    }
   ],
   "source": [
    "// FORMA RAPIDA de iterar sobre un arreglo en el forEach\n",
    "\n",
    "function funcion1(value, index, array){\n",
    "    console.log(`indice: ${index}, valor: ${value}`); // funcion que le voy aplicando sobre cada elemetno de la lista\n",
    "}\n",
    "\n",
    "\n",
    "var arreglo = ['a', 'b', 'c', 'd'];\n",
    "arreglo.forEach(funcion1);\n",
    "\n",
    "console.log('------')\n",
    "// forma rapida -> ( solo sirve con el value :D)\n",
    "arreglo.forEach(value => {console.log(`valor: ${value + ' xD'}`); })\n",
    "\n",
    "// arreglo.forEach( (value, index, array) => console.log(value, index, array) ) // La general."
   ]
  },
  {
   "cell_type": "code",
   "execution_count": 64,
   "metadata": {},
   "outputs": [
    {
     "name": "stdout",
     "output_type": "stream",
     "text": [
      "verdadero\n",
      "verdadero\n"
     ]
    }
   ],
   "source": [
    "if (true) {\n",
    "    console.log('verdadero')\n",
    "}\n",
    "//\n",
    "if (true) console.log('verdadero') // escribir un if + unainstruccion en una linea.\n",
    "if (false) console.log('falso')"
   ]
  },
  {
   "cell_type": "code",
   "execution_count": 65,
   "metadata": {},
   "outputs": [
    {
     "name": "stdout",
     "output_type": "stream",
     "text": [
      "1\n",
      "3\n",
      "5\n",
      "7\n",
      "9\n",
      "true\n"
     ]
    }
   ],
   "source": [
    "var listanueva = [1, 2, 3, 4, 5, 6, 7, 8, 9];\n",
    "var sacar_impares = (lista) => { lista.forEach( value => {if (value % 2 != 0) console.log(value)} ); return true}\n",
    "\n",
    "console.log(sacar_impares(listanueva))"
   ]
  },
  {
   "cell_type": "code",
   "execution_count": 66,
   "metadata": {},
   "outputs": [
    {
     "name": "stdout",
     "output_type": "stream",
     "text": [
      "55\n",
      "55\n",
      "55\n"
     ]
    }
   ],
   "source": [
    "\n",
    "function test(a, b = 3, c = 42){\n",
    "    return a + b +c;\n",
    "}\n",
    "\n",
    "console.log(test(10))\n",
    "\n",
    "var test2 = (a, b = 3, c = 42) => {return a + b + c;}\n",
    "\n",
    "console.log(test2(10));\n",
    "\n",
    "var test3 = (a, b = 3, c = 42) => a + b + c\n",
    "\n",
    "console.log(test3(10));"
   ]
  }
 ],
 "metadata": {
  "kernelspec": {
   "display_name": "Javascript (Node.js)",
   "language": "javascript",
   "name": "javascript"
  },
  "language_info": {
   "file_extension": ".js",
   "mimetype": "application/javascript",
   "name": "javascript",
   "version": "10.13.0"
  }
 },
 "nbformat": 4,
 "nbformat_minor": 2
}
