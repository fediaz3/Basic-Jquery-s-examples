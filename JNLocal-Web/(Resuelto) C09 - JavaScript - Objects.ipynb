{
 "cells": [
  {
   "cell_type": "markdown",
   "metadata": {},
   "source": [
    "# Objects"
   ]
  },
  {
   "cell_type": "markdown",
   "metadata": {},
   "source": [
    "Hasta el momento hemos visto (en clases, proyecto y ejercicios) las siguientes declaraciones de objetos:"
   ]
  },
  {
   "cell_type": "code",
   "execution_count": 1,
   "metadata": {},
   "outputs": [],
   "source": [
    "var course = {\n",
    "    id: 'IIC2513',\n",
    "    name: 'Tecnologías y Aplicaciones Web',\n",
    "};"
   ]
  },
  {
   "cell_type": "markdown",
   "metadata": {},
   "source": [
    "¿Cómo sabemos que es un objeto?"
   ]
  },
  {
   "cell_type": "code",
   "execution_count": 2,
   "metadata": {},
   "outputs": [
    {
     "name": "stdout",
     "output_type": "stream",
     "text": [
      "object\n"
     ]
    }
   ],
   "source": [
    "console.log(typeof(course));"
   ]
  },
  {
   "cell_type": "markdown",
   "metadata": {},
   "source": [
    "## Métodos\n",
    "\n",
    "Imagina que, al objeto anterior, queremos agregarle un método para indicar si el profesor está en la sala de clases. Lo podríamos hacer de esta forma:"
   ]
  },
  {
   "cell_type": "code",
   "execution_count": 3,
   "metadata": {},
   "outputs": [
    {
     "data": {
      "text/plain": [
       "[Function]"
      ]
     },
     "execution_count": 3,
     "metadata": {},
     "output_type": "execute_result"
    }
   ],
   "source": [
    "course.professorInClassroom = function() {\n",
    "    console.log('Professor in classroom');\n",
    "}"
   ]
  },
  {
   "cell_type": "markdown",
   "metadata": {},
   "source": [
    "Y ejecutarlo:"
   ]
  },
  {
   "cell_type": "code",
   "execution_count": 4,
   "metadata": {},
   "outputs": [
    {
     "name": "stdout",
     "output_type": "stream",
     "text": [
      "Professor in classroom\n"
     ]
    }
   ],
   "source": [
    "course.professorInClassroom();"
   ]
  },
  {
   "cell_type": "markdown",
   "metadata": {},
   "source": [
    "Ahora tu preguntarás: Bueno, pero ¿Puedo hacer referencia a otra propiedad del objeto? Lo cual es una excelente pregunta y la respuesta es sí.\n",
    "\n",
    "Ahora tu preguntas: ¿Cómo?\n",
    "\n",
    "Y aquí es donde aparece nuestro amigo `this`. Él hace referencia al objeto desde el cual se llama.\n",
    "\n",
    "Para que veas como funciona, haremos lo siguiente:\n",
    "* Borraremos el método anterior\n",
    "* Guardaremos en una propiedad si el profesor está en clases\n",
    "* Crearemos un método que nos permita indicar si el profesor está en la sala\n",
    "* Crearemos otro método para consultar (e imprimir en otro) si el profesor está en la sala de clases"
   ]
  },
  {
   "cell_type": "code",
   "execution_count": 36,
   "metadata": {},
   "outputs": [
    {
     "data": {
      "text/plain": [
       "[Function]"
      ]
     },
     "execution_count": 36,
     "metadata": {},
     "output_type": "execute_result"
    }
   ],
   "source": [
    "// Eliminamos la funcion anterior\n",
    "course.professorInClassroom = undefined;\n",
    "\n",
    "// Método para indicar si el profesor está en la sala\n",
    "course.setProfessorInClassroom = function(status) {\n",
    "  this.professorInClassroom = status;  \n",
    "};\n",
    "\n",
    "// Método para consultar si el profesor está en la sala\n",
    "course.isProfessorInClassroom = function() {\n",
    "    return this.professorInClassroom;\n",
    "}\n",
    "\n",
    "// Método que imprime si el profesor está en la sala\n",
    "course.printProfessorInClassroom = function() {\n",
    "    console.log(course.professorInClassroom ? 'Yes' : 'No');\n",
    "}"
   ]
  },
  {
   "cell_type": "markdown",
   "metadata": {},
   "source": [
    "Y ahora probamos como funciona"
   ]
  },
  {
   "cell_type": "code",
   "execution_count": 37,
   "metadata": {},
   "outputs": [
    {
     "name": "stdout",
     "output_type": "stream",
     "text": [
      "No\n",
      "Yes\n"
     ]
    }
   ],
   "source": [
    "course.setProfessorInClassroom(false);\n",
    "course.printProfessorInClassroom();\n",
    "\n",
    "course.setProfessorInClassroom(true);\n",
    "course.printProfessorInClassroom();"
   ]
  },
  {
   "cell_type": "markdown",
   "metadata": {},
   "source": [
    "### Ejercicio 1\n",
    "\n",
    "Crea un objeto que represente una ampolleta y que tenga lo siguiente:\n",
    "\n",
    "* Su estado (si está encendido)\n",
    "* Un método para encenderla\n",
    "* Un método para apagarla\n",
    "* Un método que imprima su estado"
   ]
  },
  {
   "cell_type": "code",
   "execution_count": 55,
   "metadata": {},
   "outputs": [
    {
     "data": {
      "text/plain": [
       "[Function]"
      ]
     },
     "execution_count": 55,
     "metadata": {},
     "output_type": "execute_result"
    }
   ],
   "source": [
    "// Aquí tu solución\n",
    "var ampolleta = {\n",
    "    status_interruptor: false, // por defecto, parte apagada ( puede ser false o undefined)\n",
    "};\n",
    "\n",
    "// ampolleta.status_interruptor = undefined; // si creo el atributo de esta forma, abajo en el ultimo console.log puedo poner\n",
    "                                             // console.log(ampolleta.esta_prendida ? 'Está Prendida' : 'Está Apagada');\n",
    "                                             // sin los dos parentesis en 'ampolleta.esta_prendida()'\n",
    "\n",
    "// Método para indicar si la ampolleta está prendida\n",
    "ampolleta.actualizar_interruptor = function(status) { //status puede ser: True or False\n",
    "  this.status_interruptor = status;  \n",
    "  // console.log(this.status_interruptor);  \n",
    "};\n",
    "\n",
    "// Método para consultar si la ampolleta está prendida\n",
    "ampolleta.esta_prendida = function() {\n",
    "    return this.status_interruptor;\n",
    "}\n",
    "\n",
    "// Método que imprime si la ampolleta está prendida o no\n",
    "ampolleta.imprimir_estado_ampolleta = function() {\n",
    "    console.log(ampolleta.esta_prendida() ? 'Está Prendida' : 'Está Apagada');\n",
    "}"
   ]
  },
  {
   "cell_type": "code",
   "execution_count": 56,
   "metadata": {},
   "outputs": [
    {
     "name": "stdout",
     "output_type": "stream",
     "text": [
      "Está Apagada\n",
      "--------------\n",
      "Está Prendida\n"
     ]
    }
   ],
   "source": [
    "// Ejecucion:\n",
    "// Ej1:\n",
    "\n",
    "// indico que está apagada e imprimo su estado:\n",
    "ampolleta.actualizar_interruptor(false);\n",
    "ampolleta.imprimir_estado_ampolleta();\n",
    "\n",
    "console.log('--------------');\n",
    "// Ej2:\n",
    "// indico que está prendida e imprimo su estado:\n",
    "ampolleta.actualizar_interruptor(true);\n",
    "ampolleta.imprimir_estado_ampolleta();"
   ]
  },
  {
   "cell_type": "markdown",
   "metadata": {},
   "source": [
    "### ¿Y puedo cambiar el `this` al llamar un método?\n",
    "\n",
    "La respuesta es sí. Mira el siguiente ejemplo:"
   ]
  },
  {
   "cell_type": "code",
   "execution_count": 60,
   "metadata": {},
   "outputs": [
    {
     "name": "stdout",
     "output_type": "stream",
     "text": [
      "Call:\n",
      "See course IIC2513\n",
      "Like course IIC1103\n",
      "----------------------\n",
      "Apply:\n",
      "See course IIC2513\n",
      "Like course IIC1103\n"
     ]
    }
   ],
   "source": [
    "function printId(text) {\n",
    "    console.log(`${text} ${this.id}`);\n",
    "}\n",
    "\n",
    "var course1 = {\n",
    "    id: 'IIC2513',\n",
    "};\n",
    "\n",
    "var course2 = { \n",
    "    id: 'IIC1103',\n",
    "};\n",
    "\n",
    "// Call: Recibe el this y cada parámetro por separado\n",
    "// <funcion1>.call(<unobjeto>, <p1>, ..., <pn> )\n",
    "// donde p1, ..., pn, son los parámetros que recibe <funcion1> de forma ordenada\n",
    "console.log(\"Call:\");\n",
    "printId.call(course1, 'See course');\n",
    "printId.call(course2, 'Like course');\n",
    "\n",
    "console.log('----------------------');\n",
    "// Apply: Recibe el this y los parámetros dentro de un array\n",
    "// <funcion1>.apply(<unobjeto>, [p1, ..., pn]) \n",
    "// que es lo mismo de arriba pero ahora recibe los parametros ordenados dentro un array\n",
    "console.log(\"Apply:\");\n",
    "printId.apply(course1, ['See course']);\n",
    "printId.apply(course2, ['Like course']);"
   ]
  },
  {
   "cell_type": "markdown",
   "metadata": {},
   "source": [
    "Y ahora te estás preguntando ¿Y cómo puedo tener un constructor o algo similar?"
   ]
  },
  {
   "cell_type": "markdown",
   "metadata": {},
   "source": [
    "## Definiendo objetos con funciones\n",
    "\n",
    "Cualquier función puede ser utilizada para crear objetos ya que, dentro de ella, tendrá la referencia a `this`. Se podrá construir utilizando `new`.\n",
    "\n",
    "Por ejemplo:"
   ]
  },
  {
   "cell_type": "code",
   "execution_count": 61,
   "metadata": {},
   "outputs": [],
   "source": [
    "function Duck(name, age) {\n",
    "    this.name = name;\n",
    "    this.age = age;\n",
    "}"
   ]
  },
  {
   "cell_type": "markdown",
   "metadata": {},
   "source": [
    "Si le queremos agregar funciones:"
   ]
  },
  {
   "cell_type": "code",
   "execution_count": 80,
   "metadata": {},
   "outputs": [],
   "source": [
    "function Duck(name, age) {\n",
    "    this.name = name;\n",
    "    this.age = age;\n",
    "    this.cuak = function(times) {\n",
    "        while(times-- > 0) { // while times > 0, y al inicio de cada iteración hago: times-=1.\n",
    "            console.log(`Iteración: ${times}`)\n",
    "            console.log('Cuak!');\n",
    "            \n",
    "        }\n",
    "    }\n",
    "}"
   ]
  },
  {
   "cell_type": "markdown",
   "metadata": {},
   "source": [
    "Ahora la utilizamos:"
   ]
  },
  {
   "cell_type": "code",
   "execution_count": 79,
   "metadata": {},
   "outputs": [
    {
     "name": "stdout",
     "output_type": "stream",
     "text": [
      "Iteración: 2\n",
      "Cuak!\n",
      "Iteración: 1\n",
      "Cuak!\n",
      "Iteración: 0\n",
      "Cuak!\n"
     ]
    }
   ],
   "source": [
    "var duck = new Duck('Donald', 5);\n",
    "\n",
    "duck.cuak(3)"
   ]
  },
  {
   "cell_type": "markdown",
   "metadata": {},
   "source": [
    "### Ejercicio 2\n",
    "\n",
    "Crea un objeto (ahora utilizando funciones) que represente un cine y tenga lo siguiente:\n",
    "\n",
    "* Un nombre y la cantidad de películas\n",
    "* Un método que imprima la cantidad de películas disponibles\n",
    "* Un método que permita cambiar la cantidad de películas"
   ]
  },
  {
   "cell_type": "code",
   "execution_count": 91,
   "metadata": {},
   "outputs": [],
   "source": [
    "// Aquí tu solucion\n",
    "function Cinema(name, number_of_movies) {\n",
    "    this.name = name;\n",
    "    this.number_of_movies = number_of_movies;\n",
    "    this.print_number_of_movies = function() {console.log(this.number_of_movies)};\n",
    "    this.set_number_of_movies = function(new_value) {this.number_of_movies = new_value};\n",
    "}\n"
   ]
  },
  {
   "cell_type": "code",
   "execution_count": 92,
   "metadata": {},
   "outputs": [
    {
     "name": "stdout",
     "output_type": "stream",
     "text": [
      "120\n",
      "200\n"
     ]
    }
   ],
   "source": [
    "var cine1 = new Cinema('CineRex', 120); // recordar poner new, cuando creo un objeto\n",
    "cine1.print_number_of_movies();         \n",
    "cine1.set_number_of_movies(200);\n",
    "cine1.print_number_of_movies();"
   ]
  },
  {
   "cell_type": "markdown",
   "metadata": {},
   "source": [
    "## ¿Y no existe una forma un poco más 'normal'?\n",
    "\n",
    "Desde `EcmaScript 2015` se agregaron \"clases\", sin embargo, siguen siendo sintaxis para reemplazar a las funciones costructoras (que vimos en la sección anterior). De hecho, todo lo que declaremos como clase será una función."
   ]
  },
  {
   "cell_type": "code",
   "execution_count": 93,
   "metadata": {},
   "outputs": [],
   "source": [
    "class Circle {\n",
    "    constructor(radius) {\n",
    "        this.radius = radius;\n",
    "    }\n",
    "    \n",
    "    getArea() {\n",
    "        return 3.14 * this.radius * this.radius;\n",
    "    }\n",
    "}"
   ]
  },
  {
   "cell_type": "markdown",
   "metadata": {},
   "source": [
    "Para utilizarla"
   ]
  },
  {
   "cell_type": "code",
   "execution_count": 94,
   "metadata": {},
   "outputs": [
    {
     "name": "stdout",
     "output_type": "stream",
     "text": [
      "Area: 12.56\n"
     ]
    }
   ],
   "source": [
    "var circle = new Circle(2);\n",
    "console.log(`Area: ${circle.getArea()}`);"
   ]
  },
  {
   "cell_type": "markdown",
   "metadata": {},
   "source": [
    "### Ejercicio 3\n",
    "\n",
    "Crea un objeto (ahora utilizando esta sintaxis) que represente una moto y tenga lo siguiente:\n",
    "\n",
    "* Un nombre, la cilindrada, aro de la rueda, nivel de combustible (porcentaje)\n",
    "* Un método que imprima el detalle de la moto en consola\n",
    "* Un método que actualice el nivel de combustible"
   ]
  },
  {
   "cell_type": "code",
   "execution_count": 117,
   "metadata": {},
   "outputs": [],
   "source": [
    "// Aquí tu solución\n",
    "class Moto6{\n",
    "    constructor(nombre, cilindrada, aro_rueda, nivel_de_combustible){\n",
    "        this.nombre = nombre;\n",
    "        this.cilindrada = cilindrada;\n",
    "        this.aro_rueda = aro_rueda;\n",
    "        this._nivel_de_combustible = nivel_de_combustible; \n",
    "        // para usar los métodos getter y setter, se debe agregar un '_' antes del nombre\n",
    "        // del atributo para establecerlo como privado.\n",
    "    }\n",
    "    \n",
    "    get nivel_de_combustible(){\n",
    "        return this._nivel_de_combustible;\n",
    "    }\n",
    "    \n",
    "    set nivel_de_combustible(new_value){\n",
    "        this._nivel_de_combustible = new_value + 5;\n",
    "    }\n",
    "    \n",
    "    // getDetalle(){\n",
    "    //     console.log(`Nombre: ${this.nombre}`)\n",
    "    //     console.log(`Cilindrada: ${this.cilindrada}`)\n",
    "    //     console.log(`Aro rueda: ${this.aro_rueda}`)\n",
    "    //     console.log(`Nivel de combustible: ${this.nivel_de_combustible}%`)\n",
    "    // }\n",
    "    \n",
    "    \n",
    "    \n",
    "}"
   ]
  },
  {
   "cell_type": "code",
   "execution_count": 119,
   "metadata": {},
   "outputs": [
    {
     "name": "stdout",
     "output_type": "stream",
     "text": [
      "95\n",
      "15\n"
     ]
    }
   ],
   "source": [
    "var m1 = new Moto6('A500', '123', '20', '95')\n",
    "console.log(m1.nivel_de_combustible);\n",
    "m1.nivel_de_combustible = 10; // notar que lo actualizo a 10, pero como el setter que yo puse\n",
    "                              // le agrega 5 al valor ingresado, entonces queda en 15.\n",
    "console.log(m1.nivel_de_combustible); \n"
   ]
  },
  {
   "cell_type": "markdown",
   "metadata": {},
   "source": [
    "## Algo para reflexionar\n",
    "\n",
    "Te acuerdas de nuestra clase `Duck`. Mira el siguiente código:"
   ]
  },
  {
   "cell_type": "code",
   "execution_count": null,
   "metadata": {},
   "outputs": [],
   "source": [
    "// function Duck(name, age) {\n",
    "//     this.name = name;\n",
    "//     this.age = age;\n",
    "//     this.cuak = function(times) {\n",
    "//         while(times-- > 0) { // while times > 0, y al inicio de cada iteración hago: times-=1.\n",
    "//             console.log(`Iteración: ${times}`)\n",
    "//             console.log('Cuak!');\n",
    "//             \n",
    "//         }\n",
    "//     }\n",
    "// }"
   ]
  },
  {
   "cell_type": "code",
   "execution_count": 141,
   "metadata": {},
   "outputs": [],
   "source": [
    "var duck1 = new Duck('Donald', 5);\n",
    "var duck2 = new Duck('Lucas', 6);\n",
    "var duck3 = new Duck('Lucas', 6);\n",
    "\n",
    "var duck4 = new Duck('Lucas', 10);"
   ]
  },
  {
   "cell_type": "markdown",
   "metadata": {},
   "source": [
    "¿Qué pasa al comparar la misma función en ambos objetos? ¿ Qué pasa al comparar los métodos de distintos objetos?"
   ]
  },
  {
   "cell_type": "code",
   "execution_count": 125,
   "metadata": {},
   "outputs": [
    {
     "data": {
      "text/plain": [
       "false"
      ]
     },
     "execution_count": 125,
     "metadata": {},
     "output_type": "execute_result"
    }
   ],
   "source": [
    "duck1.cuak === duck2.cuak  // aqui es intuitivo que sea distinto, porque la función tiene otro parametro"
   ]
  },
  {
   "cell_type": "code",
   "execution_count": 131,
   "metadata": {},
   "outputs": [
    {
     "data": {
      "text/plain": [
       "false"
      ]
     },
     "execution_count": 131,
     "metadata": {},
     "output_type": "execute_result"
    }
   ],
   "source": [
    "duck2.cuak === duck3.cuak // aqui el método tiene el mismo parametro. ¿Porque siguen siendo distintos?"
   ]
  },
  {
   "cell_type": "code",
   "execution_count": 128,
   "metadata": {},
   "outputs": [
    {
     "name": "stdout",
     "output_type": "stream",
     "text": [
      "true\n",
      "false\n"
     ]
    }
   ],
   "source": [
    "console.log((9 === 9)) // true\n",
    "console.log(([] === [])) //false "
   ]
  },
  {
   "cell_type": "markdown",
   "metadata": {},
   "source": [
    "¿Qué significa?¿Por qué ocurre esto?"
   ]
  },
  {
   "cell_type": "markdown",
   "metadata": {},
   "source": [
    "## Dato Adicional que aprendí:\n",
    "- \"==\" : antes de hacer la comparación ambos se convierten a un tipo común.\n",
    "- \"===\": no ocurre, lo de arriba -> si ambos tipos tienen igual valor pero son distintos tipos -> no son iguales:\n",
    "\n",
    "source: https://www.oscarlijo.com/blog/diferencias-entre-y-en-javascript/\n"
   ]
  },
  {
   "cell_type": "code",
   "execution_count": 129,
   "metadata": {},
   "outputs": [
    {
     "name": "stdout",
     "output_type": "stream",
     "text": [
      "true\n",
      "false\n"
     ]
    }
   ],
   "source": [
    "var num = 0;\n",
    "var str = \"0\";\n",
    " \n",
    "console.log(num == str); // true\n",
    "console.log(num === str); // false"
   ]
  },
  {
   "cell_type": "markdown",
   "metadata": {},
   "source": [
    "### En objetos no es trivial compararlos:\n",
    "source: https://www.etnassoft.com/2011/10/05/como-comparar-objetos-y-arrays-en-javascript/\n",
    "- Ni con igualdad normal, ni estricta funciona."
   ]
  },
  {
   "cell_type": "code",
   "execution_count": 132,
   "metadata": {},
   "outputs": [
    {
     "name": "stdout",
     "output_type": "stream",
     "text": [
      "false\n",
      "false\n",
      "false\n",
      "false\n"
     ]
    }
   ],
   "source": [
    "console.log( [1, 2] == [1, 2] ); // false\n",
    "console.log( [1, 2] === [1, 2] ); // false\n",
    " \n",
    "console.log( { foo : 'Hello World'} == { foo : 'Hello World'} ); // false\n",
    "console.log( { foo : 'Hello World'} === { foo : 'Hello World'} ); // false"
   ]
  },
  {
   "cell_type": "markdown",
   "metadata": {},
   "source": [
    "### La solución: es comparar a la fuerza bruta, atributo por atributo\n",
    "### o esta solución que encontre:\n"
   ]
  },
  {
   "cell_type": "code",
   "execution_count": 140,
   "metadata": {},
   "outputs": [
    {
     "name": "stdout",
     "output_type": "stream",
     "text": [
      "true\n"
     ]
    }
   ],
   "source": [
    "// Una forma: source: http://www.yporqueno.es/blog/js-comparar-dos-objetos-en-javascript\n",
    "\n",
    "// transformar los objetos en una cadena de string y compararlos.\n",
    "var a = {nombre:'Ivan', edad: 21, mayor_de_edad: true};\n",
    "var b = {nombre:'Ivan', edad: 21, mayor_de_edad: true};\n",
    " \n",
    "// Compare two objects\n",
    "function compareObjects(obj1, obj2) {\n",
    "\treturn JSON.stringify(obj1) === JSON.stringify(obj2); // \n",
    "}\n",
    "\n",
    "console.log( compareObjects(a, b) ); // true"
   ]
  },
  {
   "cell_type": "code",
   "execution_count": 139,
   "metadata": {},
   "outputs": [
    {
     "name": "stdout",
     "output_type": "stream",
     "text": [
      "false\n"
     ]
    }
   ],
   "source": [
    "console.log(compareObjects(duck1, duck2)); // estos eran distintos en nombre y edad\n",
    "// y está bien que sea false"
   ]
  },
  {
   "cell_type": "code",
   "execution_count": 138,
   "metadata": {},
   "outputs": [
    {
     "name": "stdout",
     "output_type": "stream",
     "text": [
      "true\n"
     ]
    }
   ],
   "source": [
    "console.log(compareObjects(duck2, duck3)); // ahora comparamos los patos 2y 3 y son iguales"
   ]
  },
  {
   "cell_type": "code",
   "execution_count": 142,
   "metadata": {},
   "outputs": [
    {
     "name": "stdout",
     "output_type": "stream",
     "text": [
      "false\n"
     ]
    }
   ],
   "source": [
    "console.log(compareObjects(duck3, duck4)); // estos eran distintos solo en 1 atributo\n",
    "// -> esta bien qu sea false"
   ]
  },
  {
   "cell_type": "markdown",
   "metadata": {},
   "source": [
    "## Más información\n",
    "\n",
    "* MDN - https://developer.mozilla.org/en-US/docs/Web/JavaScript/Reference/Global_Objects/Object\n",
    "* Ejemplos MDN - https://developer.mozilla.org/es/docs/Web/JavaScript/Guide/Trabajando_con_objectos\n",
    "* Medium - https://medium.com/entendiendo-javascript/entendiendo-los-objetos-en-javascript-3a6d3a0695e5"
   ]
  }
 ],
 "metadata": {
  "kernelspec": {
   "display_name": "Javascript (Node.js)",
   "language": "javascript",
   "name": "javascript"
  },
  "language_info": {
   "file_extension": ".js",
   "mimetype": "application/javascript",
   "name": "javascript",
   "version": "10.20.1"
  }
 },
 "nbformat": 4,
 "nbformat_minor": 2
}
