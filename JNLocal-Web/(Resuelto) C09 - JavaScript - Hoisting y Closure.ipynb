{
 "cells": [
  {
   "cell_type": "markdown",
   "metadata": {},
   "source": [
    "# Hoisting and Closure"
   ]
  },
  {
   "cell_type": "markdown",
   "metadata": {},
   "source": [
    "## Hoisting De los apuntes de clase:\n",
    "- En javascript puedo llamar a una función antes de declararla. (obviamente, en en algún momento hay que declararla)\n",
    "\n",
    "- Lo que pasa esque si se declara una función, el interprete las tira para arriba "
   ]
  },
  {
   "cell_type": "code",
   "execution_count": 1,
   "metadata": {},
   "outputs": [
    {
     "name": "stdout",
     "output_type": "stream",
     "text": [
      "undefined\n",
      "6\n"
     ]
    }
   ],
   "source": [
    "// EJEMPLO 1:\n",
    "\n",
    "console.log(num);\n",
    "var num;\n",
    "num = 6; \n",
    "//acá lo que pasa que la declaración var num;\n",
    "// se va hacia arriba (CONCEPTO DE HOSTING) y no se va caer.\n",
    "// Luego, se imprime null.\n",
    "\n",
    "\n",
    "// EJEMPLO 2:\n",
    "num = 6;\n",
    "console.log(num);\n",
    "var num; // lo mismo, y ahora si imprime 6"
   ]
  },
  {
   "cell_type": "code",
   "execution_count": null,
   "metadata": {},
   "outputs": [],
   "source": [
    "// EJEMPLO 3:\n",
    "const multiply = (x, y) => x * y;\n",
    "\n",
    "// lo mismo es:\n",
    "function multiply(x,y){\n",
    "    return x * y;\n",
    "}\n",
    "\n",
    "// desde esta clase NO SON IGUALES. porque:"
   ]
  },
  {
   "cell_type": "code",
   "execution_count": 2,
   "metadata": {},
   "outputs": [
    {
     "data": {
      "text/plain": [
       "6"
      ]
     },
     "execution_count": 2,
     "metadata": {},
     "output_type": "execute_result"
    }
   ],
   "source": [
    "// ESTO FUNCIONA: pq la declaración de la función está abajo,\n",
    "// y el interprete lo tira para arriba. (CONCEPTO DE HOSTING)\n",
    "multiply(2, 3)\n",
    "\n",
    "function multiply(x,y){\n",
    "    return x * y;\n",
    "}"
   ]
  },
  {
   "cell_type": "code",
   "execution_count": 3,
   "metadata": {},
   "outputs": [
    {
     "ename": "SyntaxError",
     "evalue": "Identifier 'multiply' has already been declared",
     "output_type": "error",
     "traceback": [
      "evalmachine.<anonymous>:1",
      "// ESTO NO FUNCIONA:",
      "^",
      "",
      "SyntaxError: Identifier 'multiply' has already been declared",
      "    at evalmachine.<anonymous>:1:1",
      "    at Script.runInThisContext (vm.js:122:20)",
      "    at Object.runInThisContext (vm.js:329:38)",
      "    at run ([eval]:1002:15)",
      "    at onRunRequest ([eval]:829:18)",
      "    at onMessage ([eval]:789:13)",
      "    at process.emit (events.js:198:13)",
      "    at emit (internal/child_process.js:832:12)",
      "    at process._tickCallback (internal/process/next_tick.js:63:19)"
     ]
    }
   ],
   "source": [
    "// ESTO NO FUNCIONA:\n",
    "// Se va caer porque un arrow function no es considerado una declaración.\n",
    "\n",
    "// El hoisting no opera, pq no es una declaración, es una asignación\n",
    "// y no se vá para arriba. \n",
    "\n",
    "multiply(2, 3);\n",
    "const multiply = (x, y) => x * y;"
   ]
  },
  {
   "cell_type": "markdown",
   "metadata": {},
   "source": [
    "## Scope de los apuntes de clases\n",
    "- var: scope de función\n",
    "- let y const: scope de bloque (entre los curlybraces '{}' )"
   ]
  },
  {
   "cell_type": "markdown",
   "metadata": {},
   "source": [
    "## Closure de los apuntes de clases\n",
    "- Es la habilidad de guardar en entornos de ejecución o entornos protegidos\n",
    "- La gracia de crear entornos protegidos, esque puedo proteger variables y hacer que no se puedan modificar desde afuera"
   ]
  },
  {
   "cell_type": "code",
   "execution_count": 5,
   "metadata": {},
   "outputs": [
    {
     "name": "stdout",
     "output_type": "stream",
     "text": [
      "1\n"
     ]
    }
   ],
   "source": [
    "function funcion1(){\n",
    "    const v1 = 1;   // declaro v1, dentro de funcion1\n",
    "    const funcion2 = function() {console.log(v1);}; \n",
    "    // declaro la funcion2, dentro de funcion1 y usando v1.(que fue declarada\n",
    "    //dentro de la funcion1, (podria ser 'var' envés de 'const'\n",
    "    // e igual sirve el concepto) )\n",
    "                                                    \n",
    "    return funcion2; // retorno la funcion2, que imprime v1.\n",
    "}\n",
    "\n",
    "var testFunction = funcion1(); // guardo en una variable lo que retorna funcion1\n",
    "                              // (que yo sé que retorna la funcion2)\n",
    "testFunction(); // imprime: 1 // porque ejecuta la funcion2.\n"
   ]
  },
  {
   "cell_type": "markdown",
   "metadata": {},
   "source": [
    "#### Cosas que notar:\n",
    "###### 1. la funcion2, es una función interna que solo está disponible dentro de funcion1.\n",
    "\n",
    "###### 2. la funcion2 no tiene variables locales propias, pero como funcion interna siempre tiene acceso a las varaibles de funciones externas (v1 pertenece a funcion1)\n",
    "\n",
    "###### 3. Las funciones anidadas tienen acceso a las varialbes declaradas en un ámbito externo. (lo mismo de 2)\n",
    "\n",
    "#### 4. Lo interesante esque: la funcion2 (funcioninterna) se retorna desde la funcion1 (funciónexterna) antes de ejecutarse.\n",
    "\n",
    "#### 5. se retorna y capturo la funcion2 en una nueva variable afuera.\n",
    "\n",
    "### 6. Ejecuto funcion2 y lo interesante esque la variable 'v1' sigue siendo accesible, apesar de que en otros lenguajes de programación uno espera que solo se pueda acceder dentro su función donde es declarada y en este caso accedemos a obtener el valor de 'v1' desde afuera completamente.\n",
    "\n",
    "\n",
    "\n",
    "\n",
    "\n",
    "### La gracia del ejercicio anterior, esque creo un entorno protegido para la variable v1 porque nunca lo puedo modificar desde fuera de la 'funcion1'.\n",
    "\n",
    "\n",
    "\n"
   ]
  },
  {
   "cell_type": "markdown",
   "metadata": {},
   "source": [
    "## Ejercicio 1\n",
    "\n",
    "Podrías indicar el closure al ejecutar `multiplyThis` y cómo se ejecuta este código:"
   ]
  },
  {
   "cell_type": "code",
   "execution_count": 15,
   "metadata": {},
   "outputs": [
    {
     "name": "stdout",
     "output_type": "stream",
     "text": [
      "12\n",
      "110\n"
     ]
    }
   ],
   "source": [
    "function multiplyThis(n) {\n",
    "    var val1 = 2\n",
    "    var ret = function() {\n",
    "        return n * val1;\n",
    "    }\n",
    "    return ret\n",
    "}\n",
    "\n",
    "var multiplied = multiplyThis(6); // multiplica el 6 con un valor\n",
    "console.log(multiplied());\n",
    "\n",
    "var multiplied2 = multiplyThis(55) // multiplica el 5 con un valor\n",
    "console.log(multiplied2());\n",
    "\n",
    "// NOTAMOS QUE EN REALIDAD: multiplyThis(<num>) es una fábrica de funciones,\n",
    "// porque crea funciones que comparten el mismo cuerpo de función (calculan n * 2 y retornan el resultado), \n",
    "// pero almacenan distintos entornos léxicos.\n",
    "\n",
    "// multiplied: función con entorno lexico 6.\n",
    "// multiplied2: funcion con entorno lexico 55.\n",
    "// ambos comparten el mismo cuerpo de la función, pero tienen distintos \n",
    "// entornos léxicos"
   ]
  },
  {
   "cell_type": "markdown",
   "metadata": {},
   "source": [
    "## Ejercicio 1.5\n",
    "- Extraído de: https://developer.mozilla.org/en-US/docs/Web/JavaScript/Closures\n",
    "- agregar_sumando(num), es un creador de funciones, donde estas funciones van a tener el mismo cuerpo, pero van a tener distinto entorno léxico (num)\n",
    "\n",
    "- En el ejemplo:\n",
    "\n",
    "~~~\n",
    "var agregar5 = agregar_sumando(5) \n",
    "\n",
    "var agregar10 = agregar_sumando(10) \n",
    "\n",
    "~~~"
   ]
  },
  {
   "cell_type": "code",
   "execution_count": 2,
   "metadata": {},
   "outputs": [
    {
     "name": "stdout",
     "output_type": "stream",
     "text": [
      "7\n",
      "12\n"
     ]
    }
   ],
   "source": [
    "function agregar_sumando(x){\n",
    "    funcion2 = function(y){ return x + y ;}; // el cuerpo de la función es x + y\n",
    "    return funcion2;\n",
    "};\n",
    "\n",
    "var agregar5 = agregar_sumando(5); \n",
    "// crea la función agregar5, con entorno léxico '5'. // -> el cuerpo de la función ahora es: 5 + y\n",
    "\n",
    "var agregar10 = agregar_sumando(10); \n",
    "// crea la funcion agregar10, con entorno léxico '10' // -> el cuerpo de la función ahora es: 10 + y\n",
    "\n",
    "console.log(agregar5(2));\n",
    "\n",
    "console.log(agregar10(2));\n",
    "\n",
    "/** noto que:\n",
    "0. al crear las funciones cada una tiene el mismo cuerpo con distinto entorno léxico.\n",
    "\n",
    "1. al llamar a las funciones se diferencian en el entorno léxico y por eso si los llamo con el mismo \n",
    "parametro cambia el calculo de la suma **/\n"
   ]
  },
  {
   "cell_type": "markdown",
   "metadata": {},
   "source": [
    "## Ejercicio 2\n",
    "\n",
    "Haz lo mismo para la siguiente función:"
   ]
  },
  {
   "cell_type": "code",
   "execution_count": 3,
   "metadata": {},
   "outputs": [
    {
     "name": "stdout",
     "output_type": "stream",
     "text": [
      "3\n"
     ]
    }
   ],
   "source": [
    "let counter = 0;\n",
    "\n",
    "function add() {\n",
    "    counter += 1;\n",
    "}\n",
    "\n",
    "add();\n",
    "add();\n",
    "add();\n",
    "\n",
    "console.log(counter);\n"
   ]
  },
  {
   "cell_type": "markdown",
   "metadata": {},
   "source": [
    "### El problema de este enfoque:\n",
    "1. esque cualquier código en la página puede aumentar el counter en 1. (por el scope que tiene)\n",
    "\n",
    "### Solución:\n",
    "2. debemos hacer que el contador sea local para la función add(), para evitar que otro código lo cambie:"
   ]
  },
  {
   "cell_type": "code",
   "execution_count": 5,
   "metadata": {},
   "outputs": [
    {
     "data": {
      "text/plain": [
       "6"
      ]
     },
     "execution_count": 5,
     "metadata": {},
     "output_type": "execute_result"
    }
   ],
   "source": [
    "// Recordar que en Javascript, todas las funciones tienen acceso al alcance\n",
    "// 'encima' de ellas.\n",
    "\n",
    "// -> USAR EL CONCEPTO DE CLOSURES (O CIERRES)\n",
    "\n",
    "var add = (\n",
    "    function () { //funcion que se invoca automáticamente.\n",
    "        var counter = 0; // crea un contador en 0\n",
    "        return function () {counter += 1; return counter}} // etorna una función que tiene un contador + 1\n",
    ")();\n",
    "\n",
    "add();\n",
    "add();\n",
    "add();\n",
    "\n",
    "//Si lo escribo como antes:\n",
    "add();\n",
    "add();\n",
    "add();\n",
    "\n",
    "// the counter is now 3\n",
    "\n",
    "// ## Mi explicación:\n",
    "// - Permite que la función add(), tenga variables 'privadas',\n",
    "// donde esta variable solo se puede acceder dentro dela función anónima y se puede cambiar solo detro de la función add().\n",
    "\n",
    "// - Lo bacán: es que se puede acceder a la variable privada, (count en nuestro caso), desde el ámbito principal."
   ]
  },
  {
   "cell_type": "markdown",
   "metadata": {},
   "source": [
    "Explicación de w3schools.com\n",
    "\n",
    " 1. A la variable add, se le asigna el valor de retorno de una función de invocación automáti\n",
    " 2. La función de invocación automática solo se ejecuta una vez. Establece el contador en cero (0) y devuelve una expresión de función.\n",
    "\n",
    "3. De esta manera, add se convierte en una función. La parte \"maravillosa\" es que puede acceder al contador en el ámbito principal.\n",
    "\n",
    "Esto se llama cierre de JavaScript . Permite que una función tenga variables \" privadas \".\n",
    "\n",
    "El contador está protegido por el alcance de la función anónima y solo se puede cambiar con la función de agregar.\n",
    "\n",
    "Un cierre es una función que tiene acceso al ámbito principal, incluso después de que la función principal se haya cerrado."
   ]
  },
  {
   "cell_type": "markdown",
   "metadata": {},
   "source": [
    "El código anterior (EL 2DO BLOQUE MÁS ARRIBA) incrementa un contador ¿Cuál es el problema de este enfoque?. Si no se te ocurre puedes mirar el siguiente código:"
   ]
  },
  {
   "cell_type": "code",
   "execution_count": 7,
   "metadata": {},
   "outputs": [
    {
     "name": "stdout",
     "output_type": "stream",
     "text": [
      "-5\n"
     ]
    }
   ],
   "source": [
    "function badFunction() {\n",
    "    counter = -5;\n",
    "}\n",
    "\n",
    "badFunction();\n",
    "console.log(counter);"
   ]
  },
  {
   "cell_type": "markdown",
   "metadata": {},
   "source": [
    "¿Ahora sí?: respuesta: YA LO HABÍA CACHADO JEJEJ \n"
   ]
  },
  {
   "cell_type": "markdown",
   "metadata": {},
   "source": [
    "## Ejercicio 3\n",
    "\n",
    "Indica el output de este código ¿Cómo funciona el `hoisting` aqui?"
   ]
  },
  {
   "cell_type": "code",
   "execution_count": 6,
   "metadata": {},
   "outputs": [
    {
     "name": "stdout",
     "output_type": "stream",
     "text": [
      "20\n"
     ]
    },
    {
     "ename": "ReferenceError",
     "evalue": "b is not defined",
     "output_type": "error",
     "traceback": [
      "evalmachine.<anonymous>:9",
      "console.log(b);",
      "            ^",
      "",
      "ReferenceError: b is not defined",
      "    at evalmachine.<anonymous>:9:13",
      "    at Script.runInThisContext (vm.js:122:20)",
      "    at Object.runInThisContext (vm.js:329:38)",
      "    at run ([eval]:1002:15)",
      "    at onRunRequest ([eval]:829:18)",
      "    at onMessage ([eval]:789:13)",
      "    at process.emit (events.js:198:13)",
      "    at emit (internal/child_process.js:832:12)",
      "    at process._tickCallback (internal/process/next_tick.js:63:19)"
     ]
    }
   ],
   "source": [
    "function mistery() {\n",
    "  a = 20;\n",
    "  var b = 100; \n",
    "}\n",
    "\n",
    "mistery();\n",
    "\n",
    "console.log(a);\n",
    "console.log(b);\n",
    "\n",
    "// Notar que:\n",
    "// la declaración de la variable var, es tirada para arriba, pero 'topa' hasta la función que la contiene.\n",
    "// el alcance de la variable es limitada por la función que la contiene de igual forma.\n",
    "\n",
    "// En los ejercicios anteriores, siempre veiamos hoisting donde la declaración estaba en el ámbito principal,\n",
    "// y ahí se tiraba para arriba la declaración y tenía un alcance global, pero no siempre es así, como ene ste caso.\n"
   ]
  },
  {
   "cell_type": "markdown",
   "metadata": {},
   "source": [
    "## Más Información\n",
    "\n",
    "* Fuente Ejercicio 1: https://medium.com/dailyjs/i-never-understood-javascript-closures-9663703368e8\n",
    "* Fuente Ejercicio 2: https://www.w3schools.com/js/js_function_closures.asp\n",
    "* Fuente Ejercicio 3: https://scotch.io/tutorials/understanding-hoisting-in-javascript\n",
    "* Closure MDN: https://developer.mozilla.org/en-US/docs/Web/JavaScript/Closures\n",
    "* Hoisting: https://developer.mozilla.org/en-US/docs/Glossary/Hoisting"
   ]
  }
 ],
 "metadata": {
  "kernelspec": {
   "display_name": "Javascript (Node.js)",
   "language": "javascript",
   "name": "javascript"
  },
  "language_info": {
   "file_extension": ".js",
   "mimetype": "application/javascript",
   "name": "javascript",
   "version": "10.20.1"
  }
 },
 "nbformat": 4,
 "nbformat_minor": 2
}
