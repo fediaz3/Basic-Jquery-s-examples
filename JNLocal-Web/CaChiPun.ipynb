{
 "cells": [
  {
   "cell_type": "markdown",
   "metadata": {},
   "source": [
    "# Ejercicio - Cachipún\n",
    "\n",
    "Vamos a iniciar esta ronda de ejercicios con un juego simple para practicar programación en Javascript.\n",
    "\n",
    "## Instrucciones\n",
    "\n",
    "El juego consiste en lo siguiente:\n",
    "\n",
    "* Para esta ocasión, sólo podrá ser jugado por 2 personas\n",
    "* Cada jugador escoge una opción entre Piedra, Papel o Tijeras\n",
    "* Al mismo tiempo, ambos jugadores muestran su elección. El ganador se determina por:\n",
    "  * Papel gana a Piedra\n",
    "  * Piedra gana a Tijera\n",
    "  * Tijera gana a Papel\n",
    "* Si ambos eligen la misma opción entonces hay un empate\n",
    "\n",
    "## ¡Comencemos!\n",
    "\n",
    "### Inicializando las elecciones\n",
    "\n",
    "Para facilitar las elecciones, crearemos un objeto que contendrá las diferentes alternativas:"
   ]
  },
  {
   "cell_type": "code",
   "execution_count": 1,
   "metadata": {},
   "outputs": [],
   "source": [
    "const OPTIONS = {\n",
    "    paper: 'Papel',\n",
    "    rock: 'Piedra',\n",
    "    scissors: 'Tijera',};\n",
    "\n",
    "const OPTIONS_VALUES = Object.values(OPTIONS);"
   ]
  },
  {
   "cell_type": "code",
   "execution_count": 7,
   "metadata": {},
   "outputs": [
    {
     "name": "stdout",
     "output_type": "stream",
     "text": [
      "{ paper: 'Papel', rock: 'Piedra', scissors: 'Tijera' }\n",
      "[ 'Papel', 'Piedra', 'Tijera' ]\n",
      "undefined\n",
      "3\n"
     ]
    }
   ],
   "source": [
    "console.log(OPTIONS)\n",
    "console.log(OPTIONS_VALUES)\n",
    "\n",
    "console.log(OPTIONS.length) // es un objeto de tipo options.\n",
    "console.log(OPTIONS_VALUES.length) // es un array de tipo Object."
   ]
  },
  {
   "cell_type": "markdown",
   "metadata": {},
   "source": [
    "### Generando una opción\n",
    "\n",
    "Vamos a generar una opción aleatoria entre las que generamos anteriormente. Algo que te puede ser útil: \n",
    "\n",
    "- Para generar un número aleatorio entre `min` y `max` podrías usar:\n",
    "\n",
    "`Math.round(Math.random() * (max - min) + min);`\n",
    "\n",
    "Aquí estamos usando la librería `Math` de Javascript.\n",
    "\n",
    "- Recuerda que puedes inicializar variables usando `const` y `let`."
   ]
  },
  {
   "cell_type": "code",
   "execution_count": 11,
   "metadata": {},
   "outputs": [],
   "source": [
    "/**\n",
    " * Generates a random option.\n",
    " * @param {array} optionsArray - Array with options values.\n",
    " * @return {string} Random option.\n",
    " */\n",
    "function generateRandomOption(optionsArray) {\n",
    "    // BEGIN SOLUTION\n",
    "    num_azar = Math.round(Math.random() * ((optionsArray.length - 1) - 0) + 0);\n",
    "    valor = optionsArray[num_azar];\n",
    "    return valor\n",
    "    // END SOLUTION\n",
    "}"
   ]
  },
  {
   "cell_type": "markdown",
   "metadata": {},
   "source": [
    "¡Probemos el código anterior!"
   ]
  },
  {
   "cell_type": "code",
   "execution_count": 37,
   "metadata": {},
   "outputs": [
    {
     "data": {
      "text/plain": [
       "true"
      ]
     },
     "execution_count": 37,
     "metadata": {},
     "output_type": "execute_result"
    }
   ],
   "source": [
    "var newOptions = { rat: 'Rata', leon: 'Leon', cat: 'Gato'};\n",
    "var newOptionsValues = Object.values(newOptions); // genera un array con los values de newOptions.\n",
    "var randomOption = generateRandomOption(newOptionsValues);\n",
    "newOptionsValues.indexOf(randomOption) > -1"
   ]
  },
  {
   "cell_type": "markdown",
   "metadata": {},
   "source": [
    "**Valor Esperado:** `true`"
   ]
  },
  {
   "cell_type": "markdown",
   "metadata": {},
   "source": [
    "### Eligiendo a un ganador\n",
    "\n",
    "Ya que nuestros jugadores virtuales pueden escoger una opción, ahora tenemos que ver cuál es el que gana. Para eso debes completar la siguiente función:"
   ]
  },
  {
   "cell_type": "code",
   "execution_count": 13,
   "metadata": {},
   "outputs": [],
   "source": [
    "/**\n",
    " * Returns winner based on preferences.\n",
    " * @param {object} options - Object with preferences.\n",
    " * @param {string} preference1 - Preference for first user\n",
    " * @param {string} preference2 - Preference for second user\n",
    " * @return {number} Winner, 0 for first user and 1 for second user and -1 for a tie.\n",
    " */\n",
    "function selectWinner(options, preference1, preference2) {\n",
    "    // BEGIN SOLUTION\n",
    "    \n",
    "    if (preference1 == preference2) {\n",
    "        return -1;\n",
    "        } else if ((preference1 == 'Piedra'  && preference2 == 'Tijera') ||\n",
    "                   (preference1 == 'Papel'  && preference2 == 'Piedra') || \n",
    "                   (preference1 == 'Tijera'  && preference2 == 'Papel') ){\n",
    "            return 0;\n",
    "        } else if ((preference2 == 'Piedra'  && preference1 == 'Tijera') ||\n",
    "                   (preference2 == 'Papel'  && preference1 == 'Piedra') || \n",
    "                   (preference2 == 'Tijera'  && preference1 == 'Papel'))  {\n",
    "            return 1;\n",
    "        }\n",
    "    \n",
    "    // END SOLUTION\n",
    "}"
   ]
  },
  {
   "cell_type": "markdown",
   "metadata": {},
   "source": [
    "Probemos el resultado"
   ]
  },
  {
   "cell_type": "code",
   "execution_count": 38,
   "metadata": {},
   "outputs": [
    {
     "data": {
      "text/plain": [
       "true"
      ]
     },
     "execution_count": 38,
     "metadata": {},
     "output_type": "execute_result"
    }
   ],
   "source": [
    "var userOneWinner = selectWinner(OPTIONS, OPTIONS.paper, OPTIONS.rock) === 0\n",
    "&& selectWinner(OPTIONS, OPTIONS.rock, OPTIONS.scissors) === 0\n",
    "&& selectWinner(OPTIONS, OPTIONS.scissors, OPTIONS.paper) === 0;\n",
    "\n",
    "var userTwoWinner = selectWinner(OPTIONS, OPTIONS.rock, OPTIONS.paper) === 1\n",
    "&& selectWinner(OPTIONS, OPTIONS.scissors, OPTIONS.rock) === 1\n",
    "&& selectWinner(OPTIONS, OPTIONS.paper, OPTIONS.scissors) === 1;\n",
    "\n",
    "var tie = selectWinner(OPTIONS, OPTIONS.paper, OPTIONS.paper) === -1;\n",
    "\n",
    "userOneWinner && userTwoWinner && tie;"
   ]
  },
  {
   "cell_type": "markdown",
   "metadata": {},
   "source": [
    "**Valor Esperado:** `true`"
   ]
  },
  {
   "cell_type": "markdown",
   "metadata": {},
   "source": [
    "### ¡Ahora juntemos todo!\n",
    "\n",
    "Nuestros jugadores virtuales ya pueden escoger una opcion y además podemos saber quién gana ¡Ahora es momento de juntar todas las piezas!"
   ]
  },
  {
   "cell_type": "code",
   "execution_count": 16,
   "metadata": {},
   "outputs": [],
   "source": [
    "/**\n",
    " * Simulates a Game\n",
    " * @param {object} options - Object with preferences.\n",
    " */\n",
    "function simulateGame(options) {\n",
    "    // BEGIN SOLUTION\n",
    "    // Generate preferences\n",
    "    const preferenceFirstUser = generateRandomOption(OPTIONS_VALUES);\n",
    "    const preferenceSecondUser = generateRandomOption(OPTIONS_VALUES);\n",
    "    \n",
    "    // Select winner\n",
    "    const winner = selectWinner(options, preferenceFirstUser, preferenceSecondUser);\n",
    "    // END SOLUTION\n",
    "    \n",
    "    if(winner === -1)\n",
    "        console.log('It\\'s a Tie!');\n",
    "    else\n",
    "        console.log(`Player ${winner + 1} wins!`);\n",
    "}"
   ]
  },
  {
   "cell_type": "markdown",
   "metadata": {},
   "source": [
    "Veamos como funciona:"
   ]
  },
  {
   "cell_type": "code",
   "execution_count": 36,
   "metadata": {},
   "outputs": [
    {
     "name": "stdout",
     "output_type": "stream",
     "text": [
      "It's a Tie!\n"
     ]
    }
   ],
   "source": [
    "simulateGame(OPTIONS);"
   ]
  },
  {
   "cell_type": "markdown",
   "metadata": {},
   "source": [
    "## ¡A la tercera!\n",
    "\n",
    "Hasta ahora podemos generar solo un turno de nuestros queridos jugadores virtuales, pero y si queremos jugar más turnos ¿Qué podemos hacer?"
   ]
  },
  {
   "cell_type": "code",
   "execution_count": 90,
   "metadata": {},
   "outputs": [],
   "source": [
    "/**\n",
    " * Simulates a game with turns\n",
    " * @param {object} options - Object with preferences.\n",
    " * @param {number} turns.\n",
    " */\n",
    "function simulateGameWithTurns(options, turns) {\n",
    "    \n",
    "    const winners = [];\n",
    "    \n",
    "    // BEGIN SOLUTION\n",
    "    // Validate turns value\n",
    "        \n",
    "    // loop - implements turns\n",
    "    \n",
    "    for (i = 0; i <5; i++) {\n",
    "        // Generate preferences\n",
    "        const preferenceFirstUser = generateRandomOption(OPTIONS_VALUES);\n",
    "        const preferenceSecondUser = generateRandomOption(OPTIONS_VALUES);\n",
    "\n",
    "        // Select winner\n",
    "        const winner = selectWinner(options, preferenceFirstUser, preferenceSecondUser);\n",
    "        \n",
    "        if(winner === -1)\n",
    "            console.log('It\\'s a Tie!');\n",
    "        else\n",
    "            console.log(`Player ${winner + 1} wins!`);\n",
    "            winners.push(winner)\n",
    "\n",
    "        \n",
    "        // Add winner to winners (avoid tie case)\n",
    "    }\n",
    "        \n",
    "    //console.log(winners) \n",
    "    // Determine de winner and print in console (with console.log)\n",
    "    var uno = 0;\n",
    "    var dos = 0;\n",
    "    for (count = 0; count < turns; count++){\n",
    "        if (winners[count] == 0) {\n",
    "            uno += 1;\n",
    "        } else if (winners[count] == 1) {\n",
    "            dos += 1;\n",
    "        } \n",
    "    }\n",
    "    //console.log(uno)\n",
    "    // variable = (condition)? valuetrue: valuefalse\n",
    "    \n",
    "    if (uno == dos) {\n",
    "        ganador_final = \"It's a Tie !\"\n",
    "    } else if (uno > dos) {\n",
    "        ganador_final = \"Player 1 wins\";\n",
    "    } else {\n",
    "        ganador_final = \"Player 2 wins\";\n",
    "    }\n",
    "    \n",
    " \n",
    "    console.log(`El ganador final es: ${ ganador_final }`);\n",
    "    \n",
    "    \n",
    "        \n",
    "    // END SOLUTION\n",
    "}"
   ]
  },
  {
   "cell_type": "markdown",
   "metadata": {},
   "source": [
    "¡Veamos como funciona!"
   ]
  },
  {
   "cell_type": "code",
   "execution_count": 95,
   "metadata": {},
   "outputs": [
    {
     "name": "stdout",
     "output_type": "stream",
     "text": [
      "Player 2 wins!\n",
      "Player 1 wins!\n",
      "It's a Tie!\n",
      "Player 2 wins!\n",
      "Player 2 wins!\n",
      "El ganador final es: Player 2 wins\n"
     ]
    }
   ],
   "source": [
    "var turns2 = 5;\n",
    "simulateGameWithTurns(OPTIONS, turns2);\n",
    "\n",
    "// var: usar fuera de una funcion ( tipicamente)\n",
    "// let y const: dentro\n"
   ]
  },
  {
   "cell_type": "markdown",
   "metadata": {},
   "source": [
    "## Resumen\n",
    "\n",
    "En este ejercicio abordamos algunos elementos de Javascript. Esto fueron abordados de forma práctica para que vean cómo se ocupan realmente. Algunas cosas que vimos fueron:\n",
    "\n",
    "* Definición de variables (`const`, `let`)\n",
    "* Control de flujo (`if/else if/else`, `for/while`)\n",
    "* Uso de librerías del lenguaje (`Math` en este caso)\n",
    "* Salidas a consola (`console.log`)\n",
    "* Operadores (comparación, incremento, etc)\n",
    "* Entre otros\n",
    "\n",
    "### Para profundizar\n",
    "\n",
    "* Fundamentos Javascript - https://exlskills.com/learn-en/courses/javascript-fundamentals-basics_javascript/content\n",
    "* Arrays Javascript - https://tech.io/playgrounds/6181/javascript-arrays---tips-tricks-and-examples"
   ]
  }
 ],
 "metadata": {
  "celltoolbar": "Create Assignment",
  "kernelspec": {
   "display_name": "Javascript (Node.js)",
   "language": "javascript",
   "name": "javascript"
  },
  "language_info": {
   "file_extension": ".js",
   "mimetype": "application/javascript",
   "name": "javascript",
   "version": "10.19.0"
  }
 },
 "nbformat": 4,
 "nbformat_minor": 2
}
