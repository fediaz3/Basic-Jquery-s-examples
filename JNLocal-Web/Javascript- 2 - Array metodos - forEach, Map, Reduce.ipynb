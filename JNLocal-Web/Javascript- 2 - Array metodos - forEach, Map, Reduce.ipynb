{
 "cells": [
  {
   "cell_type": "markdown",
   "metadata": {},
   "source": [
    "#### Javascript Parte 2\n",
    "- Fabián Díaz"
   ]
  },
  {
   "cell_type": "code",
   "execution_count": null,
   "metadata": {},
   "outputs": [],
   "source": [
    "// f strings de python -> aqui serían:\n",
    "a = 20\n",
    "console.log(`Fabián Tiene ${a} años`);"
   ]
  },
  {
   "cell_type": "code",
   "execution_count": null,
   "metadata": {},
   "outputs": [],
   "source": []
  },
  {
   "cell_type": "markdown",
   "metadata": {},
   "source": [
    "# Array.forEach(function)\n",
    "\n",
    "- Aplica la funcion 'function' a cada elemento de la lista en cada iteración\n",
    "- SOLO LO RECORRE, NO PUEDE MODIFICAR A LA LISTA\n",
    "- retorna undefined\n",
    "\n",
    "\n",
    "- Se puede acceder al indice, valor, y array completo en cada iteración.\n",
    "\n",
    "- function: puede usar 3 parametros, VALUE, INDEX Y ARRAY"
   ]
  },
  {
   "cell_type": "code",
   "execution_count": 2,
   "metadata": {},
   "outputs": [
    {
     "name": "stdout",
     "output_type": "stream",
     "text": [
      "A 0 [ 'A', 'B', 'C', 'D', 'E' ]\n",
      "B 1 [ 'A', 'B', 'C', 'D', 'E' ]\n",
      "C 2 [ 'A', 'B', 'C', 'D', 'E' ]\n",
      "D 3 [ 'A', 'B', 'C', 'D', 'E' ]\n",
      "E 4 [ 'A', 'B', 'C', 'D', 'E' ]\n",
      "[ 'A', 'B', 'C', 'D', 'E' ]\n"
     ]
    }
   ],
   "source": [
    "var frutas = ['A', 'B', 'C', 'D', 'E'];\n",
    "frutas.forEach(myfunction);\n",
    "\n",
    "\n",
    "function myfunction(value, index, array){\n",
    "    console.log(value, index, array)\n",
    "}\n",
    "\n",
    "console.log(frutas)"
   ]
  },
  {
   "cell_type": "code",
   "execution_count": 47,
   "metadata": {},
   "outputs": [
    {
     "name": "stdout",
     "output_type": "stream",
     "text": [
      "AX\n",
      "BX\n",
      "CX\n",
      "DX\n",
      "EX\n",
      "[ 'A', 'B', 'C', 'D', 'E' ]\n",
      "undefined\n",
      "[ 'AXnueva', 'BXnueva', 'CXnueva', 'DXnueva', 'EXnueva' ]\n"
     ]
    }
   ],
   "source": [
    "var frutas2 = ['A', 'B', 'C', 'D', 'E'];\n",
    "var frutasnuevas = [];// simulando un 'map' , en otra lista\n",
    "\n",
    "frutas3 = frutas2.forEach(agregarletrax);\n",
    "\n",
    "function agregarletrax(value, index, array){\n",
    "    value += 'X'   // solo sirve en la iteracion actual y dps el value vuelve a su valor original\n",
    "    \n",
    "    frutasnuevas.push(value + 'nueva'); // FORMA INGENIOSA, para 'mapear' , y generar una nueva lista, operando en los values\n",
    "    \n",
    "    console.log(value) \n",
    "}\n",
    "console.log(frutas2) // no modifica la lista. \n",
    "console.log(frutas3) // retorna undefined\n",
    "console.log(frutasnuevas) // retorna undefined"
   ]
  },
  {
   "cell_type": "markdown",
   "metadata": {},
   "source": [
    "Iterar una matriz con foreach: (UTIL CUANDO VOY A ITERAR VARIAS VECES EN MATRICES), reciclo las funciones y solo en una linea itero una matriz"
   ]
  },
  {
   "cell_type": "code",
   "execution_count": 22,
   "metadata": {},
   "outputs": [
    {
     "name": "stdout",
     "output_type": "stream",
     "text": [
      "1\n",
      "2\n",
      "3\n",
      "4\n",
      "5\n",
      "6\n",
      "7\n",
      "8\n",
      "9\n"
     ]
    }
   ],
   "source": [
    "var matrix = [[1,2,3], [4,5,6], [7,8,9]];\n",
    "\n",
    "for (i = 0; i < matrix.length; i++){\n",
    "        //console.log(`Row ${i}:`);\n",
    "        for (j = 0; j < matrix[i].length; j++){ \n",
    "            //console.log(`Column ${j}`)\n",
    "            console.log(matrix[i][j]);   \n",
    "        }\n",
    "    }\n",
    "// matrix[i] para que no importe si es una matriz,\n",
    "// y que sirva para cualquier lista de listas "
   ]
  },
  {
   "cell_type": "code",
   "execution_count": 24,
   "metadata": {},
   "outputs": [
    {
     "name": "stdout",
     "output_type": "stream",
     "text": [
      "1\n",
      "2\n",
      "3\n",
      "4\n",
      "5\n",
      "6\n",
      "7\n",
      "8\n",
      "9\n",
      "----------------------------\n",
      "10\n",
      "20\n",
      "30\n",
      "40\n",
      "50\n",
      "60\n",
      "70\n",
      "80\n",
      "90\n",
      "----------------------------\n",
      "100\n",
      "200\n",
      "300\n",
      "350\n",
      "380\n",
      "400\n",
      "500\n",
      "600\n",
      "700\n",
      "800\n",
      "900\n"
     ]
    }
   ],
   "source": [
    "// SI VOY A RECORRER Varias veces una matriz ( o lista de listas, sin importar si es cuadrada)\n",
    "// 1. Escribo una vez estas 2 funciones\n",
    "// 2. con una linea recorro la matriz, envés de hacer 2 for para cada matriz\n",
    "\n",
    "var matrix = [[1,2,3], [4,5,6], [7,8,9]];\n",
    "\n",
    "matrix.forEach(imprimirfila);\n",
    "\n",
    "\n",
    "function imprimirfila(value, index, array){\n",
    "    //console.log(`Row ${index}`);\n",
    "    \n",
    "    array[index].forEach(imprimircolumna);\n",
    "}\n",
    "\n",
    "function imprimircolumna(value, index, array){\n",
    "    //console.log(`Column ${index}`)\n",
    "    console.log(value)\n",
    "}\n",
    "console.log(\"----------------------------\")\n",
    "\n",
    "var matrix2 = [[10,20,30], [40,50,60], [70,80,90]];\n",
    "matrix2.forEach(imprimirfila);\n",
    "\n",
    "console.log(\"----------------------------\")\n",
    "\n",
    "var matrix3 = [[100,200,300, 350, 380], [400,500,600], [700,800,900]];\n",
    "matrix3.forEach(imprimirfila);"
   ]
  },
  {
   "cell_type": "markdown",
   "metadata": {},
   "source": [
    "# Array.map(function)\n",
    "\n",
    "- Aplica la funcion 'function' en cada elemento de la matriz. \n",
    "\n",
    "- No ejecuta la funcion para elementos sin valores \n",
    "\n",
    "- retorna una lista y no modifica la original\n",
    "\n",
    "- function tiene 3 parametros: VALUE, INDEX, ARRAY para consultar en c/iteracion"
   ]
  },
  {
   "cell_type": "code",
   "execution_count": 53,
   "metadata": {},
   "outputs": [
    {
     "name": "stdout",
     "output_type": "stream",
     "text": [
      "[ 1, 2, 3, 4, 5, 'xD' ]\n",
      "[ 2, 4, 6, 8, 10, NaN ]\n"
     ]
    }
   ],
   "source": [
    "var numbers1 = [1, 2, 3, 4, 5, 'xD'];\n",
    "\n",
    "var numbers2 = numbers1.map(alcuadrado);\n",
    "\n",
    "function alcuadrado(value, undex, array){\n",
    "    // value = 2     // solo se cambia en la iteración actual, después vuelve a su valor\n",
    "    return value * 2 // valor que va guardando en la nueva lista que retorna\n",
    "}\n",
    "console.log(numbers1\n",
    ")\n",
    "console.log(numbers2)"
   ]
  },
  {
   "cell_type": "markdown",
   "metadata": {},
   "source": [
    "# Array.reduce(function);\n",
    "\n",
    "- Ejecuta una función en cada elem del array.\n",
    "- Se ejecuta de izquierda a derecha ( reduceRight(), es lo mismo pero de derecha a izquierda)\n",
    "- retorna un resultado acumulado idealmente( segun lo que retorne la funcion 'function')\n",
    "\n",
    "- function usa 2 parametros: TOTAL, VALUE. ( No es necesario index y array, aunqe se pueden agregar)\n",
    "- TOTAL: funciona como un acumulador"
   ]
  },
  {
   "cell_type": "code",
   "execution_count": 36,
   "metadata": {},
   "outputs": [
    {
     "name": "stdout",
     "output_type": "stream",
     "text": [
      "15\n",
      "---------------------\n",
      "115\n"
     ]
    }
   ],
   "source": [
    "var numbers1 = [1, 2, 3, 4, 5];\n",
    "\n",
    "var sum = numbers1.reduce(sumandovalores);\n",
    "\n",
    "\n",
    "function sumandovalores(total, value){\n",
    "    //console.log(total, value)\n",
    "    return total + value \n",
    "}\n",
    "\n",
    "console.log(sum)\n",
    "\n",
    "// SE PUEDEN IGNORAR LOS PARAMETROS DE INDEX Y ARRAY\n",
    "console.log(\"---------------------\")\n",
    "\n",
    "// TAMBIÉN ACEPTA UN VALOR INICIAL PARA EL ACUMULADOR:\n",
    "var sum2 = numbers1.reduce(sumandovalores, 100)\n",
    "console.log(sum2);"
   ]
  },
  {
   "cell_type": "code",
   "execution_count": null,
   "metadata": {},
   "outputs": [],
   "source": []
  }
 ],
 "metadata": {
  "kernelspec": {
   "display_name": "Javascript (Node.js)",
   "language": "javascript",
   "name": "javascript"
  },
  "language_info": {
   "file_extension": ".js",
   "mimetype": "application/javascript",
   "name": "javascript",
   "version": "10.13.0"
  }
 },
 "nbformat": 4,
 "nbformat_minor": 2
}
