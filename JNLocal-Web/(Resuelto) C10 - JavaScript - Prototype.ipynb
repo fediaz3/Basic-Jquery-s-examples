{
 "cells": [
  {
   "cell_type": "markdown",
   "metadata": {},
   "source": [
    "# Objetos - Prototipo y herencia"
   ]
  },
  {
   "cell_type": "markdown",
   "metadata": {},
   "source": [
    "En esta etapa veremos lo que es el prototipo y herencia.\n",
    "\n",
    "#### Antes revisaremos un particularidad entre `this` y las *arrow functions*"
   ]
  },
  {
   "cell_type": "markdown",
   "metadata": {},
   "source": [
    "## Particularidad `this` y *arrow functions*"
   ]
  },
  {
   "cell_type": "markdown",
   "metadata": {},
   "source": [
    "Durante la clase pasada revisamos que las clases podían crearse mediantes funciones, pero nos dimos cuenta que había una particularidad si utilizámamos *arrow functions*. Por ejemplo:"
   ]
  },
  {
   "cell_type": "code",
   "execution_count": 1,
   "metadata": {},
   "outputs": [
    {
     "name": "stdout",
     "output_type": "stream",
     "text": [
      "My name is  undefined\n"
     ]
    }
   ],
   "source": [
    "var personArrow = {\n",
    "  name: \"Jason\",\n",
    "  shout: () => console.log(\"My name is \", this.name)\n",
    "}\n",
    "\n",
    "personArrow.shout()"
   ]
  },
  {
   "cell_type": "markdown",
   "metadata": {},
   "source": [
    "![alt text](http://derickbailey.com/wp-content/uploads/2015/09/undefined-this.jpeg \"Title\")\n",
    "\n",
    "Source: https://derickbailey.com/2015/09/28/do-es6-arrow-functions-really-solve-this-in-javascript/"
   ]
  },
  {
   "cell_type": "markdown",
   "metadata": {},
   "source": [
    "Wow! Pero ¿Qué pasó acá? ¿Pasará lo mismo si cambiamos de *arrow function* a función? Veamos:"
   ]
  },
  {
   "cell_type": "code",
   "execution_count": 2,
   "metadata": {},
   "outputs": [
    {
     "name": "stdout",
     "output_type": "stream",
     "text": [
      "My name is  Jason\n"
     ]
    }
   ],
   "source": [
    "var personFunction = {\n",
    "  name: \"Jason\",\n",
    "  shout: function() { console.log(\"My name is \", this.name) },\n",
    "}\n",
    "\n",
    "personFunction.shout()"
   ]
  },
  {
   "cell_type": "markdown",
   "metadata": {},
   "source": [
    "(En este momento la cabeza explota)\n",
    "\n",
    "Claramente aquí hay una diferencia y justamente tiene que ver con la referencia a `this`. En el caso de las funciones \"normales\" la referencia de `this` corresponde a la del contexto de la función (su propio `this`), mientras que en el caso de las *arrow functions* no hay una referencia al contexto propio, sino que más bien al entorno donde se ejecuta. Esto también se conoce como *Lexical Scope*.\n",
    "\n",
    "**Algunos recursos:**\n",
    "\n",
    "* https://medium.com/@jacobworrel/es6-arrow-functions-what-not-to-do-c28c96b4f396\n",
    "* https://hackernoon.com/javascript-es6-arrow-functions-and-lexical-this-f2a3e2a5e8c4"
   ]
  },
  {
   "cell_type": "markdown",
   "metadata": {},
   "source": [
    "# Lección: no usar arrow functions para definir métodos en el constructor de una clase"
   ]
  },
  {
   "cell_type": "markdown",
   "metadata": {},
   "source": [
    "## Continuemos con objetos ahora :)"
   ]
  },
  {
   "cell_type": "markdown",
   "metadata": {},
   "source": [
    "Al final de la clase anterior teníamos esto:"
   ]
  },
  {
   "cell_type": "code",
   "execution_count": 3,
   "metadata": {},
   "outputs": [],
   "source": [
    "function Duck(name, age) {\n",
    "    this.name = name;\n",
    "    this.age = age;\n",
    "    this.cuak = function(times) {\n",
    "        while(times-- > 0) {\n",
    "            console.log('Cuak!');\n",
    "        }\n",
    "    }\n",
    "}\n",
    "\n",
    "var duck1 = new Duck('Donald', 5);\n",
    "var duck2 = new Duck('Lucas', 6);"
   ]
  },
  {
   "cell_type": "markdown",
   "metadata": {},
   "source": [
    "Al realizar la siguiente comparación, notábamos algo muy particular:"
   ]
  },
  {
   "cell_type": "code",
   "execution_count": 4,
   "metadata": {},
   "outputs": [
    {
     "data": {
      "text/plain": [
       "false"
      ]
     },
     "execution_count": 4,
     "metadata": {},
     "output_type": "execute_result"
    }
   ],
   "source": [
    "duck1.cuak === duck2.cuak"
   ]
  },
  {
   "cell_type": "markdown",
   "metadata": {},
   "source": [
    "¿Que quiere decir esto?¿Las dos funciones no son la misma?\n",
    "\n",
    "![alt text](https://bikesforfish.files.wordpress.com/2015/09/patrick-surprised-face-tumblr-gallery-for-patrick-shocked-face-pictures.png?w=511 \"Title\")\n",
    "\n",
    "Source: https://bikesforfish.com/2015/09/13/got-you-by-the-gubernaculum/"
   ]
  },
  {
   "cell_type": "markdown",
   "metadata": {},
   "source": [
    "Lo anterior quiere decir que, cada vez que creemos un objeto `Duck`, estaremos creando también una nueva función ¿Ineficiente, no? ¿Cómo lo solucionamos? Aquí viene el **prototipo** a salvarnos!"
   ]
  },
  {
   "cell_type": "markdown",
   "metadata": {},
   "source": [
    "### Lección: cuando sea un objeto duck, estamos creando un nuevo método dentro de el y no son iguales."
   ]
  },
  {
   "cell_type": "markdown",
   "metadata": {},
   "source": [
    "## Prototipo\n",
    "\n",
    "Todos los objetos, **salvo el objeto base** tienen un prototipo.\n",
    "\n",
    "**El prototipo es un objeto**, que tiene un prototipo!\n",
    "\n",
    "## Las propiedades de un objeto se buscarán en el objeto, sino se encuentran ahí se buscarán en el prototipo, sino están ahí en el prototipo del prototipo y... puf! Herencia!\n",
    "\n",
    "### ¿Cómo obtenemos el prototipo de un objeto?\n",
    "\n",
    "Así:"
   ]
  },
  {
   "cell_type": "code",
   "execution_count": 5,
   "metadata": {},
   "outputs": [
    {
     "data": {
      "text/plain": [
       "true"
      ]
     },
     "execution_count": 5,
     "metadata": {},
     "output_type": "execute_result"
    }
   ],
   "source": [
    "// 3 formas de obtener el prototipo de un objeto:\n",
    "// Forma1:\n",
    "var prototypeOne = duck1.__proto__; \n",
    "\n",
    "// Forma2:\n",
    "var prototypeTwo = duck1.constructor.prototype;// forma segura en todos los navegadores \n",
    "                                               // (incluso no modernos)\n",
    "\n",
    "// Forma3:\n",
    "var prototypeThree = Object.getPrototypeOf(duck1);\n",
    "\n",
    "prototypeOne === prototypeTwo && prototypeTwo === prototypeThree;\n",
    "// todas sirven para obtener el prototipo del duck1."
   ]
  },
  {
   "cell_type": "markdown",
   "metadata": {},
   "source": [
    "Para obtener el prototipo que una función le asigna a sus objetos:"
   ]
  },
  {
   "cell_type": "code",
   "execution_count": 6,
   "metadata": {},
   "outputs": [
    {
     "name": "stdout",
     "output_type": "stream",
     "text": [
      "Duck {}\n"
     ]
    },
    {
     "data": {
      "text/plain": [
       "true"
      ]
     },
     "execution_count": 6,
     "metadata": {},
     "output_type": "execute_result"
    }
   ],
   "source": [
    "console.log(Duck.prototype); // protipo la función (o clase ) Duck asgina a sus objetos.\n",
    "Duck.prototype === prototypeTwo;"
   ]
  },
  {
   "cell_type": "code",
   "execution_count": 7,
   "metadata": {},
   "outputs": [
    {
     "name": "stdout",
     "output_type": "stream",
     "text": [
      "Duck {}\n",
      "Duck {}\n",
      "true\n",
      "--------------------\n",
      "{}\n",
      "{}\n",
      "false\n"
     ]
    }
   ],
   "source": [
    "// Notamos que, es igual al de arriba\n",
    "console.log(duck1.constructor.prototype);\n",
    "console.log(duck2.constructor.prototype);\n",
    "console.log(duck1.constructor.prototype === duck2.constructor.prototype);\n",
    "\n",
    "console.log('--------------------');\n",
    "\n",
    "// Pero el prototipo de su metodo correspondiente es distinto:\n",
    "console.log(duck1.cuak.prototype);\n",
    "console.log(duck2.cuak.prototype);\n",
    "console.log(duck1.cuak.prototype === duck2.cuak.prototype);"
   ]
  },
  {
   "cell_type": "markdown",
   "metadata": {},
   "source": [
    "### ¿Cómo solucionamos el problema anterior?\n",
    "\n",
    "Así:"
   ]
  },
  {
   "cell_type": "code",
   "execution_count": 8,
   "metadata": {},
   "outputs": [
    {
     "data": {
      "text/plain": [
       "[Function]"
      ]
     },
     "execution_count": 8,
     "metadata": {},
     "output_type": "execute_result"
    }
   ],
   "source": [
    "function Duck(name, age) {\n",
    "    this.name = name;\n",
    "    this.age = age;\n",
    "}\n",
    "\n",
    "Duck.prototype.cuak = function(times) { // este va ser el prototipo \n",
    "    while(times-- > 0) {\n",
    "        console.log('Cuak!');\n",
    "    }\n",
    "}\n",
    "\n",
    "var duck1 = new Duck('Donald', 5);\n",
    "var duck2 = new Duck('Lucas', 6);"
   ]
  },
  {
   "cell_type": "markdown",
   "metadata": {},
   "source": [
    "Y si probamos ahora:"
   ]
  },
  {
   "cell_type": "code",
   "execution_count": 9,
   "metadata": {},
   "outputs": [
    {
     "data": {
      "text/plain": [
       "true"
      ]
     },
     "execution_count": 9,
     "metadata": {},
     "output_type": "execute_result"
    }
   ],
   "source": [
    "duck1.cuak === duck2.cuak"
   ]
  },
  {
   "cell_type": "markdown",
   "metadata": {},
   "source": [
    "Ahora si!"
   ]
  },
  {
   "cell_type": "code",
   "execution_count": 10,
   "metadata": {},
   "outputs": [
    {
     "name": "stdout",
     "output_type": "stream",
     "text": [
      "Duck { cuak: [Function] }\n",
      "Duck { cuak: [Function] }\n",
      "Duck { cuak: [Function] }\n",
      "true\n"
     ]
    }
   ],
   "source": [
    "// Viendo algunas cosas:\n",
    "console.log(Duck.prototype); // ahora el prototipo que asigna a sus objetos tienen ambos el mismo método\n",
    "\n",
    "// siguen siendo iguales\n",
    "console.log(duck1.constructor.prototype);\n",
    "console.log(duck2.constructor.prototype);\n",
    "\n",
    "console.log(duck1.constructor.prototype === duck2.constructor.prototype)"
   ]
  },
  {
   "cell_type": "code",
   "execution_count": 11,
   "metadata": {},
   "outputs": [
    {
     "name": "stdout",
     "output_type": "stream",
     "text": [
      "{}\n",
      "{}\n",
      "true\n"
     ]
    }
   ],
   "source": [
    "// Pero AHORA EL PROTOTIPO DE SU MÉTODO ES IGUAL:\n",
    "console.log(duck1.cuak.prototype);\n",
    "console.log(duck2.cuak.prototype);\n",
    "console.log(duck1.cuak.prototype === duck2.cuak.prototype);"
   ]
  },
  {
   "cell_type": "markdown",
   "metadata": {},
   "source": [
    "## Herencia\n",
    "\n",
    "Bueno ¿Y cómo hacemos herencia?\n",
    "\n",
    "Vamos a crear mamíferos que se pueden mover de distinta forma! Observa el siguiente ejemplo:"
   ]
  },
  {
   "cell_type": "code",
   "execution_count": 12,
   "metadata": {},
   "outputs": [
    {
     "name": "stdout",
     "output_type": "stream",
     "text": [
      "Mammal is moving...\n",
      "Mammal is moving...\n",
      "Mammal is moving...\n",
      "Dolphin is swimming...\n"
     ]
    }
   ],
   "source": [
    "// Creamos la función Mamífero\n",
    "function Mammal(name) {\n",
    "    this.name = name;\n",
    "}\n",
    "\n",
    "// Agregamos a su prototipo la funcion moverse\n",
    "// En otras palabras: Agrego un método moverse y que va ser igual en todos los objetos\n",
    "// de clase mamífero.\n",
    "Mammal.prototype.move = function() {\n",
    "    console.log(\"Mammal is moving...\");\n",
    "}\n",
    "\n",
    "//----------------------------------------------------------------\n",
    "\n",
    "// Creamos una funcion Perro\n",
    "function Dog(name, breed) {\n",
    "    Mammal.call(this, name); // Call(<objeto>, <p1>, ..., <pn> )\n",
    "    this.breed = breed;\n",
    "}\n",
    "//----------------------------------------------------------------\n",
    "\n",
    "\n",
    "// Creamos una funcion Delfin\n",
    "function Dolphin(name) {\n",
    "    Mammal.call(this, name); // Call(<objeto>, <p1>, ..., <pn> )\n",
    "}\n",
    "\n",
    "//----------------------------------------------------------------\n",
    "\n",
    "// Asignamos a su prototipo un Mamífero\n",
    "Dog.prototype = new Mammal();\n",
    "Dolphin.prototype = new Mammal();\n",
    "//----------------------------------------------------------------\n",
    "\n",
    "\n",
    "var dog = new Dog(\"Snoopy\", \"Beagle\");\n",
    "var dolphin = new Dolphin(\"Willy\");\n",
    "\n",
    "dog.move();\n",
    "dolphin.move();\n",
    "\n",
    "// Alteramos el prototipo del delfín\n",
    "Dolphin.prototype.move = function() {\n",
    "    console.log(\"Dolphin is swimming...\");\n",
    "}\n",
    "\n",
    "dog.move();\n",
    "dolphin.move();"
   ]
  },
  {
   "cell_type": "markdown",
   "metadata": {},
   "source": [
    "## Lo anterior: es herencia pero de forma enredada"
   ]
  },
  {
   "cell_type": "markdown",
   "metadata": {},
   "source": [
    "Y, tal como vimos la clase pasada, al ser incorporado `class` el realizar clases es mucho más simple!"
   ]
  },
  {
   "cell_type": "code",
   "execution_count": 13,
   "metadata": {},
   "outputs": [
    {
     "name": "stdout",
     "output_type": "stream",
     "text": [
      "Mammal is moving...\n"
     ]
    }
   ],
   "source": [
    "class Cat extends Mammal{\n",
    "    constructor(name){\n",
    "        super(name);\n",
    "    }\n",
    "}\n",
    "\n",
    "cat = new Cat();\n",
    "cat.move();"
   ]
  },
  {
   "cell_type": "markdown",
   "metadata": {},
   "source": [
    "## Ejercicios\n",
    "\n",
    "### Ejercicio 1\n",
    "\n",
    "Represente la siguiente situación utilizando lo aprendido anteriormente:\n",
    "\n",
    "Tu tienes distintos tipos de vehículos: auto, moto y bicicleta. Representa esto con clases considerando lo siguiente:\n",
    "\n",
    "* Todos los vehículos pueden moverse\n",
    "* Sólo el auto y la moto pueden encenderse\n",
    "* El auto y la moto tiene nivel de estanque (número de 1 a 100)\n",
    "* La bicicleta tiene una luz trasera, que puede encenderse o apagarse\n",
    "\n",
    "Para todas las acciones anteriores basta con que muestre un mensaje en consola para indicar su estado."
   ]
  },
  {
   "cell_type": "code",
   "execution_count": 36,
   "metadata": {},
   "outputs": [],
   "source": [
    "// Tu solución aquí\n",
    "class Vehiculo2 {\n",
    "    \n",
    "    mover(){\n",
    "        console.log(\"me estoy moviendo\")\n",
    "    }\n",
    "}\n",
    "\n",
    "\n",
    "class Auto2 extends Vehiculo2 {\n",
    "    constructor(){\n",
    "        super()\n",
    "        this.status = false; // false (apagado), true (encendido)\n",
    "        this.nivel_de_estanque = 1;\n",
    "    }\n",
    "    \n",
    "    encender(){\n",
    "        this.status = true;\n",
    "    }\n",
    "}\n",
    "\n",
    "class Moto2 extends Auto2 {\n",
    "    constructor(){\n",
    "        super()\n",
    "    }\n",
    "}\n",
    "\n",
    "\n",
    "class Bicicleta2 extends Vehiculo2 {\n",
    "    constructor(){\n",
    "        super()\n",
    "        this.luz_trasera = 'apagada'; // false (apagado), true (encendido)\n",
    "    }\n",
    "    \n",
    "    encender_luz_trasera(){\n",
    "        console.log('Se ha prendido al luz trasera de la bicicleta');\n",
    "        this.luz_trasera = 'prendida'\n",
    "    }\n",
    "}"
   ]
  },
  {
   "cell_type": "code",
   "execution_count": 43,
   "metadata": {},
   "outputs": [
    {
     "name": "stdout",
     "output_type": "stream",
     "text": [
      "me estoy moviendo\n",
      "me estoy moviendo\n",
      "me estoy moviendo\n",
      "me estoy moviendo\n",
      "--------------\n",
      "Auto: \n",
      "false\n",
      "true\n",
      "Moto: \n",
      "false\n",
      "true\n",
      "------\n",
      "undefined\n",
      "1\n",
      "undefined\n",
      "1\n",
      "-------\n",
      "apagada\n",
      "Se ha prendido al luz trasera de la bicicleta\n",
      "prendida\n",
      "undefined\n",
      "undefined\n",
      "undefined\n"
     ]
    }
   ],
   "source": [
    "var ve1 = new Vehiculo2();\n",
    "\n",
    "var a1 = new Auto2();\n",
    "\n",
    "var m1 = new Moto2();\n",
    "\n",
    "var b1 = new Bicicleta2();\n",
    "\n",
    "\n",
    "// 1: Todos los vehículos pueden moverse:\n",
    "ve1.mover();\n",
    "a1.mover();\n",
    "m1.mover();\n",
    "b1.mover();\n",
    "console.log('--------------')\n",
    "// 2: Sólo el auto y la moto pueden encenderse\n",
    "console.log('Auto: ')\n",
    "console.log(a1.status);\n",
    "a1.encender();\n",
    "console.log(a1.status);\n",
    "\n",
    "console.log('Moto: ')\n",
    "console.log(m1.status);\n",
    "m1.encender();\n",
    "console.log(m1.status);\n",
    "\n",
    "// ve1.encender() // error: ve1.encender is not a function\n",
    "// b1.encender(); // error: b1.encender is not a function\n",
    "\n",
    "console.log('------')\n",
    "// 3: El auto y la moto tiene nivel de estanque (número de 1 a 100)\n",
    "\n",
    "console.log(ve1.nivel_de_estanque); // no tiene (undefined)\n",
    "console.log(a1.nivel_de_estanque);  \n",
    "console.log(b1.nivel_de_estanque); // no tiene (undefined)\n",
    "console.log(m1.nivel_de_estanque);\n",
    "\n",
    "console.log('-------')\n",
    "\n",
    "// 4: La bicicleta tiene una luz trasera, que puede encenderse o apagarse\n",
    "\n",
    "console.log(b1.luz_trasera);\n",
    "b1.encender_luz_trasera();\n",
    "console.log(b1.luz_trasera);\n",
    "\n",
    "console.log(ve1.luz_trasera); // no tiene luz trasera\n",
    "console.log(a1.luz_trasera);  // no tiene \n",
    "console.log(m1.luz_trasera); // no tiene\n"
   ]
  },
  {
   "cell_type": "markdown",
   "metadata": {},
   "source": [
    "### Solución profe:"
   ]
  },
  {
   "cell_type": "code",
   "execution_count": 55,
   "metadata": {},
   "outputs": [
    {
     "name": "stdout",
     "output_type": "stream",
     "text": [
      "Vehicle bike is moving\n",
      "undefined\n"
     ]
    }
   ],
   "source": [
    "// Tu solución aquí\n",
    "\n",
    "// Vehicle\n",
    "function Vehicle(type) {\n",
    "    this.type = type;\n",
    "}\n",
    "\n",
    "Vehicle.prototype.move = function() {\n",
    "    console.log(`Vehicle ${this.type} is moving`);\n",
    "}\n",
    "\n",
    "// Car and Motorcycle\n",
    "function Car(fuel) {\n",
    "    Vehicle.call(this, 'car');\n",
    "    this.fuel = fuel;\n",
    "}\n",
    "\n",
    "function Motorcycle(fuel) {\n",
    "    Vehicle.call(this, 'motorcycle');\n",
    "    this.fuel = fuel;\n",
    "}\n",
    "\n",
    "function turnOn() {\n",
    "    console.log('Stating engine');\n",
    "}\n",
    "\n",
    "Car.prototype = new Vehicle();\n",
    "Motorcycle.prototype =  new Vehicle();\n",
    "\n",
    "Car.prototype.turnOn = turnOn;\n",
    "Motorcycle.prototype.turnOn = turnOn;\n",
    "\n",
    "// Bike\n",
    "\n",
    "function Bike(){\n",
    "    Vehicle.call(this, 'bike');\n",
    "    this.isBackLightOn = false;\n",
    "}\n",
    "\n",
    "Bike.prototype = new Vehicle();\n",
    "Bike.prototype.turnLightOn = function() {\n",
    "    this.isBackLightOn = true;\n",
    "}\n",
    "Bike.prototype.turnLightOff = function() {\n",
    "    this.isBackLightOn = false;\n",
    "}\n",
    "\n",
    "var bike = new Bike();\n",
    "bike.move();\n",
    "console.log(bike.fuel); // no tiene, y sale undefined. entonces esta bien \n",
    "// lo que hice arriba."
   ]
  },
  {
   "cell_type": "code",
   "execution_count": null,
   "metadata": {},
   "outputs": [],
   "source": []
  },
  {
   "cell_type": "markdown",
   "metadata": {},
   "source": [
    "### Ejercicio 2\n",
    "# REVISAR PENDIENTE entender mejor\n",
    "\n",
    "¿Podrías intentar determinar el nivel de acceso de esta clase? Existen privados, privilegiados y públicos:\n",
    "\n",
    "```javascript\n",
    "// Para los parámetros manufacturer y model\n",
    "function Smartphone(manufacturer, model) {\n",
    "  this.manufacturer = manufacturer;\n",
    "  this.model = model;\n",
    "  // Para la función getModel\n",
    "  this.getModel = function() {\n",
    "    return this.model;\n",
    "  }\n",
    "}\n",
    "\n",
    "// Para la función ring\n",
    "Smartphone.prototype.ring = function() {\n",
    "  console.log('Ring...ring...ring');\n",
    "}\n",
    "\n",
    "```"
   ]
  },
  {
   "cell_type": "code",
   "execution_count": 44,
   "metadata": {},
   "outputs": [
    {
     "data": {
      "text/plain": [
       "[Function]"
      ]
     },
     "execution_count": 44,
     "metadata": {},
     "output_type": "execute_result"
    }
   ],
   "source": [
    "// Para los parámetros manufacturer y model\n",
    "function Smartphone(manufacturer, model) {\n",
    "  this.manufacturer = manufacturer;\n",
    "  this.model = model;\n",
    "  // Para la función getModel\n",
    "  this.getModel = function() {\n",
    "    return this.model;\n",
    "  }\n",
    "}\n",
    "\n",
    "// Para la función ring\n",
    "// agregar el metodo ring, para todos los objetos de clase Smartphone:\n",
    "Smartphone.prototype.ring = function() {\n",
    "  console.log('Ring...ring...ring');\n",
    "}"
   ]
  },
  {
   "cell_type": "code",
   "execution_count": 56,
   "metadata": {},
   "outputs": [],
   "source": [
    "// Solución del profe:\n",
    "// 1. manufacturer: es privado, solo se pueden acceder los\n",
    "// que tengan su scope/closure\n",
    "\n",
    "// 2. model: es privilegiado, es de acceso publico ( con getmodel() ), pero\n",
    "// puede acceder a propiedades privadas.\n",
    "\n",
    "\n",
    "// 3. las funciones asignadas al prototipo, (fuera del constructor) \n",
    "// son de tipo publicas. No podran accer a propiedades privadas,\n",
    "// pero si a las que son privilegiadas.\n"
   ]
  },
  {
   "cell_type": "code",
   "execution_count": 57,
   "metadata": {},
   "outputs": [
    {
     "name": "stdout",
     "output_type": "stream",
     "text": [
      "Nokia\n",
      "1234\n",
      "1234\n",
      "Ring...ring...ring\n"
     ]
    }
   ],
   "source": [
    "// En la practica.. wtf? no caché\n",
    "var s1 = new Smartphone('Nokia', '1234');\n",
    "console.log(s1.manufacturer); // es publico.\n",
    "\n",
    "console.log(s1.model); // es publico\n",
    "console.log(s1.getModel()); // ? tener un getter? que lo hace, si igual se puede acceder publicamente\n",
    "\n",
    "s1.ring(); // metodo publico, atambipen puedo acceder altiro"
   ]
  },
  {
   "cell_type": "markdown",
   "metadata": {},
   "source": [
    "# Al parecer agregando '_' antes de los atributos, tiene sentido todo:"
   ]
  },
  {
   "cell_type": "code",
   "execution_count": 58,
   "metadata": {},
   "outputs": [
    {
     "data": {
      "text/plain": [
       "[Function]"
      ]
     },
     "execution_count": 58,
     "metadata": {},
     "output_type": "execute_result"
    }
   ],
   "source": [
    "// Para los parámetros manufacturer y model\n",
    "function Smartphone2(manufacturer, model) {\n",
    "  this._manufacturer = manufacturer;\n",
    "  this._model = model;\n",
    "  // Para la función getModel\n",
    "  this.getModel = function() {\n",
    "    return this._model;\n",
    "  }\n",
    "}\n",
    "\n",
    "// Para la función ring\n",
    "// agregar el metodo ring, para todos los objetos de clase Smartphone:\n",
    "Smartphone2.prototype.ring = function() {\n",
    "  console.log('Ring...ring...ring');\n",
    "}"
   ]
  },
  {
   "cell_type": "code",
   "execution_count": 64,
   "metadata": {},
   "outputs": [
    {
     "name": "stdout",
     "output_type": "stream",
     "text": [
      "undefined\n",
      "undefined\n",
      "1234\n",
      "Ring...ring...ring\n"
     ]
    }
   ],
   "source": [
    "// En la practica.. wtf? no caché\n",
    "var s1 = new Smartphone2('Nokia', '1234');\n",
    "var s2 = new Smartphone2('Huawei', '9876');\n",
    "console.log(s1.manufacturer);\n",
    "// es privado: lo puedo llamar solo dentro de la clase, con 'this'\n",
    "console.log(s1.model); \n",
    "// privilegiado, atributo que lo puedo llamar solo dentro de la clase con 'this'\n",
    "// o por otro objeto de la misma clase (pero siempre dentro de su constructor)\n",
    "console.log(s1.getModel()); // hacer un getter lo hace privilegiado.\n",
    "\n",
    "s1.ring(); // metodo publico, lo puedo llamar dentro y fuera de la clase."
   ]
  },
  {
   "cell_type": "code",
   "execution_count": null,
   "metadata": {},
   "outputs": [],
   "source": [
    "// Solución profe: \n",
    "// Para el primer caso, son de tipo privado. \n",
    "// Sólo podrán ser accesibles para aquellos que los tengan en su scope/closure.\n",
    "\n",
    "// Para el segundo caso, la función tiene un nivel de acceso provilegiado.\n",
    "// Serán de acceso público, pero podrán acceder a las propiedades privadas.\n",
    "\n",
    "// Finalmente, las funciones que se asignen al prototipo (fuera del constructor)\n",
    "// serán de tipo públicas.\n",
    "// No podrán acceder a las propiedades privadas pero sí a aquellas \n",
    "// de tipo provilegiadas"
   ]
  }
 ],
 "metadata": {
  "kernelspec": {
   "display_name": "Javascript (Node.js)",
   "language": "javascript",
   "name": "javascript"
  },
  "language_info": {
   "file_extension": ".js",
   "mimetype": "application/javascript",
   "name": "javascript",
   "version": "10.20.1"
  }
 },
 "nbformat": 4,
 "nbformat_minor": 2
}
