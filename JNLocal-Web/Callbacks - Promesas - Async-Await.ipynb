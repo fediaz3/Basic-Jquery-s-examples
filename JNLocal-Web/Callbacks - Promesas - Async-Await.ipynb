{
 "cells": [
  {
   "cell_type": "markdown",
   "metadata": {},
   "source": [
    "- el mejor link para este tema: https://youtu.be/8aGhZQkoFbQ\n",
    "\n",
    "- loupe:  http://latentflip.com/loupe/?code=JC5vbignYnV0dG9uJywgJ2NsaWNrJywgZnVuY3Rpb24gb25DbGljaygpIHsKICAgIHNldFRpbWVvdXQoZnVuY3Rpb24gdGltZXIoKSB7CiAgICAgICAgY29uc29sZS5sb2coJ1lvdSBjbGlja2VkIHRoZSBidXR0b24hJyk7ICAgIAogICAgfSwgMjAwMCk7Cn0pOwoKY29uc29sZS5sb2coIkhpISIpOwoKc2V0VGltZW91dChmdW5jdGlvbiB0aW1lb3V0KCkgewogICAgY29uc29sZS5sb2coIkNsaWNrIHRoZSBidXR0b24hIik7Cn0sIDUwMDApOwoKY29uc29sZS5sb2coIldlbGNvbWUgdG8gbG91cGUuIik7!!!PGJ1dHRvbj5DbGljayBtZSE8L2J1dHRvbj4%3D\n",
    "\n",
    "- Loupe example 2: http://latentflip.com/loupe/?code=Ly9Gb3IgRWFjaCBzaW5jcm9ubwpbMSwgMiwgMywgNF0uZm9yRWFjaCggZnVuY3Rpb24gKGkpIHsKICAgIGNvbnNvbGUubG9nKGkpOwp9KTsKCi8vIEFzaWNyb25vICggbm8gaGF5IHNpbmNyb25pYSBlbnRyZSBsbGFtYWRhcykKCmZ1bmN0aW9uIGFzeW5jRm9yRWFjaChhcnJheSwgY2FsbGJhY2spewogICAgYXJyYXkuZm9yRWFjaChmdW5jdGlvbiAoKSB7CiAgICAgc2V0VGltZW91dChjYWxsYmFjaywgNTAwMCk7CiAgICB9KQp9Cgphc3luY0ZvckVhY2goWzEsIDIsIDMsIDRdLCBmdW5jdGlvbihpKSB7IAogICAgY29uc29sZS5sb2coaSk7Cn0pOwo%3D!!!"
   ]
  },
  {
   "cell_type": "markdown",
   "metadata": {},
   "source": [
    " # Necesidad de usar promesas\n",
    "\n",
    "-  problema donde requerirás el resultado de funciones asíncronas previas para seguir procesando los resultados y eventualmente puedes terminar con algo parecido a esto…\n",
    "\n",
    "- El Callback Hell (triangulito) ( dependencia en cascada)\n",
    "\n",
    "- La causa del callback hell: ( lo que queremos evitar) es cuando las personas intentan escribir JavaScript de forma tal que la ejecución se realiza visualmente de arriba a abajo. ¡Mucha gente comete este error!\n",
    "- En otros lenguajes como C, Java o Python, existe la expectativa de que todo lo que sucede en la línea 1 finalizará antes de que el código en la línea 2 comience a ejecutarse, y así sucesivamente en el archivo.\n",
    "- Como lo sabrás, JavaScript es diferente"
   ]
  },
  {
   "cell_type": "markdown",
   "metadata": {},
   "source": [
    "## ¿Qué son los Callbacks ?\n",
    "- un tipo de función de javascript ( el nombre es solo una convención para referirnos a ellas)\n",
    "\n",
    "- Las funciones que usan callbacks, se demoran un tiempo en producir un resultado.\n",
    "\n",
    "- La palabra 'asincrono' o 'async': solo significa 'requiere algo de tiempo' o 'sucede en el futuro, no en este momento'\n",
    "\n",
    "- en general; los callbacks solo se utilizando al hacer I/O. Ejemplo: descargar cosas, leer archivos, hablar con bases de datos, etc"
   ]
  },
  {
   "cell_type": "code",
   "execution_count": 2,
   "metadata": {},
   "outputs": [
    {
     "name": "stdout",
     "output_type": "stream",
     "text": [
      "50\n"
     ]
    }
   ],
   "source": [
    "// FUNCION NORMAL, se puede usar su valor de regreso altiro.\n",
    "var multiplicar = (a, b) => {return a * b}\n",
    "var result = multiplicar(5, 10)\n",
    "console.log(result)"
   ]
  },
  {
   "cell_type": "code",
   "execution_count": null,
   "metadata": {},
   "outputs": [],
   "source": [
    "//pd: no ejecutar este bloque, es solo un ejemplo \n",
    "// FUNCIÓN ASINCRONA QUE USA CALLBACKS\n",
    "// no lo devuelve altiro, se demora un tiempo.\n",
    "\n",
    "var photo = downloadPhoto('http://coolcats.com/cat.gif')\n",
    "// photo no está definida en este momento"
   ]
  },
  {
   "cell_type": "markdown",
   "metadata": {},
   "source": [
    "#### El archivo GIF puede tardar en descargarse y no queremos que el programa se bloquee mientras se espera que finalice la descarga\n",
    "\n",
    "Entonces:\n",
    "\n",
    "- Escribo el codigo que deberia ejecutarse después de completar la descarga en una función (ESTE ES EL CALLBACK)\n",
    "\n",
    "- EL callback, se lo paso a la función downloadPhoto -> downloadPhoto ejecuta el callback cuando se complete la descarga y pasará la foto (o un error si algo salio mal)\n"
   ]
  },
  {
   "cell_type": "code",
   "execution_count": null,
   "metadata": {},
   "outputs": [],
   "source": [
    "//función asincrona que se demora un tiempo: 'downloadPhoto'\n",
    "// le paso un callback: 'handlephoto'\n",
    "\n",
    "//TENER EN CABEZA EL EVENT LOOP APRENDIDO.\n",
    "\n",
    "function handlePhoto(error, photo) { \n",
    "  if (error) console.error('Download error!', error) \n",
    "  else console.log('Download finished', photo)\n",
    "} // Es solo una forma, \n",
    "// de guardar cosas que se van hacer después de la funcion asincrona\n",
    "\n",
    "downloadPhoto('http://coolcats.com/cat.gif', handlePhoto)\n",
    "\n",
    "\n",
    "console.log('Download started')\n",
    "\n",
    "// una vez que termine la descarga(la función asincrona termina)\n",
    "// entonces se ejecuta el callback: 'handlePhoto'\n",
    "\n",
    "// si hay error -> muestra el error\n",
    "// si no hay error -> muestra la foto\n"
   ]
  },
  {
   "cell_type": "markdown",
   "metadata": {},
   "source": [
    "## Más de Callbacks\n",
    "- Es una función que se pasa como argumento a otra función\n",
    "- Este callback se va ejecutar dentro de la función a la cual la estamos pasando para completar una tarea o rutina\n",
    "- Le llamo 'la función rutina'\n",
    "\n",
    "- Al pasar un callback: pensar que: va ser la función rutina que se va ejecutar alfinal(tipicamente al final) de la función a la cual la estoy pasando\n",
    "\n",
    "- Se puede definir antes o definir donde mismo estoy pasandola como callback"
   ]
  },
  {
   "cell_type": "code",
   "execution_count": null,
   "metadata": {},
   "outputs": [],
   "source": [
    "// sumar 2 numeros,\n",
    "// el resultado elevarlo al cuadrado\n",
    "// el resultado dividirlo entre 2\n",
    "// el resultado restarle 100\n",
    "// el resultado, validar si es mayor a 0\n"
   ]
  },
  {
   "cell_type": "code",
   "execution_count": 3,
   "metadata": {},
   "outputs": [
    {
     "name": "stdout",
     "output_type": "stream",
     "text": [
      "resultado suma:  13\n"
     ]
    }
   ],
   "source": [
    "function sumar(num1, num2, callback){\n",
    "    callback(num1 + num2); // le pasa el resultado: num1 + num2, \n",
    "                          // al callback directamente\n",
    "}\n",
    "\n",
    "sumar(8, 5, function(res_suma){\n",
    "    console.log('resultado suma: ', res_suma);\n",
    "})"
   ]
  },
  {
   "cell_type": "code",
   "execution_count": 4,
   "metadata": {},
   "outputs": [
    {
     "name": "stdout",
     "output_type": "stream",
     "text": [
      "resultado suma:  13\n",
      "al cuadrado:  169\n"
     ]
    }
   ],
   "source": [
    "// Ahora la elevo al cuadrado\n",
    "function sumar(num1, num2, callback){\n",
    "    callback(num1 + num2); // le pasa el resultado: num1 + num2, \n",
    "                          // al callback directamente\n",
    "}\n",
    "\n",
    "function cuadrado(num, callback){ // agrego esta función cuadrado\n",
    "    callback(num**2);\n",
    "}\n",
    "\n",
    "sumar(8, 5, function(res_suma){\n",
    "    console.log('resultado suma: ', res_suma);\n",
    "    cuadrado(res_suma, function(res_cuadrado){  // llamo a la función cuadrado, pasandole resultado de recién\n",
    "        console.log('al cuadrado: ', res_cuadrado) // la función cuadrado, antes de terminar llama a su callback, el cual nos pasa el resultado al cuadrado\n",
    "    })\n",
    "})"
   ]
  },
  {
   "cell_type": "code",
   "execution_count": 5,
   "metadata": {},
   "outputs": [
    {
     "name": "stdout",
     "output_type": "stream",
     "text": [
      "resultado suma:  13\n",
      "al cuadrado:  169\n",
      "dividir entre 2: 84.5\n"
     ]
    }
   ],
   "source": [
    "// Ahora lo divido en 2\n",
    "function sumar(num1, num2, callback){\n",
    "    callback(num1 + num2); // le pasa el resultado: num1 + num2, \n",
    "                          // al callback directamente\n",
    "}\n",
    "\n",
    "function cuadrado(num, callback){ // agrego esta función cuadrado\n",
    "    callback(num**2);\n",
    "}\n",
    "\n",
    "function dividir(num, callback){\n",
    "    callback(num / 2);\n",
    "}\n",
    "\n",
    "sumar(8, 5, function(res_suma){\n",
    "    console.log('resultado suma: ', res_suma);\n",
    "    cuadrado(res_suma, function(res_cuadrado){ \n",
    "        console.log('al cuadrado: ', res_cuadrado) \n",
    "        dividir(res_cuadrado, function(res_dividir){ //funcion dividir, pasandole el resultado de recién\n",
    "            console.log('dividir entre 2:', res_dividir)\n",
    "        })\n",
    "    })\n",
    "})"
   ]
  },
  {
   "cell_type": "code",
   "execution_count": 6,
   "metadata": {},
   "outputs": [
    {
     "name": "stdout",
     "output_type": "stream",
     "text": [
      "resultado suma:  13\n",
      "al cuadrado:  169\n",
      "dividir entre 2: 84.5\n",
      "restado los 100:  -15.5\n"
     ]
    }
   ],
   "source": [
    "// Ahora le resto 100\n",
    "function sumar(num1, num2, callback){\n",
    "    callback(num1 + num2); // le pasa el resultado: num1 + num2, \n",
    "                          // al callback directamente\n",
    "}\n",
    "\n",
    "function cuadrado(num, callback){ // agrego esta función cuadrado\n",
    "    callback(num**2);\n",
    "}\n",
    "\n",
    "function dividir(num, callback){\n",
    "    callback(num / 2);\n",
    "}\n",
    "\n",
    "function restar100(num, callback){\n",
    "    callback(num - 100);\n",
    "}\n",
    "\n",
    "sumar(8, 5, function(res_suma){\n",
    "    console.log('resultado suma: ', res_suma);\n",
    "    cuadrado(res_suma, function(res_cuadrado){  // llamo a la función cuadrado, pasandole resultado de recién\n",
    "        console.log('al cuadrado: ', res_cuadrado); // la función cuadrado, antes de terminar llama a su callback, el cual nos pasa el resultado al cuadrado\n",
    "        dividir(res_cuadrado, function(res_dividir){\n",
    "            console.log('dividir entre 2:', res_dividir);\n",
    "            restar100(res_dividir, function(res_restar){\n",
    "                console.log('restado los 100: ', res_restar);\n",
    "            })\n",
    "        })\n",
    "    })\n",
    "})"
   ]
  },
  {
   "cell_type": "code",
   "execution_count": 7,
   "metadata": {},
   "outputs": [
    {
     "name": "stdout",
     "output_type": "stream",
     "text": [
      "resultado suma:  13\n",
      "al cuadrado:  169\n",
      "dividir entre 2: 84.5\n",
      "restado los 100:  -15.5\n",
      "menor o igual a cero\n"
     ]
    }
   ],
   "source": [
    "// veo si es mayor a 0\n",
    "function sumar(num1, num2, callback){\n",
    "    callback(num1 + num2); // le pasa el resultado: num1 + num2, \n",
    "                          // al callback directamente\n",
    "}\n",
    "\n",
    "function cuadrado(num, callback){ // agrego esta función cuadrado\n",
    "    callback(num**2);\n",
    "}\n",
    "\n",
    "function dividir(num, callback){\n",
    "    callback(num / 2);\n",
    "}\n",
    "\n",
    "function restar100(num, callback){\n",
    "    callback(num - 100);\n",
    "}\n",
    "\n",
    "function mayoracero(num, callback){\n",
    "    if (num > 0) callback('Mayor a cero')\n",
    "    else callback('menor o igual a cero')\n",
    "}\n",
    "\n",
    "sumar(8, 5, function(res_suma){\n",
    "    console.log('resultado suma: ', res_suma);\n",
    "    cuadrado(res_suma, function(res_cuadrado){  // llamo a la función cuadrado, pasandole resultado de recién\n",
    "        console.log('al cuadrado: ', res_cuadrado); // la función cuadrado, antes de terminar llama a su callback, el cual nos pasa el resultado al cuadrado\n",
    "        dividir(res_cuadrado, function(res_dividir){\n",
    "            console.log('dividir entre 2:', res_dividir);\n",
    "            restar100(res_dividir, function(res_restar){\n",
    "                console.log('restado los 100: ', res_restar);\n",
    "                mayoracero(res_restar, function(res_final){\n",
    "                    console.log(res_final);\n",
    "                })\n",
    "            })\n",
    "        })\n",
    "    })\n",
    "})"
   ]
  },
  {
   "cell_type": "markdown",
   "metadata": {},
   "source": [
    "VEO QUE UN RESULTADO DEPENDE DEL ANTERIOR\n",
    "\n",
    "- Pero es feo, cuando se forma esta callback hell o pirámide de la perdición\n",
    "- Son dificiles de mantener.\n",
    "- Pero este es el famoso callback hell que se forma, y por eso es mejor usa promesas o Async/Awaits"
   ]
  },
  {
   "cell_type": "markdown",
   "metadata": {},
   "source": [
    "# Usar Promesas \n",
    "\n",
    "- Imagina que eres un niño. Tu mamá te promete que te comprará un nuevo teléfono la próxima semana\n",
    "Tu no sabes si obtendrás el teléfono hasta la siguiente semana. Tú mamá puede realmente comprarte el teléfono, o no comprártelo si no te portas bien. :(\n",
    "Eso es una promesa. Una promesa tienes 3 estados:\n",
    "- Promesa pendiente: Tú no sabes si obtendrás el teléfono hasta la siguiente semana.\n",
    "- Promesa resuelta: Tú mamá realmente te compró el nuevo teléfono.- \n",
    "- Promesa rechazada: Tú mamá no te compró el teléfono por que no te portaste bien"
   ]
  },
  {
   "cell_type": "code",
   "execution_count": 8,
   "metadata": {},
   "outputs": [
    {
     "name": "stdout",
     "output_type": "stream",
     "text": [
      "Response: La operación fue un exito\n"
     ]
    }
   ],
   "source": [
    "var promesa = new Promise( (resolve, reject) => {\n",
    "    if (true) {\n",
    "        resolve(\"La operación fue un exito\");\n",
    "    } else {\n",
    "        reject(\"Ocurrio un Error\");\n",
    "    }\n",
    "})\n",
    "\n",
    "promesa // \"Te voy a comprar un celular, no ahora, dps..\"\n",
    "    .then( (response) => { //response: resultado de resolve\n",
    "        console.log(\"Response:\", response)\n",
    "    })\n",
    "    .catch((error) => { //error: resultado de reject\n",
    "        console.log(\"Error: \", error)\n",
    "    })"
   ]
  },
  {
   "cell_type": "code",
   "execution_count": 9,
   "metadata": {},
   "outputs": [
    {
     "name": "stdout",
     "output_type": "stream",
     "text": [
      "Esperando la promesa...\n",
      "Response: La operación fue un exito\n"
     ]
    }
   ],
   "source": [
    "// Notar que una promesa solo puede estar en 1 estado de los 3.\n",
    "\n",
    "// pendiente, resuelto o rechazado.\n",
    "\n",
    "//**setTimeout(function, milisegundosminimos)\n",
    "// function: en este caso la declaramos como funcion flecha\n",
    "// si la declaramos ahí es una forma de llamarla tbm.\n",
    "\n",
    "var promesa = new Promise( (resolve, reject) => {\n",
    "    console.log('Esperando la promesa...')\n",
    "    \n",
    "    setTimeout(() => {\n",
    "        resolve('La operación fue un exito');\n",
    "    }, 2000);\n",
    "    \n",
    "    setTimeout(() => {\n",
    "        reject(\"Ocurrió un error\")\n",
    "    }, 5000);\n",
    "    \n",
    "});\n",
    "\n",
    "promesa //\"Te voy a comprar un celular, no ahora, dps..\"\n",
    "    .then( (response) => { //response: resultado de resolve\n",
    "        console.log(\"Response:\", response)\n",
    "    })\n",
    "    .catch((error) => { //error: resultado de reject\n",
    "        console.log(\"Error: \", error)\n",
    "    })\n",
    "\n",
    "\n",
    "// NOTAR QUE:  \n",
    "// La promesa fue resuelta -> está en estado resolve( en 2s)\n",
    "// dps pasa por rechazado (en 5s), pero no devuelve nada\n",
    "// porque no puede estar en 2 estados.\n",
    "// y termina el programa."
   ]
  },
  {
   "cell_type": "markdown",
   "metadata": {},
   "source": [
    "# Promesas encadenadas ( callbacks hells más legibles)"
   ]
  },
  {
   "cell_type": "code",
   "execution_count": 11,
   "metadata": {},
   "outputs": [
    {
     "name": "stdout",
     "output_type": "stream",
     "text": [
      "Primera promesa exitosa\n",
      "Segunda promesa exitosa\n",
      "Terca promesa exitosa\n"
     ]
    }
   ],
   "source": [
    "var PrimeraPromesa = new Promise((resolve, reject) => {\n",
    "    resolve(\"Primera promesa exitosa\");\n",
    "    //reject(\"Error en la primera promesa\");\n",
    "\n",
    "});\n",
    "\n",
    "var SegundaPromesa = new Promise((resolve, reject) => {\n",
    "    resolve(\"Segunda promesa exitosa\")\n",
    "    //reject(\"Error en la segunda promesa\");\n",
    "\n",
    "});\n",
    "\n",
    "var UltimaPromesa = new Promise((resolve, reject) => {\n",
    "    resolve(\"Terca promesa exitosa\")\n",
    "    //reject(\"Error en la tercera promesa\");\n",
    "\n",
    "});\n",
    "\n",
    "PrimeraPromesa\n",
    "    .then(\n",
    "        response => {\n",
    "            console.log(response);\n",
    "            return SegundaPromesa; // si la 1era promesa se resuelve ->  retorno la 2da promesa\n",
    "        }\n",
    "    )\n",
    "    .then(\n",
    "        response_2dapromesa => {\n",
    "            console.log(response_2dapromesa);\n",
    "            return UltimaPromesa; // si la 2da promesa se resuelve -> retorno la 3era promesa\n",
    "        }\n",
    "    )\n",
    "    .then(\n",
    "        response_3rapromesa => {\n",
    "            console.log(response_3rapromesa);\n",
    "        }\n",
    "    )\n",
    "    .catch(\n",
    "        error => {\n",
    "            console.log('El error es:', error);\n",
    "        }\n",
    "    )"
   ]
  },
  {
   "cell_type": "markdown",
   "metadata": {},
   "source": [
    "Notar que:\n",
    "\n",
    "- Si se ejecuta un resolve antes de un reject -> el reject se ejecuta pero no devuelve nada ( lo mismo alrevés), porque no puede tomar 2 estados.\n",
    "\n",
    "- El catch, puede agarrar el error de cualquier promesa que esté encadenada antes de él: (la 1ra o las retornadas en los then)\n",
    "\n",
    "- Si la agarra, las siguientes no se ejecutan."
   ]
  },
  {
   "cell_type": "code",
   "execution_count": 13,
   "metadata": {},
   "outputs": [
    {
     "name": "stdout",
     "output_type": "stream",
     "text": [
      "La operación fue un exito\n"
     ]
    }
   ],
   "source": [
    "var promesa2 = new Promise( (resolve, reject) => {\n",
    "    if (true) {\n",
    "        resolve(\"La operación fue un exito\");\n",
    "    } else {\n",
    "        reject(\"Ocurrio un Error\");\n",
    "    }\n",
    "})\n",
    "\n",
    "\n",
    "promesa2\n",
    "    .then(console.log) // es lo mismo que abajo\n",
    "    //.then( (response) => {console.log(response)})\n",
    "\n",
    "\n",
    "//promesa2.then(console.log) // tbm sirve escribir todo seguido.\n"
   ]
  },
  {
   "cell_type": "markdown",
   "metadata": {},
   "source": [
    "# Promise.all( [p1, p2, ..., pn] )\n",
    "- Sigue el then solo si todas las promesas se resuelven y el response: es una lista que cada elemento es la respuesta de cada promesa en particular (En el orden en que ponga las promesas en el array que recibe promise.all)\n",
    "- Si rechaza una promesa -> se captura por cach\n",
    "\n",
    "- retorna o 'crea' una promesa pendiente, que se resuelve solo si todas las promesas p1, ..., pn se resuelven\n",
    "- para poder capturar una lsita con las respuetas de p1,..., pn hay que usar then o await\n"
   ]
  },
  {
   "cell_type": "code",
   "execution_count": 14,
   "metadata": {},
   "outputs": [
    {
     "name": "stdout",
     "output_type": "stream",
     "text": [
      "[ 'Segunda promesa exitosa',\n",
      "  'Primera promesa exitosa',\n",
      "  'Terca promesa exitosa' ]\n"
     ]
    }
   ],
   "source": [
    "var P1 = new Promise((resolve, reject) => {\n",
    "    resolve(\"Primera promesa exitosa\");\n",
    "    //reject(\"Error en la primera promesa\");\n",
    "\n",
    "});\n",
    "\n",
    "var P2 = new Promise((resolve, reject) => {\n",
    "    resolve(\"Segunda promesa exitosa\")\n",
    "    //reject(\"Error en la segunda promesa\");\n",
    "\n",
    "});\n",
    "\n",
    "var P3 = new Promise((resolve, reject) => {\n",
    "    resolve(\"Terca promesa exitosa\")\n",
    "    //reject(\"Error en la tercera promesa\");\n",
    "\n",
    "});\n",
    "\n",
    "\n",
    "Promise.all([P2, P1, P3]) // retorna una promesa, que se resuelve solo si las promesas: p1, p2, p3 se resuelven :D\n",
    "    .then( values => {\n",
    "        console.log(values);\n",
    "    })\n",
    "    \n",
    "    .catch( error => {\n",
    "        console.log(error); // recorre todas las promesas, \n",
    "                            // pero si una se rechaza, tira el error de esta.\n",
    "    })"
   ]
  },
  {
   "cell_type": "code",
   "execution_count": 15,
   "metadata": {},
   "outputs": [
    {
     "name": "stdout",
     "output_type": "stream",
     "text": [
      "[ 'Segunda promesa exitosa',\n",
      "  'Primera promesa exitosa',\n",
      "  'Terca promesa exitosa' ]\n"
     ]
    }
   ],
   "source": [
    "async function esperar_promesas(){\n",
    "    \n",
    "    valores = await Promise.all([P2, P1, P3])\n",
    "    console.log(valores)\n",
    "}\n",
    "\n",
    "esperar_promesas()"
   ]
  },
  {
   "cell_type": "markdown",
   "metadata": {},
   "source": [
    "## Esperar una promesa que contiene n promesas, las que cada una tiene m promesas\n",
    "#### PUEDO ESPERAR MULTIPLES PROMESAS\n"
   ]
  },
  {
   "cell_type": "code",
   "execution_count": 16,
   "metadata": {},
   "outputs": [
    {
     "name": "stdout",
     "output_type": "stream",
     "text": [
      "Promise { <pending> }\n",
      "Promise { <pending> }\n",
      "Promise { <pending> }\n",
      "[ [ 'a1 promesa exitosa',\n",
      "    'a2 promesa exitosa',\n",
      "    'a3 promesa exitosa' ],\n",
      "  [ 'b1 promesa exitosa',\n",
      "    'b2 promesa exitosa',\n",
      "    'b3 promesa exitosa' ],\n",
      "  [ 'c1 promesa exitosa',\n",
      "    'c2 promesa exitosa',\n",
      "    'c3 promesa exitosa' ] ]\n"
     ]
    }
   ],
   "source": [
    "var a1 = new Promise((resolve, reject) => {\n",
    "    resolve(\"a1 promesa exitosa\");\n",
    "});\n",
    "var a2 = new Promise((resolve, reject) => {\n",
    "    resolve(\"a2 promesa exitosa\");\n",
    "});\n",
    "var a3 = new Promise((resolve, reject) => {\n",
    "    resolve(\"a3 promesa exitosa\");\n",
    "});\n",
    "                     \n",
    "var b1 = new Promise((resolve, reject) => {\n",
    "    resolve(\"b1 promesa exitosa\");\n",
    "});\n",
    "var b2 = new Promise((resolve, reject) => {\n",
    "    resolve(\"b2 promesa exitosa\");\n",
    "});\n",
    "var b3 = new Promise((resolve, reject) => {\n",
    "    resolve(\"b3 promesa exitosa\");\n",
    "});\n",
    "\n",
    "var c1 = new Promise((resolve, reject) => {\n",
    "    resolve(\"c1 promesa exitosa\");\n",
    "});\n",
    "var c2 = new Promise((resolve, reject) => {\n",
    "    resolve(\"c2 promesa exitosa\");\n",
    "});\n",
    "var c3 = new Promise((resolve, reject) => {\n",
    "    resolve(\"c3 promesa exitosa\");\n",
    "});\n",
    "\n",
    "var a = Promise.all([a1, a2, a3]); // retorna (\"crea\") una promesa pendiente que se compone de las promesas: a1, a2 y a3. \n",
    "                                    // Si se resuelven a1, a2, y a3 entonces se resuelve la promesa 'Promise.all'\n",
    "console.log(a) \n",
    "\n",
    "var b = Promise.all([b1, b2, b3]);\n",
    "console.log(b)\n",
    "\n",
    "var c = Promise.all([c1, c2, c3]);\n",
    "console.log(c);\n",
    "\n",
    "async function esperar_promesas_compuestas_de_promesas(){\n",
    "        valores = await Promise.all([a, b, c]) // retorna una promesa pendiente, \n",
    "                                  // y se resuelve si se resuelven las promesas a, b y c\n",
    "                                  // la promesa a: se resuelve si se resuelven las promesas: a1, a2, a3\n",
    "                                  // la promesa b: se resuelve si se resuelven las promesas: b1, b2, b3\n",
    "                                  // la promesa c: se resuelve si se resuelven las promesas: c1, c2, c3\n",
    "    \n",
    "        // SOLO SI Promise.all SE RESUELVE -> en el THEN o en en AWAIT se captura la respuesta(response) de \n",
    "        // Promise.all y es una lista donde cada elemento  es la respuesta (RESPONSE) de las promesas que lo componen.\n",
    "        console.log(valores);\n",
    "}\n",
    "\n",
    "\n",
    "esperar_promesas_compuestas_de_promesas()"
   ]
  },
  {
   "cell_type": "markdown",
   "metadata": {},
   "source": [
    "### Mapear una lista de objetos y convertila en lista de promesas\n",
    "\n",
    "- cada objeto va hacer su promesa pendiente, y la vamos esperar que todos la cumplan. "
   ]
  },
  {
   "cell_type": "code",
   "execution_count": 31,
   "metadata": {},
   "outputs": [],
   "source": [
    "class Re {\n",
    "    constructor(ancho , largo){\n",
    "        this.ancho = ancho;\n",
    "        this.largo = largo;\n",
    "    }\n",
    "    \n",
    "    \n",
    "    calcular_area() { // metodo prototype (metodo normal)\n",
    "        return this.ancho * this.largo\n",
    "    }\n",
    "    \n",
    "    calcular_perimetro() {\n",
    "        // defino la promesa\n",
    "        var prometo_calcular = new Promise( (resolve, reject) => {\n",
    "           let resultado = (this.ancho * 2) + (this.largo * 2);\n",
    "           // dare un tiempo que se demore la promesa en dar el resultado: \n",
    "           setTimeout(function esperar() {\n",
    "               resolve(resultado);\n",
    "           }, 2000) \n",
    "        })\n",
    "        \n",
    "        return prometo_calcular \n",
    "    }\n",
    "}\n",
    "// solamente ejecutar una vez el constructor"
   ]
  },
  {
   "cell_type": "code",
   "execution_count": 43,
   "metadata": {},
   "outputs": [
    {
     "name": "stdout",
     "output_type": "stream",
     "text": [
      "Promise { <pending> }\n",
      "Perimetro: 14\n"
     ]
    }
   ],
   "source": [
    "var r1 = new Re(3, 4);\n",
    "\n",
    "console.log(r1.calcular_perimetro());\n",
    "\n",
    "\n",
    "r1.calcular_perimetro()\n",
    "  .then( (response) => {console.log('Perimetro:', response)})"
   ]
  },
  {
   "cell_type": "code",
   "execution_count": 57,
   "metadata": {},
   "outputs": [
    {
     "name": "stdout",
     "output_type": "stream",
     "text": [
      "Lista de rectangulos:  [ Re { ancho: 2, largo: 3 },\n",
      "  Re { ancho: 4, largo: 5 },\n",
      "  Re { ancho: 6, largo: 7 },\n",
      "  Re { ancho: 8, largo: 9 } ]\n",
      "Lista de promesas: [ Promise { <pending> },\n",
      "  Promise { <pending> },\n",
      "  Promise { <pending> },\n",
      "  Promise { <pending> } ]\n",
      "Valores:  [ 10, 18, 26, 34 ]\n"
     ]
    }
   ],
   "source": [
    "var r2 = new Re(2, 3)\n",
    "var r3 = new Re(4, 5)\n",
    "var r4 = new Re(6, 7)\n",
    "var r5 = new Re(8, 9)\n",
    "\n",
    "var lista_rectangulos = [r2, r3, r4, r5];\n",
    "console.log('Lista de rectangulos: ', lista_rectangulos)\n",
    "\n",
    "// de rectangulos a promesas\n",
    "var list_promesas = lista_rectangulos.map( elem => elem.calcular_perimetro())\n",
    "\n",
    "console.log('Lista de promesas:', list_promesas)\n",
    "\n",
    "\n",
    "Promise.all(list_promesas)\n",
    "    .then(response => {\n",
    "      console.log('Valores: ', response)\n",
    "})\n",
    "\n"
   ]
  },
  {
   "cell_type": "markdown",
   "metadata": {},
   "source": []
  },
  {
   "cell_type": "markdown",
   "metadata": {},
   "source": [
    "# Async/ Await apuntes\n",
    "\n",
    "\n",
    "- Otra forma de mejorar tu código y en lo personal mi favorita, es usando funciones async.\n",
    "- Esto nos permitirá escribir código que se parece más a un código sincrono, sin embargo sigue siendo asincrono."
   ]
  },
  {
   "cell_type": "markdown",
   "metadata": {},
   "source": [
    "# Async \n",
    "#### - poner `async` antes de 'function' significa una cosa simple: la función que estamos definiendo siempre retorna una promesa. \n",
    "\n",
    "#### - si retorna otro tipo de valor ->  se envuelven y retorna una promesa resuelta con este valor (como respuesta)\n",
    "\n",
    "#### - poner `async` antes de 'function': Es una función asincrona -> requiere algo de tiempo, o sucede en el futuro, no en este momento altiro.\n",
    "\n",
    "- Por lo tanto: async se asegura que la función devuelva una promesa y envuelva las no promesas en ella. y la define como función asincrona\n"
   ]
  },
  {
   "cell_type": "code",
   "execution_count": 17,
   "metadata": {},
   "outputs": [
    {
     "data": {
      "text/plain": [
       "1"
      ]
     },
     "execution_count": 17,
     "metadata": {},
     "output_type": "execute_result"
    }
   ],
   "source": [
    "async function funcion2() {\n",
    "    return Promise.resolve(1) // retorna una promesa resuelta de valor 1\n",
    "}\n",
    "funcion2().then()"
   ]
  },
  {
   "cell_type": "code",
   "execution_count": 18,
   "metadata": {},
   "outputs": [
    {
     "data": {
      "text/plain": [
       "1"
      ]
     },
     "execution_count": 18,
     "metadata": {},
     "output_type": "execute_result"
    }
   ],
   "source": [
    "async function funcion1() {\n",
    "    return 1; //no es una promesa-> lo convierte en un promesa resuelta de valor 1\n",
    "}\n",
    "\n",
    "//funcion1()\n",
    "\n",
    "funcion1().then() // devuelve una promesa resuelta con el resultado de 1.\n"
   ]
  },
  {
   "cell_type": "markdown",
   "metadata": {},
   "source": [
    "# `await <promesa>`: hace que javascript espere hasta que se resuelva la promesa y retorna su resultado \n",
    "\n",
    "- Funciona SOLO DENTRO de las funciones ASINCRONAS ( async functions)\n",
    "\n",
    "- Es una forma más elegante de sintaxis para obtener el resultado prometedor que se usaba con promise.then (esta forma es mas facil de leer)\n",
    "\n",
    "- await no usa ningun recurso de CPU\n",
    "\n",
    "- NO SE PUEDE USAR AWAIT EN FUNCIONES NO ASINCRONAS"
   ]
  },
  {
   "cell_type": "code",
   "execution_count": 19,
   "metadata": {},
   "outputs": [
    {
     "name": "stdout",
     "output_type": "stream",
     "text": [
      "Await hasta que la promesa se resuelva......\n",
      "listo\n"
     ]
    }
   ],
   "source": [
    "async function funcion3(){\n",
    "    var promesa1 = new Promise((resolve, reject) => {\n",
    "        setTimeout(() => resolve('listo'), 3000)\n",
    "    })\n",
    "    \n",
    "    console.log('Await hasta que la promesa se resuelva......')\n",
    "    var resultado = await promesa1; // espera aqui * hasta que la promesa sea resuelta.(resolve)\n",
    "                                    // y cuando se resuelva retorno el resultado(response)\n",
    "    console.log(resultado)\n",
    "}\n",
    "\n",
    "funcion3()"
   ]
  },
  {
   "cell_type": "code",
   "execution_count": 20,
   "metadata": {},
   "outputs": [
    {
     "name": "stdout",
     "output_type": "stream",
     "text": [
      "listo\n"
     ]
    }
   ],
   "source": [
    "function resolveAfter5Seconds(x) { \n",
    "  return new Promise(resolve => {\n",
    "    setTimeout(() => {\n",
    "      resolve(x);\n",
    "    }, 5000);\n",
    "  });\n",
    "}\n",
    "\n",
    "async function funcion_1() {\n",
    "  var x = await resolveAfter5Seconds('listo'); // el await espera a q la promesa se resuelva para seguir\n",
    "  console.log(x); // listo\n",
    "}\n",
    "\n",
    "funcion_1();"
   ]
  },
  {
   "cell_type": "markdown",
   "metadata": {},
   "source": [
    "### Hacer varios await + promesa consecutivos es lo mismo que un callbackhell o promesas encadenadas. \n",
    "~~~ \n",
    "await = promesa1\n",
    "await = promesa2\n",
    "...\n",
    "await  = promesan\n",
    "\n",
    "~~~"
   ]
  }
 ],
 "metadata": {
  "kernelspec": {
   "display_name": "Javascript (Node.js)",
   "language": "javascript",
   "name": "javascript"
  },
  "language_info": {
   "file_extension": ".js",
   "mimetype": "application/javascript",
   "name": "javascript",
   "version": "10.13.0"
  }
 },
 "nbformat": 4,
 "nbformat_minor": 4
}
